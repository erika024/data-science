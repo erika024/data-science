{
  "cells": [
    {
      "cell_type": "markdown",
      "metadata": {
        "id": "view-in-github",
        "colab_type": "text"
      },
      "source": [
        "<a href=\"https://colab.research.google.com/github/erika024/data-science/blob/main/SLF_Project_LearnerNotebook_LowCode.ipynb\" target=\"_parent\"><img src=\"https://colab.research.google.com/assets/colab-badge.svg\" alt=\"Open In Colab\"/></a>"
      ]
    },
    {
      "cell_type": "markdown",
      "metadata": {
        "id": "GrSkDfGgDu3F"
      },
      "source": [
        "# Supervised Learning - Foundations Project: ReCell"
      ]
    },
    {
      "cell_type": "code",
      "source": [
        "from google.colab import drive\n",
        "drive.mount('/content/drive')"
      ],
      "metadata": {
        "colab": {
          "base_uri": "https://localhost:8080/"
        },
        "id": "Vt6Xm1hvOzEQ",
        "outputId": "ac913fb9-620f-4b5f-d4c4-031504413072"
      },
      "execution_count": 1,
      "outputs": [
        {
          "output_type": "stream",
          "name": "stdout",
          "text": [
            "Mounted at /content/drive\n"
          ]
        }
      ]
    },
    {
      "cell_type": "markdown",
      "metadata": {
        "id": "W_Ho8VGKDu3S"
      },
      "source": [
        "## Problem Statement"
      ]
    },
    {
      "cell_type": "markdown",
      "metadata": {
        "id": "RA_GXJwuhmVz"
      },
      "source": [
        "### Business Context\n",
        "\n",
        "Buying and selling used phones and tablets used to be something that happened on a handful of online marketplace sites. But the used and refurbished device market has grown considerably over the past decade, and a new IDC (International Data Corporation) forecast predicts that the used phone market would be worth \\\\$52.7bn by 2023 with a compound annual growth rate (CAGR) of 13.6% from 2018 to 2023. This growth can be attributed to an uptick in demand for used phones and tablets that offer considerable savings compared with new models.\n",
        "\n",
        "Refurbished and used devices continue to provide cost-effective alternatives to both consumers and businesses that are looking to save money when purchasing one. There are plenty of other benefits associated with the used device market. Used and refurbished devices can be sold with warranties and can also be insured with proof of purchase. Third-party vendors/platforms, such as Verizon, Amazon, etc., provide attractive offers to customers for refurbished devices. Maximizing the longevity of devices through second-hand trade also reduces their environmental impact and helps in recycling and reducing waste. The impact of the COVID-19 outbreak may further boost this segment as consumers cut back on discretionary spending and buy phones and tablets only for immediate needs.\n",
        "\n",
        "\n",
        "### Objective\n",
        "\n",
        "The rising potential of this comparatively under-the-radar market fuels the need for an ML-based solution to develop a dynamic pricing strategy for used and refurbished devices. ReCell, a startup aiming to tap the potential in this market, has hired you as a data scientist. They want you to analyze the data provided and build a linear regression model to predict the price of a used phone/tablet and identify factors that significantly influence it.\n",
        "\n",
        "\n",
        "### Data Description\n",
        "\n",
        "The data contains the different attributes of used/refurbished phones and tablets. The data was collected in the year 2021. The detailed data dictionary is given below.\n",
        "\n",
        "\n",
        "- brand_name: Name of manufacturing brand\n",
        "- os: OS on which the device runs\n",
        "- screen_size: Size of the screen in cm\n",
        "- 4g: Whether 4G is available or not\n",
        "- 5g: Whether 5G is available or not\n",
        "- main_camera_mp: Resolution of the rear camera in megapixels\n",
        "- selfie_camera_mp: Resolution of the front camera in megapixels\n",
        "- int_memory: Amount of internal memory (ROM) in GB\n",
        "- ram: Amount of RAM in GB\n",
        "- battery: Energy capacity of the device battery in mAh\n",
        "- weight: Weight of the device in grams\n",
        "- release_year: Year when the device model was released\n",
        "- days_used: Number of days the used/refurbished device has been used\n",
        "- normalized_new_price: Normalized price of a new device of the same model in euros\n",
        "- normalized_used_price: Normalized price of the used/refurbished device in euros"
      ]
    },
    {
      "cell_type": "markdown",
      "metadata": {
        "id": "-xIMk1hXrabC"
      },
      "source": [
        "## **Please read the instructions carefully before starting the project.**\n",
        "\n",
        "This is a commented Python Notebook file in which all the instructions and tasks to be performed are mentioned.\n",
        "\n",
        "* Blanks '_______' are provided in the notebook that need to be filled with an appropriate code to get the correct result\n",
        "\n",
        "* With every '_______' blank, there is a comment that briefly describes what needs to be filled in the blank space\n",
        "\n",
        "* Identify the task to be performed correctly and only then proceed to write the required code\n",
        "\n",
        "* Fill the code wherever asked by the commented lines like \"# write your code here\" or \"# complete the code\"\n",
        "\n",
        "* Running incomplete code may throw an error\n",
        "\n",
        "* Please run the codes in a sequential manner from the beginning to avoid any unnecessary errors\n",
        "\n",
        "* Add the results/observations derived from the analysis in the presentation and submit the same in .pdf format"
      ]
    },
    {
      "cell_type": "markdown",
      "metadata": {
        "id": "v_-uuGqH-qTt"
      },
      "source": [
        "## Importing necessary libraries"
      ]
    },
    {
      "cell_type": "code",
      "source": [
        "# Installing the libraries with the specified version.\n",
        "# uncomment and run the following line if Google Colab is being used\n",
        "# !pip install scikit-learn==1.2.2 seaborn==0.13.1 matplotlib==3.7.1 numpy==1.25.2 pandas==1.5.3 -q --user"
      ],
      "metadata": {
        "id": "lOlvET3VSqXi"
      },
      "execution_count": 9,
      "outputs": []
    },
    {
      "cell_type": "code",
      "source": [
        "# Installing the libraries with the specified version.\n",
        "# uncomment and run the following lines if Jupyter Notebook is being used\n",
        "# !pip install scikit-learn==1.2.2 seaborn==0.11.1 matplotlib==3.3.4 numpy==1.24.3 pandas==1.5.2 -q --user"
      ],
      "metadata": {
        "id": "Qhqa4cN5kenT"
      },
      "execution_count": 10,
      "outputs": []
    },
    {
      "cell_type": "markdown",
      "source": [
        "**Note**: *After running the above cell, kindly restart the notebook kernel and run all cells sequentially from the start again.*"
      ],
      "metadata": {
        "id": "L9du3gC3kfOs"
      }
    },
    {
      "cell_type": "code",
      "execution_count": 11,
      "metadata": {
        "id": "zeF8YaNKDPyK"
      },
      "outputs": [],
      "source": [
        "# Libraries to help with reading and manipulating data\n",
        "import numpy as np\n",
        "import pandas as pd\n",
        "\n",
        "# Libraries to help with data visualization\n",
        "import matplotlib.pyplot as plt\n",
        "import seaborn as sns\n",
        "\n",
        "sns.set()\n",
        "\n",
        "# split the data into train and test\n",
        "from sklearn.model_selection import train_test_split\n",
        "\n",
        "# to build linear regression_model\n",
        "from sklearn.linear_model import LinearRegression\n",
        "\n",
        "# to check model performance\n",
        "from sklearn.metrics import mean_absolute_error, mean_squared_error, r2_score\n",
        "\n",
        "# to build linear regression_model using statsmodels\n",
        "import statsmodels.api as sm\n",
        "\n",
        "# to compute VIF\n",
        "from statsmodels.stats.outliers_influence import variance_inflation_factor"
      ]
    },
    {
      "cell_type": "markdown",
      "metadata": {
        "id": "xxhpZv9y-qTw"
      },
      "source": [
        "## Loading the dataset"
      ]
    },
    {
      "cell_type": "code",
      "source": [
        "# uncomment and run the following lines for Google Colab\n",
        "# from google.colab import drive\n",
        "# drive.mount('/content/drive')"
      ],
      "metadata": {
        "id": "ZZUuJaAhpOTz"
      },
      "execution_count": 12,
      "outputs": []
    },
    {
      "cell_type": "code",
      "execution_count": 14,
      "metadata": {
        "id": "D4id2YLjhmV3"
      },
      "outputs": [],
      "source": [
        "# loading data\n",
        "data = pd.read_csv('/content/drive/MyDrive/Module 3 - Supervised Learning - Foundations/Project 3/used_device_data.csv') ## Complete the code to read the data"
      ]
    },
    {
      "cell_type": "markdown",
      "metadata": {
        "id": "aodMV5D3-qTy"
      },
      "source": [
        "## Data Overview"
      ]
    },
    {
      "cell_type": "markdown",
      "metadata": {
        "id": "W-5jUOgu-qTz"
      },
      "source": [
        "The initial steps to get an overview of any dataset is to:\n",
        "- observe the first few rows of the dataset, to check whether the dataset has been loaded properly or not\n",
        "- get information about the number of rows and columns in the dataset\n",
        "- find out the data types of the columns to ensure that data is stored in the preferred format and the value of each property is as expected.\n",
        "- check the statistical summary of the dataset to get an overview of the numerical columns of the data"
      ]
    },
    {
      "cell_type": "markdown",
      "metadata": {
        "id": "qlzqMR1K-qTz"
      },
      "source": [
        "### Displaying the first few rows of the dataset"
      ]
    },
    {
      "cell_type": "code",
      "execution_count": 15,
      "metadata": {
        "id": "aNvXgPEhWaLv",
        "colab": {
          "base_uri": "https://localhost:8080/",
          "height": 226
        },
        "outputId": "a3f62943-2460-4415-eb28-5402244203ec"
      },
      "outputs": [
        {
          "output_type": "execute_result",
          "data": {
            "text/plain": [
              "  brand_name       os  screen_size   4g   5g  main_camera_mp  \\\n",
              "0      Honor  Android        14.50  yes   no            13.0   \n",
              "1      Honor  Android        17.30  yes  yes            13.0   \n",
              "2      Honor  Android        16.69  yes  yes            13.0   \n",
              "3      Honor  Android        25.50  yes  yes            13.0   \n",
              "4      Honor  Android        15.32  yes   no            13.0   \n",
              "\n",
              "   selfie_camera_mp  int_memory  ram  battery  weight  release_year  \\\n",
              "0               5.0        64.0  3.0   3020.0   146.0          2020   \n",
              "1              16.0       128.0  8.0   4300.0   213.0          2020   \n",
              "2               8.0       128.0  8.0   4200.0   213.0          2020   \n",
              "3               8.0        64.0  6.0   7250.0   480.0          2020   \n",
              "4               8.0        64.0  3.0   5000.0   185.0          2020   \n",
              "\n",
              "   days_used  normalized_used_price  normalized_new_price  \n",
              "0        127               4.307572              4.715100  \n",
              "1        325               5.162097              5.519018  \n",
              "2        162               5.111084              5.884631  \n",
              "3        345               5.135387              5.630961  \n",
              "4        293               4.389995              4.947837  "
            ],
            "text/html": [
              "\n",
              "  <div id=\"df-8a2b0540-0b76-49fb-a381-6c4b4abbae46\" class=\"colab-df-container\">\n",
              "    <div>\n",
              "<style scoped>\n",
              "    .dataframe tbody tr th:only-of-type {\n",
              "        vertical-align: middle;\n",
              "    }\n",
              "\n",
              "    .dataframe tbody tr th {\n",
              "        vertical-align: top;\n",
              "    }\n",
              "\n",
              "    .dataframe thead th {\n",
              "        text-align: right;\n",
              "    }\n",
              "</style>\n",
              "<table border=\"1\" class=\"dataframe\">\n",
              "  <thead>\n",
              "    <tr style=\"text-align: right;\">\n",
              "      <th></th>\n",
              "      <th>brand_name</th>\n",
              "      <th>os</th>\n",
              "      <th>screen_size</th>\n",
              "      <th>4g</th>\n",
              "      <th>5g</th>\n",
              "      <th>main_camera_mp</th>\n",
              "      <th>selfie_camera_mp</th>\n",
              "      <th>int_memory</th>\n",
              "      <th>ram</th>\n",
              "      <th>battery</th>\n",
              "      <th>weight</th>\n",
              "      <th>release_year</th>\n",
              "      <th>days_used</th>\n",
              "      <th>normalized_used_price</th>\n",
              "      <th>normalized_new_price</th>\n",
              "    </tr>\n",
              "  </thead>\n",
              "  <tbody>\n",
              "    <tr>\n",
              "      <th>0</th>\n",
              "      <td>Honor</td>\n",
              "      <td>Android</td>\n",
              "      <td>14.50</td>\n",
              "      <td>yes</td>\n",
              "      <td>no</td>\n",
              "      <td>13.0</td>\n",
              "      <td>5.0</td>\n",
              "      <td>64.0</td>\n",
              "      <td>3.0</td>\n",
              "      <td>3020.0</td>\n",
              "      <td>146.0</td>\n",
              "      <td>2020</td>\n",
              "      <td>127</td>\n",
              "      <td>4.307572</td>\n",
              "      <td>4.715100</td>\n",
              "    </tr>\n",
              "    <tr>\n",
              "      <th>1</th>\n",
              "      <td>Honor</td>\n",
              "      <td>Android</td>\n",
              "      <td>17.30</td>\n",
              "      <td>yes</td>\n",
              "      <td>yes</td>\n",
              "      <td>13.0</td>\n",
              "      <td>16.0</td>\n",
              "      <td>128.0</td>\n",
              "      <td>8.0</td>\n",
              "      <td>4300.0</td>\n",
              "      <td>213.0</td>\n",
              "      <td>2020</td>\n",
              "      <td>325</td>\n",
              "      <td>5.162097</td>\n",
              "      <td>5.519018</td>\n",
              "    </tr>\n",
              "    <tr>\n",
              "      <th>2</th>\n",
              "      <td>Honor</td>\n",
              "      <td>Android</td>\n",
              "      <td>16.69</td>\n",
              "      <td>yes</td>\n",
              "      <td>yes</td>\n",
              "      <td>13.0</td>\n",
              "      <td>8.0</td>\n",
              "      <td>128.0</td>\n",
              "      <td>8.0</td>\n",
              "      <td>4200.0</td>\n",
              "      <td>213.0</td>\n",
              "      <td>2020</td>\n",
              "      <td>162</td>\n",
              "      <td>5.111084</td>\n",
              "      <td>5.884631</td>\n",
              "    </tr>\n",
              "    <tr>\n",
              "      <th>3</th>\n",
              "      <td>Honor</td>\n",
              "      <td>Android</td>\n",
              "      <td>25.50</td>\n",
              "      <td>yes</td>\n",
              "      <td>yes</td>\n",
              "      <td>13.0</td>\n",
              "      <td>8.0</td>\n",
              "      <td>64.0</td>\n",
              "      <td>6.0</td>\n",
              "      <td>7250.0</td>\n",
              "      <td>480.0</td>\n",
              "      <td>2020</td>\n",
              "      <td>345</td>\n",
              "      <td>5.135387</td>\n",
              "      <td>5.630961</td>\n",
              "    </tr>\n",
              "    <tr>\n",
              "      <th>4</th>\n",
              "      <td>Honor</td>\n",
              "      <td>Android</td>\n",
              "      <td>15.32</td>\n",
              "      <td>yes</td>\n",
              "      <td>no</td>\n",
              "      <td>13.0</td>\n",
              "      <td>8.0</td>\n",
              "      <td>64.0</td>\n",
              "      <td>3.0</td>\n",
              "      <td>5000.0</td>\n",
              "      <td>185.0</td>\n",
              "      <td>2020</td>\n",
              "      <td>293</td>\n",
              "      <td>4.389995</td>\n",
              "      <td>4.947837</td>\n",
              "    </tr>\n",
              "  </tbody>\n",
              "</table>\n",
              "</div>\n",
              "    <div class=\"colab-df-buttons\">\n",
              "\n",
              "  <div class=\"colab-df-container\">\n",
              "    <button class=\"colab-df-convert\" onclick=\"convertToInteractive('df-8a2b0540-0b76-49fb-a381-6c4b4abbae46')\"\n",
              "            title=\"Convert this dataframe to an interactive table.\"\n",
              "            style=\"display:none;\">\n",
              "\n",
              "  <svg xmlns=\"http://www.w3.org/2000/svg\" height=\"24px\" viewBox=\"0 -960 960 960\">\n",
              "    <path d=\"M120-120v-720h720v720H120Zm60-500h600v-160H180v160Zm220 220h160v-160H400v160Zm0 220h160v-160H400v160ZM180-400h160v-160H180v160Zm440 0h160v-160H620v160ZM180-180h160v-160H180v160Zm440 0h160v-160H620v160Z\"/>\n",
              "  </svg>\n",
              "    </button>\n",
              "\n",
              "  <style>\n",
              "    .colab-df-container {\n",
              "      display:flex;\n",
              "      gap: 12px;\n",
              "    }\n",
              "\n",
              "    .colab-df-convert {\n",
              "      background-color: #E8F0FE;\n",
              "      border: none;\n",
              "      border-radius: 50%;\n",
              "      cursor: pointer;\n",
              "      display: none;\n",
              "      fill: #1967D2;\n",
              "      height: 32px;\n",
              "      padding: 0 0 0 0;\n",
              "      width: 32px;\n",
              "    }\n",
              "\n",
              "    .colab-df-convert:hover {\n",
              "      background-color: #E2EBFA;\n",
              "      box-shadow: 0px 1px 2px rgba(60, 64, 67, 0.3), 0px 1px 3px 1px rgba(60, 64, 67, 0.15);\n",
              "      fill: #174EA6;\n",
              "    }\n",
              "\n",
              "    .colab-df-buttons div {\n",
              "      margin-bottom: 4px;\n",
              "    }\n",
              "\n",
              "    [theme=dark] .colab-df-convert {\n",
              "      background-color: #3B4455;\n",
              "      fill: #D2E3FC;\n",
              "    }\n",
              "\n",
              "    [theme=dark] .colab-df-convert:hover {\n",
              "      background-color: #434B5C;\n",
              "      box-shadow: 0px 1px 3px 1px rgba(0, 0, 0, 0.15);\n",
              "      filter: drop-shadow(0px 1px 2px rgba(0, 0, 0, 0.3));\n",
              "      fill: #FFFFFF;\n",
              "    }\n",
              "  </style>\n",
              "\n",
              "    <script>\n",
              "      const buttonEl =\n",
              "        document.querySelector('#df-8a2b0540-0b76-49fb-a381-6c4b4abbae46 button.colab-df-convert');\n",
              "      buttonEl.style.display =\n",
              "        google.colab.kernel.accessAllowed ? 'block' : 'none';\n",
              "\n",
              "      async function convertToInteractive(key) {\n",
              "        const element = document.querySelector('#df-8a2b0540-0b76-49fb-a381-6c4b4abbae46');\n",
              "        const dataTable =\n",
              "          await google.colab.kernel.invokeFunction('convertToInteractive',\n",
              "                                                    [key], {});\n",
              "        if (!dataTable) return;\n",
              "\n",
              "        const docLinkHtml = 'Like what you see? Visit the ' +\n",
              "          '<a target=\"_blank\" href=https://colab.research.google.com/notebooks/data_table.ipynb>data table notebook</a>'\n",
              "          + ' to learn more about interactive tables.';\n",
              "        element.innerHTML = '';\n",
              "        dataTable['output_type'] = 'display_data';\n",
              "        await google.colab.output.renderOutput(dataTable, element);\n",
              "        const docLink = document.createElement('div');\n",
              "        docLink.innerHTML = docLinkHtml;\n",
              "        element.appendChild(docLink);\n",
              "      }\n",
              "    </script>\n",
              "  </div>\n",
              "\n",
              "\n",
              "<div id=\"df-bbbfc36a-69f0-45f5-b2b3-6e47275e0f48\">\n",
              "  <button class=\"colab-df-quickchart\" onclick=\"quickchart('df-bbbfc36a-69f0-45f5-b2b3-6e47275e0f48')\"\n",
              "            title=\"Suggest charts\"\n",
              "            style=\"display:none;\">\n",
              "\n",
              "<svg xmlns=\"http://www.w3.org/2000/svg\" height=\"24px\"viewBox=\"0 0 24 24\"\n",
              "     width=\"24px\">\n",
              "    <g>\n",
              "        <path d=\"M19 3H5c-1.1 0-2 .9-2 2v14c0 1.1.9 2 2 2h14c1.1 0 2-.9 2-2V5c0-1.1-.9-2-2-2zM9 17H7v-7h2v7zm4 0h-2V7h2v10zm4 0h-2v-4h2v4z\"/>\n",
              "    </g>\n",
              "</svg>\n",
              "  </button>\n",
              "\n",
              "<style>\n",
              "  .colab-df-quickchart {\n",
              "      --bg-color: #E8F0FE;\n",
              "      --fill-color: #1967D2;\n",
              "      --hover-bg-color: #E2EBFA;\n",
              "      --hover-fill-color: #174EA6;\n",
              "      --disabled-fill-color: #AAA;\n",
              "      --disabled-bg-color: #DDD;\n",
              "  }\n",
              "\n",
              "  [theme=dark] .colab-df-quickchart {\n",
              "      --bg-color: #3B4455;\n",
              "      --fill-color: #D2E3FC;\n",
              "      --hover-bg-color: #434B5C;\n",
              "      --hover-fill-color: #FFFFFF;\n",
              "      --disabled-bg-color: #3B4455;\n",
              "      --disabled-fill-color: #666;\n",
              "  }\n",
              "\n",
              "  .colab-df-quickchart {\n",
              "    background-color: var(--bg-color);\n",
              "    border: none;\n",
              "    border-radius: 50%;\n",
              "    cursor: pointer;\n",
              "    display: none;\n",
              "    fill: var(--fill-color);\n",
              "    height: 32px;\n",
              "    padding: 0;\n",
              "    width: 32px;\n",
              "  }\n",
              "\n",
              "  .colab-df-quickchart:hover {\n",
              "    background-color: var(--hover-bg-color);\n",
              "    box-shadow: 0 1px 2px rgba(60, 64, 67, 0.3), 0 1px 3px 1px rgba(60, 64, 67, 0.15);\n",
              "    fill: var(--button-hover-fill-color);\n",
              "  }\n",
              "\n",
              "  .colab-df-quickchart-complete:disabled,\n",
              "  .colab-df-quickchart-complete:disabled:hover {\n",
              "    background-color: var(--disabled-bg-color);\n",
              "    fill: var(--disabled-fill-color);\n",
              "    box-shadow: none;\n",
              "  }\n",
              "\n",
              "  .colab-df-spinner {\n",
              "    border: 2px solid var(--fill-color);\n",
              "    border-color: transparent;\n",
              "    border-bottom-color: var(--fill-color);\n",
              "    animation:\n",
              "      spin 1s steps(1) infinite;\n",
              "  }\n",
              "\n",
              "  @keyframes spin {\n",
              "    0% {\n",
              "      border-color: transparent;\n",
              "      border-bottom-color: var(--fill-color);\n",
              "      border-left-color: var(--fill-color);\n",
              "    }\n",
              "    20% {\n",
              "      border-color: transparent;\n",
              "      border-left-color: var(--fill-color);\n",
              "      border-top-color: var(--fill-color);\n",
              "    }\n",
              "    30% {\n",
              "      border-color: transparent;\n",
              "      border-left-color: var(--fill-color);\n",
              "      border-top-color: var(--fill-color);\n",
              "      border-right-color: var(--fill-color);\n",
              "    }\n",
              "    40% {\n",
              "      border-color: transparent;\n",
              "      border-right-color: var(--fill-color);\n",
              "      border-top-color: var(--fill-color);\n",
              "    }\n",
              "    60% {\n",
              "      border-color: transparent;\n",
              "      border-right-color: var(--fill-color);\n",
              "    }\n",
              "    80% {\n",
              "      border-color: transparent;\n",
              "      border-right-color: var(--fill-color);\n",
              "      border-bottom-color: var(--fill-color);\n",
              "    }\n",
              "    90% {\n",
              "      border-color: transparent;\n",
              "      border-bottom-color: var(--fill-color);\n",
              "    }\n",
              "  }\n",
              "</style>\n",
              "\n",
              "  <script>\n",
              "    async function quickchart(key) {\n",
              "      const quickchartButtonEl =\n",
              "        document.querySelector('#' + key + ' button');\n",
              "      quickchartButtonEl.disabled = true;  // To prevent multiple clicks.\n",
              "      quickchartButtonEl.classList.add('colab-df-spinner');\n",
              "      try {\n",
              "        const charts = await google.colab.kernel.invokeFunction(\n",
              "            'suggestCharts', [key], {});\n",
              "      } catch (error) {\n",
              "        console.error('Error during call to suggestCharts:', error);\n",
              "      }\n",
              "      quickchartButtonEl.classList.remove('colab-df-spinner');\n",
              "      quickchartButtonEl.classList.add('colab-df-quickchart-complete');\n",
              "    }\n",
              "    (() => {\n",
              "      let quickchartButtonEl =\n",
              "        document.querySelector('#df-bbbfc36a-69f0-45f5-b2b3-6e47275e0f48 button');\n",
              "      quickchartButtonEl.style.display =\n",
              "        google.colab.kernel.accessAllowed ? 'block' : 'none';\n",
              "    })();\n",
              "  </script>\n",
              "</div>\n",
              "\n",
              "    </div>\n",
              "  </div>\n"
            ],
            "application/vnd.google.colaboratory.intrinsic+json": {
              "type": "dataframe",
              "variable_name": "data",
              "summary": "{\n  \"name\": \"data\",\n  \"rows\": 3454,\n  \"fields\": [\n    {\n      \"column\": \"brand_name\",\n      \"properties\": {\n        \"dtype\": \"category\",\n        \"num_unique_values\": 34,\n        \"samples\": [\n          \"Samsung\",\n          \"Apple\",\n          \"Google\"\n        ],\n        \"semantic_type\": \"\",\n        \"description\": \"\"\n      }\n    },\n    {\n      \"column\": \"os\",\n      \"properties\": {\n        \"dtype\": \"category\",\n        \"num_unique_values\": 4,\n        \"samples\": [\n          \"Others\",\n          \"Windows\",\n          \"Android\"\n        ],\n        \"semantic_type\": \"\",\n        \"description\": \"\"\n      }\n    },\n    {\n      \"column\": \"screen_size\",\n      \"properties\": {\n        \"dtype\": \"number\",\n        \"std\": 3.805279597858718,\n        \"min\": 5.08,\n        \"max\": 30.71,\n        \"num_unique_values\": 142,\n        \"samples\": [\n          11.56,\n          15.34,\n          7.65\n        ],\n        \"semantic_type\": \"\",\n        \"description\": \"\"\n      }\n    },\n    {\n      \"column\": \"4g\",\n      \"properties\": {\n        \"dtype\": \"category\",\n        \"num_unique_values\": 2,\n        \"samples\": [\n          \"no\",\n          \"yes\"\n        ],\n        \"semantic_type\": \"\",\n        \"description\": \"\"\n      }\n    },\n    {\n      \"column\": \"5g\",\n      \"properties\": {\n        \"dtype\": \"category\",\n        \"num_unique_values\": 2,\n        \"samples\": [\n          \"yes\",\n          \"no\"\n        ],\n        \"semantic_type\": \"\",\n        \"description\": \"\"\n      }\n    },\n    {\n      \"column\": \"main_camera_mp\",\n      \"properties\": {\n        \"dtype\": \"number\",\n        \"std\": 4.8154612416365135,\n        \"min\": 0.08,\n        \"max\": 48.0,\n        \"num_unique_values\": 41,\n        \"samples\": [\n          20.2,\n          1.3\n        ],\n        \"semantic_type\": \"\",\n        \"description\": \"\"\n      }\n    },\n    {\n      \"column\": \"selfie_camera_mp\",\n      \"properties\": {\n        \"dtype\": \"number\",\n        \"std\": 6.970371918748835,\n        \"min\": 0.0,\n        \"max\": 32.0,\n        \"num_unique_values\": 37,\n        \"samples\": [\n          3.0,\n          0.0\n        ],\n        \"semantic_type\": \"\",\n        \"description\": \"\"\n      }\n    },\n    {\n      \"column\": \"int_memory\",\n      \"properties\": {\n        \"dtype\": \"number\",\n        \"std\": 84.97237057162442,\n        \"min\": 0.01,\n        \"max\": 1024.0,\n        \"num_unique_values\": 15,\n        \"samples\": [\n          0.2,\n          0.06\n        ],\n        \"semantic_type\": \"\",\n        \"description\": \"\"\n      }\n    },\n    {\n      \"column\": \"ram\",\n      \"properties\": {\n        \"dtype\": \"number\",\n        \"std\": 1.3651046591081606,\n        \"min\": 0.02,\n        \"max\": 12.0,\n        \"num_unique_values\": 12,\n        \"samples\": [\n          0.02,\n          0.03\n        ],\n        \"semantic_type\": \"\",\n        \"description\": \"\"\n      }\n    },\n    {\n      \"column\": \"battery\",\n      \"properties\": {\n        \"dtype\": \"number\",\n        \"std\": 1299.6828438751706,\n        \"min\": 500.0,\n        \"max\": 9720.0,\n        \"num_unique_values\": 324,\n        \"samples\": [\n          7306.0,\n          3140.0\n        ],\n        \"semantic_type\": \"\",\n        \"description\": \"\"\n      }\n    },\n    {\n      \"column\": \"weight\",\n      \"properties\": {\n        \"dtype\": \"number\",\n        \"std\": 88.41322781358869,\n        \"min\": 69.0,\n        \"max\": 855.0,\n        \"num_unique_values\": 555,\n        \"samples\": [\n          131.9,\n          666.8\n        ],\n        \"semantic_type\": \"\",\n        \"description\": \"\"\n      }\n    },\n    {\n      \"column\": \"release_year\",\n      \"properties\": {\n        \"dtype\": \"number\",\n        \"std\": 2,\n        \"min\": 2013,\n        \"max\": 2020,\n        \"num_unique_values\": 8,\n        \"samples\": [\n          2019,\n          2018\n        ],\n        \"semantic_type\": \"\",\n        \"description\": \"\"\n      }\n    },\n    {\n      \"column\": \"days_used\",\n      \"properties\": {\n        \"dtype\": \"number\",\n        \"std\": 248,\n        \"min\": 91,\n        \"max\": 1094,\n        \"num_unique_values\": 924,\n        \"samples\": [\n          611,\n          861\n        ],\n        \"semantic_type\": \"\",\n        \"description\": \"\"\n      }\n    },\n    {\n      \"column\": \"normalized_used_price\",\n      \"properties\": {\n        \"dtype\": \"number\",\n        \"std\": 0.5889136178484645,\n        \"min\": 1.536867219599265,\n        \"max\": 6.619433001642933,\n        \"num_unique_values\": 3094,\n        \"samples\": [\n          4.931159092594459,\n          4.299459911016919\n        ],\n        \"semantic_type\": \"\",\n        \"description\": \"\"\n      }\n    },\n    {\n      \"column\": \"normalized_new_price\",\n      \"properties\": {\n        \"dtype\": \"number\",\n        \"std\": 0.6836368428653764,\n        \"min\": 2.9014215940827497,\n        \"max\": 7.847840659422009,\n        \"num_unique_values\": 2988,\n        \"samples\": [\n          4.506233438128068,\n          5.857675978559423\n        ],\n        \"semantic_type\": \"\",\n        \"description\": \"\"\n      }\n    }\n  ]\n}"
            }
          },
          "metadata": {},
          "execution_count": 15
        }
      ],
      "source": [
        "data.head()"
      ]
    },
    {
      "cell_type": "markdown",
      "metadata": {
        "id": "KQi5ygTC-qT1"
      },
      "source": [
        "### Checking the shape of the dataset"
      ]
    },
    {
      "cell_type": "code",
      "execution_count": 17,
      "metadata": {
        "id": "VsQmSVQDWdQB",
        "colab": {
          "base_uri": "https://localhost:8080/"
        },
        "outputId": "3e6bd742-54b1-4022-ca2b-cfadb1779b31"
      },
      "outputs": [
        {
          "output_type": "execute_result",
          "data": {
            "text/plain": [
              "(3454, 15)"
            ]
          },
          "metadata": {},
          "execution_count": 17
        }
      ],
      "source": [
        "data.shape ## Complete the code to get the shape of data"
      ]
    },
    {
      "cell_type": "markdown",
      "metadata": {
        "id": "5TcqcxbK-qT3"
      },
      "source": [
        "### Checking the data types of the columns for the dataset"
      ]
    },
    {
      "cell_type": "code",
      "execution_count": 18,
      "metadata": {
        "id": "4sMqr8mnWf2v",
        "colab": {
          "base_uri": "https://localhost:8080/"
        },
        "outputId": "08a26eb4-0d7c-402f-c0ca-9d3b44fe199c"
      },
      "outputs": [
        {
          "output_type": "stream",
          "name": "stdout",
          "text": [
            "<class 'pandas.core.frame.DataFrame'>\n",
            "RangeIndex: 3454 entries, 0 to 3453\n",
            "Data columns (total 15 columns):\n",
            " #   Column                 Non-Null Count  Dtype  \n",
            "---  ------                 --------------  -----  \n",
            " 0   brand_name             3454 non-null   object \n",
            " 1   os                     3454 non-null   object \n",
            " 2   screen_size            3454 non-null   float64\n",
            " 3   4g                     3454 non-null   object \n",
            " 4   5g                     3454 non-null   object \n",
            " 5   main_camera_mp         3275 non-null   float64\n",
            " 6   selfie_camera_mp       3452 non-null   float64\n",
            " 7   int_memory             3450 non-null   float64\n",
            " 8   ram                    3450 non-null   float64\n",
            " 9   battery                3448 non-null   float64\n",
            " 10  weight                 3447 non-null   float64\n",
            " 11  release_year           3454 non-null   int64  \n",
            " 12  days_used              3454 non-null   int64  \n",
            " 13  normalized_used_price  3454 non-null   float64\n",
            " 14  normalized_new_price   3454 non-null   float64\n",
            "dtypes: float64(9), int64(2), object(4)\n",
            "memory usage: 404.9+ KB\n"
          ]
        }
      ],
      "source": [
        "data.info()"
      ]
    },
    {
      "cell_type": "markdown",
      "metadata": {
        "id": "nUCorhch-qT4"
      },
      "source": [
        "### Statistical summary of the dataset"
      ]
    },
    {
      "cell_type": "code",
      "execution_count": 20,
      "metadata": {
        "id": "yXcbwEJcWWWI",
        "colab": {
          "base_uri": "https://localhost:8080/",
          "height": 320
        },
        "outputId": "b0aaec15-6bd3-4153-ca6d-85fa2e53e148"
      },
      "outputs": [
        {
          "output_type": "execute_result",
          "data": {
            "text/plain": [
              "       screen_size  main_camera_mp  selfie_camera_mp   int_memory  \\\n",
              "count  3454.000000     3275.000000       3452.000000  3450.000000   \n",
              "mean     13.713115        9.460208          6.554229    54.573099   \n",
              "std       3.805280        4.815461          6.970372    84.972371   \n",
              "min       5.080000        0.080000          0.000000     0.010000   \n",
              "25%      12.700000        5.000000          2.000000    16.000000   \n",
              "50%      12.830000        8.000000          5.000000    32.000000   \n",
              "75%      15.340000       13.000000          8.000000    64.000000   \n",
              "max      30.710000       48.000000         32.000000  1024.000000   \n",
              "\n",
              "               ram      battery       weight  release_year    days_used  \\\n",
              "count  3450.000000  3448.000000  3447.000000   3454.000000  3454.000000   \n",
              "mean      4.036122  3133.402697   182.751871   2015.965258   674.869716   \n",
              "std       1.365105  1299.682844    88.413228      2.298455   248.580166   \n",
              "min       0.020000   500.000000    69.000000   2013.000000    91.000000   \n",
              "25%       4.000000  2100.000000   142.000000   2014.000000   533.500000   \n",
              "50%       4.000000  3000.000000   160.000000   2015.500000   690.500000   \n",
              "75%       4.000000  4000.000000   185.000000   2018.000000   868.750000   \n",
              "max      12.000000  9720.000000   855.000000   2020.000000  1094.000000   \n",
              "\n",
              "       normalized_used_price  normalized_new_price  \n",
              "count            3454.000000           3454.000000  \n",
              "mean                4.364712              5.233107  \n",
              "std                 0.588914              0.683637  \n",
              "min                 1.536867              2.901422  \n",
              "25%                 4.033931              4.790342  \n",
              "50%                 4.405133              5.245892  \n",
              "75%                 4.755700              5.673718  \n",
              "max                 6.619433              7.847841  "
            ],
            "text/html": [
              "\n",
              "  <div id=\"df-a41da8af-d531-4d21-8bfe-335b4973d075\" class=\"colab-df-container\">\n",
              "    <div>\n",
              "<style scoped>\n",
              "    .dataframe tbody tr th:only-of-type {\n",
              "        vertical-align: middle;\n",
              "    }\n",
              "\n",
              "    .dataframe tbody tr th {\n",
              "        vertical-align: top;\n",
              "    }\n",
              "\n",
              "    .dataframe thead th {\n",
              "        text-align: right;\n",
              "    }\n",
              "</style>\n",
              "<table border=\"1\" class=\"dataframe\">\n",
              "  <thead>\n",
              "    <tr style=\"text-align: right;\">\n",
              "      <th></th>\n",
              "      <th>screen_size</th>\n",
              "      <th>main_camera_mp</th>\n",
              "      <th>selfie_camera_mp</th>\n",
              "      <th>int_memory</th>\n",
              "      <th>ram</th>\n",
              "      <th>battery</th>\n",
              "      <th>weight</th>\n",
              "      <th>release_year</th>\n",
              "      <th>days_used</th>\n",
              "      <th>normalized_used_price</th>\n",
              "      <th>normalized_new_price</th>\n",
              "    </tr>\n",
              "  </thead>\n",
              "  <tbody>\n",
              "    <tr>\n",
              "      <th>count</th>\n",
              "      <td>3454.000000</td>\n",
              "      <td>3275.000000</td>\n",
              "      <td>3452.000000</td>\n",
              "      <td>3450.000000</td>\n",
              "      <td>3450.000000</td>\n",
              "      <td>3448.000000</td>\n",
              "      <td>3447.000000</td>\n",
              "      <td>3454.000000</td>\n",
              "      <td>3454.000000</td>\n",
              "      <td>3454.000000</td>\n",
              "      <td>3454.000000</td>\n",
              "    </tr>\n",
              "    <tr>\n",
              "      <th>mean</th>\n",
              "      <td>13.713115</td>\n",
              "      <td>9.460208</td>\n",
              "      <td>6.554229</td>\n",
              "      <td>54.573099</td>\n",
              "      <td>4.036122</td>\n",
              "      <td>3133.402697</td>\n",
              "      <td>182.751871</td>\n",
              "      <td>2015.965258</td>\n",
              "      <td>674.869716</td>\n",
              "      <td>4.364712</td>\n",
              "      <td>5.233107</td>\n",
              "    </tr>\n",
              "    <tr>\n",
              "      <th>std</th>\n",
              "      <td>3.805280</td>\n",
              "      <td>4.815461</td>\n",
              "      <td>6.970372</td>\n",
              "      <td>84.972371</td>\n",
              "      <td>1.365105</td>\n",
              "      <td>1299.682844</td>\n",
              "      <td>88.413228</td>\n",
              "      <td>2.298455</td>\n",
              "      <td>248.580166</td>\n",
              "      <td>0.588914</td>\n",
              "      <td>0.683637</td>\n",
              "    </tr>\n",
              "    <tr>\n",
              "      <th>min</th>\n",
              "      <td>5.080000</td>\n",
              "      <td>0.080000</td>\n",
              "      <td>0.000000</td>\n",
              "      <td>0.010000</td>\n",
              "      <td>0.020000</td>\n",
              "      <td>500.000000</td>\n",
              "      <td>69.000000</td>\n",
              "      <td>2013.000000</td>\n",
              "      <td>91.000000</td>\n",
              "      <td>1.536867</td>\n",
              "      <td>2.901422</td>\n",
              "    </tr>\n",
              "    <tr>\n",
              "      <th>25%</th>\n",
              "      <td>12.700000</td>\n",
              "      <td>5.000000</td>\n",
              "      <td>2.000000</td>\n",
              "      <td>16.000000</td>\n",
              "      <td>4.000000</td>\n",
              "      <td>2100.000000</td>\n",
              "      <td>142.000000</td>\n",
              "      <td>2014.000000</td>\n",
              "      <td>533.500000</td>\n",
              "      <td>4.033931</td>\n",
              "      <td>4.790342</td>\n",
              "    </tr>\n",
              "    <tr>\n",
              "      <th>50%</th>\n",
              "      <td>12.830000</td>\n",
              "      <td>8.000000</td>\n",
              "      <td>5.000000</td>\n",
              "      <td>32.000000</td>\n",
              "      <td>4.000000</td>\n",
              "      <td>3000.000000</td>\n",
              "      <td>160.000000</td>\n",
              "      <td>2015.500000</td>\n",
              "      <td>690.500000</td>\n",
              "      <td>4.405133</td>\n",
              "      <td>5.245892</td>\n",
              "    </tr>\n",
              "    <tr>\n",
              "      <th>75%</th>\n",
              "      <td>15.340000</td>\n",
              "      <td>13.000000</td>\n",
              "      <td>8.000000</td>\n",
              "      <td>64.000000</td>\n",
              "      <td>4.000000</td>\n",
              "      <td>4000.000000</td>\n",
              "      <td>185.000000</td>\n",
              "      <td>2018.000000</td>\n",
              "      <td>868.750000</td>\n",
              "      <td>4.755700</td>\n",
              "      <td>5.673718</td>\n",
              "    </tr>\n",
              "    <tr>\n",
              "      <th>max</th>\n",
              "      <td>30.710000</td>\n",
              "      <td>48.000000</td>\n",
              "      <td>32.000000</td>\n",
              "      <td>1024.000000</td>\n",
              "      <td>12.000000</td>\n",
              "      <td>9720.000000</td>\n",
              "      <td>855.000000</td>\n",
              "      <td>2020.000000</td>\n",
              "      <td>1094.000000</td>\n",
              "      <td>6.619433</td>\n",
              "      <td>7.847841</td>\n",
              "    </tr>\n",
              "  </tbody>\n",
              "</table>\n",
              "</div>\n",
              "    <div class=\"colab-df-buttons\">\n",
              "\n",
              "  <div class=\"colab-df-container\">\n",
              "    <button class=\"colab-df-convert\" onclick=\"convertToInteractive('df-a41da8af-d531-4d21-8bfe-335b4973d075')\"\n",
              "            title=\"Convert this dataframe to an interactive table.\"\n",
              "            style=\"display:none;\">\n",
              "\n",
              "  <svg xmlns=\"http://www.w3.org/2000/svg\" height=\"24px\" viewBox=\"0 -960 960 960\">\n",
              "    <path d=\"M120-120v-720h720v720H120Zm60-500h600v-160H180v160Zm220 220h160v-160H400v160Zm0 220h160v-160H400v160ZM180-400h160v-160H180v160Zm440 0h160v-160H620v160ZM180-180h160v-160H180v160Zm440 0h160v-160H620v160Z\"/>\n",
              "  </svg>\n",
              "    </button>\n",
              "\n",
              "  <style>\n",
              "    .colab-df-container {\n",
              "      display:flex;\n",
              "      gap: 12px;\n",
              "    }\n",
              "\n",
              "    .colab-df-convert {\n",
              "      background-color: #E8F0FE;\n",
              "      border: none;\n",
              "      border-radius: 50%;\n",
              "      cursor: pointer;\n",
              "      display: none;\n",
              "      fill: #1967D2;\n",
              "      height: 32px;\n",
              "      padding: 0 0 0 0;\n",
              "      width: 32px;\n",
              "    }\n",
              "\n",
              "    .colab-df-convert:hover {\n",
              "      background-color: #E2EBFA;\n",
              "      box-shadow: 0px 1px 2px rgba(60, 64, 67, 0.3), 0px 1px 3px 1px rgba(60, 64, 67, 0.15);\n",
              "      fill: #174EA6;\n",
              "    }\n",
              "\n",
              "    .colab-df-buttons div {\n",
              "      margin-bottom: 4px;\n",
              "    }\n",
              "\n",
              "    [theme=dark] .colab-df-convert {\n",
              "      background-color: #3B4455;\n",
              "      fill: #D2E3FC;\n",
              "    }\n",
              "\n",
              "    [theme=dark] .colab-df-convert:hover {\n",
              "      background-color: #434B5C;\n",
              "      box-shadow: 0px 1px 3px 1px rgba(0, 0, 0, 0.15);\n",
              "      filter: drop-shadow(0px 1px 2px rgba(0, 0, 0, 0.3));\n",
              "      fill: #FFFFFF;\n",
              "    }\n",
              "  </style>\n",
              "\n",
              "    <script>\n",
              "      const buttonEl =\n",
              "        document.querySelector('#df-a41da8af-d531-4d21-8bfe-335b4973d075 button.colab-df-convert');\n",
              "      buttonEl.style.display =\n",
              "        google.colab.kernel.accessAllowed ? 'block' : 'none';\n",
              "\n",
              "      async function convertToInteractive(key) {\n",
              "        const element = document.querySelector('#df-a41da8af-d531-4d21-8bfe-335b4973d075');\n",
              "        const dataTable =\n",
              "          await google.colab.kernel.invokeFunction('convertToInteractive',\n",
              "                                                    [key], {});\n",
              "        if (!dataTable) return;\n",
              "\n",
              "        const docLinkHtml = 'Like what you see? Visit the ' +\n",
              "          '<a target=\"_blank\" href=https://colab.research.google.com/notebooks/data_table.ipynb>data table notebook</a>'\n",
              "          + ' to learn more about interactive tables.';\n",
              "        element.innerHTML = '';\n",
              "        dataTable['output_type'] = 'display_data';\n",
              "        await google.colab.output.renderOutput(dataTable, element);\n",
              "        const docLink = document.createElement('div');\n",
              "        docLink.innerHTML = docLinkHtml;\n",
              "        element.appendChild(docLink);\n",
              "      }\n",
              "    </script>\n",
              "  </div>\n",
              "\n",
              "\n",
              "<div id=\"df-088c732a-48b4-4909-9b89-ef390b565ced\">\n",
              "  <button class=\"colab-df-quickchart\" onclick=\"quickchart('df-088c732a-48b4-4909-9b89-ef390b565ced')\"\n",
              "            title=\"Suggest charts\"\n",
              "            style=\"display:none;\">\n",
              "\n",
              "<svg xmlns=\"http://www.w3.org/2000/svg\" height=\"24px\"viewBox=\"0 0 24 24\"\n",
              "     width=\"24px\">\n",
              "    <g>\n",
              "        <path d=\"M19 3H5c-1.1 0-2 .9-2 2v14c0 1.1.9 2 2 2h14c1.1 0 2-.9 2-2V5c0-1.1-.9-2-2-2zM9 17H7v-7h2v7zm4 0h-2V7h2v10zm4 0h-2v-4h2v4z\"/>\n",
              "    </g>\n",
              "</svg>\n",
              "  </button>\n",
              "\n",
              "<style>\n",
              "  .colab-df-quickchart {\n",
              "      --bg-color: #E8F0FE;\n",
              "      --fill-color: #1967D2;\n",
              "      --hover-bg-color: #E2EBFA;\n",
              "      --hover-fill-color: #174EA6;\n",
              "      --disabled-fill-color: #AAA;\n",
              "      --disabled-bg-color: #DDD;\n",
              "  }\n",
              "\n",
              "  [theme=dark] .colab-df-quickchart {\n",
              "      --bg-color: #3B4455;\n",
              "      --fill-color: #D2E3FC;\n",
              "      --hover-bg-color: #434B5C;\n",
              "      --hover-fill-color: #FFFFFF;\n",
              "      --disabled-bg-color: #3B4455;\n",
              "      --disabled-fill-color: #666;\n",
              "  }\n",
              "\n",
              "  .colab-df-quickchart {\n",
              "    background-color: var(--bg-color);\n",
              "    border: none;\n",
              "    border-radius: 50%;\n",
              "    cursor: pointer;\n",
              "    display: none;\n",
              "    fill: var(--fill-color);\n",
              "    height: 32px;\n",
              "    padding: 0;\n",
              "    width: 32px;\n",
              "  }\n",
              "\n",
              "  .colab-df-quickchart:hover {\n",
              "    background-color: var(--hover-bg-color);\n",
              "    box-shadow: 0 1px 2px rgba(60, 64, 67, 0.3), 0 1px 3px 1px rgba(60, 64, 67, 0.15);\n",
              "    fill: var(--button-hover-fill-color);\n",
              "  }\n",
              "\n",
              "  .colab-df-quickchart-complete:disabled,\n",
              "  .colab-df-quickchart-complete:disabled:hover {\n",
              "    background-color: var(--disabled-bg-color);\n",
              "    fill: var(--disabled-fill-color);\n",
              "    box-shadow: none;\n",
              "  }\n",
              "\n",
              "  .colab-df-spinner {\n",
              "    border: 2px solid var(--fill-color);\n",
              "    border-color: transparent;\n",
              "    border-bottom-color: var(--fill-color);\n",
              "    animation:\n",
              "      spin 1s steps(1) infinite;\n",
              "  }\n",
              "\n",
              "  @keyframes spin {\n",
              "    0% {\n",
              "      border-color: transparent;\n",
              "      border-bottom-color: var(--fill-color);\n",
              "      border-left-color: var(--fill-color);\n",
              "    }\n",
              "    20% {\n",
              "      border-color: transparent;\n",
              "      border-left-color: var(--fill-color);\n",
              "      border-top-color: var(--fill-color);\n",
              "    }\n",
              "    30% {\n",
              "      border-color: transparent;\n",
              "      border-left-color: var(--fill-color);\n",
              "      border-top-color: var(--fill-color);\n",
              "      border-right-color: var(--fill-color);\n",
              "    }\n",
              "    40% {\n",
              "      border-color: transparent;\n",
              "      border-right-color: var(--fill-color);\n",
              "      border-top-color: var(--fill-color);\n",
              "    }\n",
              "    60% {\n",
              "      border-color: transparent;\n",
              "      border-right-color: var(--fill-color);\n",
              "    }\n",
              "    80% {\n",
              "      border-color: transparent;\n",
              "      border-right-color: var(--fill-color);\n",
              "      border-bottom-color: var(--fill-color);\n",
              "    }\n",
              "    90% {\n",
              "      border-color: transparent;\n",
              "      border-bottom-color: var(--fill-color);\n",
              "    }\n",
              "  }\n",
              "</style>\n",
              "\n",
              "  <script>\n",
              "    async function quickchart(key) {\n",
              "      const quickchartButtonEl =\n",
              "        document.querySelector('#' + key + ' button');\n",
              "      quickchartButtonEl.disabled = true;  // To prevent multiple clicks.\n",
              "      quickchartButtonEl.classList.add('colab-df-spinner');\n",
              "      try {\n",
              "        const charts = await google.colab.kernel.invokeFunction(\n",
              "            'suggestCharts', [key], {});\n",
              "      } catch (error) {\n",
              "        console.error('Error during call to suggestCharts:', error);\n",
              "      }\n",
              "      quickchartButtonEl.classList.remove('colab-df-spinner');\n",
              "      quickchartButtonEl.classList.add('colab-df-quickchart-complete');\n",
              "    }\n",
              "    (() => {\n",
              "      let quickchartButtonEl =\n",
              "        document.querySelector('#df-088c732a-48b4-4909-9b89-ef390b565ced button');\n",
              "      quickchartButtonEl.style.display =\n",
              "        google.colab.kernel.accessAllowed ? 'block' : 'none';\n",
              "    })();\n",
              "  </script>\n",
              "</div>\n",
              "\n",
              "    </div>\n",
              "  </div>\n"
            ],
            "application/vnd.google.colaboratory.intrinsic+json": {
              "type": "dataframe",
              "summary": "{\n  \"name\": \"data\",\n  \"rows\": 8,\n  \"fields\": [\n    {\n      \"column\": \"screen_size\",\n      \"properties\": {\n        \"dtype\": \"number\",\n        \"std\": 1216.4440222275998,\n        \"min\": 3.805279597858718,\n        \"max\": 3454.0,\n        \"num_unique_values\": 8,\n        \"samples\": [\n          13.713115228720325,\n          12.83,\n          3454.0\n        ],\n        \"semantic_type\": \"\",\n        \"description\": \"\"\n      }\n    },\n    {\n      \"column\": \"main_camera_mp\",\n      \"properties\": {\n        \"dtype\": \"number\",\n        \"std\": 1153.521287262618,\n        \"min\": 0.08,\n        \"max\": 3275.0,\n        \"num_unique_values\": 8,\n        \"samples\": [\n          9.460207633587787,\n          8.0,\n          3275.0\n        ],\n        \"semantic_type\": \"\",\n        \"description\": \"\"\n      }\n    },\n    {\n      \"column\": \"selfie_camera_mp\",\n      \"properties\": {\n        \"dtype\": \"number\",\n        \"std\": 1217.4495536407935,\n        \"min\": 0.0,\n        \"max\": 3452.0,\n        \"num_unique_values\": 8,\n        \"samples\": [\n          6.554229432213209,\n          5.0,\n          3452.0\n        ],\n        \"semantic_type\": \"\",\n        \"description\": \"\"\n      }\n    },\n    {\n      \"column\": \"int_memory\",\n      \"properties\": {\n        \"dtype\": \"number\",\n        \"std\": 1205.6587538696115,\n        \"min\": 0.01,\n        \"max\": 3450.0,\n        \"num_unique_values\": 8,\n        \"samples\": [\n          54.57309855072464,\n          32.0,\n          3450.0\n        ],\n        \"semantic_type\": \"\",\n        \"description\": \"\"\n      }\n    },\n    {\n      \"column\": \"ram\",\n      \"properties\": {\n        \"dtype\": \"number\",\n        \"std\": 1218.2782725370257,\n        \"min\": 0.02,\n        \"max\": 3450.0,\n        \"num_unique_values\": 6,\n        \"samples\": [\n          3450.0,\n          4.036121739130435,\n          12.0\n        ],\n        \"semantic_type\": \"\",\n        \"description\": \"\"\n      }\n    },\n    {\n      \"column\": \"battery\",\n      \"properties\": {\n        \"dtype\": \"number\",\n        \"std\": 2804.2597732445797,\n        \"min\": 500.0,\n        \"max\": 9720.0,\n        \"num_unique_values\": 8,\n        \"samples\": [\n          3133.402697215777,\n          3000.0,\n          3448.0\n        ],\n        \"semantic_type\": \"\",\n        \"description\": \"\"\n      }\n    },\n    {\n      \"column\": \"weight\",\n      \"properties\": {\n        \"dtype\": \"number\",\n        \"std\": 1161.9108226580383,\n        \"min\": 69.0,\n        \"max\": 3447.0,\n        \"num_unique_values\": 8,\n        \"samples\": [\n          182.75187119234116,\n          160.0,\n          3447.0\n        ],\n        \"semantic_type\": \"\",\n        \"description\": \"\"\n      }\n    },\n    {\n      \"column\": \"release_year\",\n      \"properties\": {\n        \"dtype\": \"number\",\n        \"std\": 932.0874473794385,\n        \"min\": 2.298454568407353,\n        \"max\": 3454.0,\n        \"num_unique_values\": 8,\n        \"samples\": [\n          2015.965257672264,\n          2015.5,\n          3454.0\n        ],\n        \"semantic_type\": \"\",\n        \"description\": \"\"\n      }\n    },\n    {\n      \"column\": \"days_used\",\n      \"properties\": {\n        \"dtype\": \"number\",\n        \"std\": 1058.5267822285755,\n        \"min\": 91.0,\n        \"max\": 3454.0,\n        \"num_unique_values\": 8,\n        \"samples\": [\n          674.8697162709901,\n          690.5,\n          3454.0\n        ],\n        \"semantic_type\": \"\",\n        \"description\": \"\"\n      }\n    },\n    {\n      \"column\": \"normalized_used_price\",\n      \"properties\": {\n        \"dtype\": \"number\",\n        \"std\": 1219.8462888808513,\n        \"min\": 0.5889136178484645,\n        \"max\": 3454.0,\n        \"num_unique_values\": 8,\n        \"samples\": [\n          4.364712079133227,\n          4.405132623388357,\n          3454.0\n        ],\n        \"semantic_type\": \"\",\n        \"description\": \"\"\n      }\n    },\n    {\n      \"column\": \"normalized_new_price\",\n      \"properties\": {\n        \"dtype\": \"number\",\n        \"std\": 1219.5399807308017,\n        \"min\": 0.6836368428653764,\n        \"max\": 3454.0,\n        \"num_unique_values\": 8,\n        \"samples\": [\n          5.233107171901414,\n          5.2458918493708575,\n          3454.0\n        ],\n        \"semantic_type\": \"\",\n        \"description\": \"\"\n      }\n    }\n  ]\n}"
            }
          },
          "metadata": {},
          "execution_count": 20
        }
      ],
      "source": [
        "data.describe() ## Complete the code to print the statistical summary of the data"
      ]
    },
    {
      "cell_type": "markdown",
      "metadata": {
        "id": "xNr4bWoM-qT5"
      },
      "source": [
        "### Checking for duplicate values"
      ]
    },
    {
      "cell_type": "code",
      "execution_count": 21,
      "metadata": {
        "id": "NCydbTEHWmMl",
        "colab": {
          "base_uri": "https://localhost:8080/"
        },
        "outputId": "2a831e14-1c8e-4514-f55a-4077b9c1f476"
      },
      "outputs": [
        {
          "output_type": "execute_result",
          "data": {
            "text/plain": [
              "0"
            ]
          },
          "metadata": {},
          "execution_count": 21
        }
      ],
      "source": [
        "data.duplicated().sum() ## Complete the code to check duplicate entries in the data"
      ]
    },
    {
      "cell_type": "markdown",
      "metadata": {
        "id": "Ch_TjRfF-qT5"
      },
      "source": [
        "### Checking for missing values"
      ]
    },
    {
      "cell_type": "code",
      "execution_count": 22,
      "metadata": {
        "id": "c10B9HMNWq9K",
        "colab": {
          "base_uri": "https://localhost:8080/"
        },
        "outputId": "ec261490-27fb-46f3-b6c3-59f08cf9abf1"
      },
      "outputs": [
        {
          "output_type": "execute_result",
          "data": {
            "text/plain": [
              "brand_name                 0\n",
              "os                         0\n",
              "screen_size                0\n",
              "4g                         0\n",
              "5g                         0\n",
              "main_camera_mp           179\n",
              "selfie_camera_mp           2\n",
              "int_memory                 4\n",
              "ram                        4\n",
              "battery                    6\n",
              "weight                     7\n",
              "release_year               0\n",
              "days_used                  0\n",
              "normalized_used_price      0\n",
              "normalized_new_price       0\n",
              "dtype: int64"
            ]
          },
          "metadata": {},
          "execution_count": 22
        }
      ],
      "source": [
        "data.isnull().sum() ## Complete the code to check duplicate entries in the data"
      ]
    },
    {
      "cell_type": "code",
      "execution_count": 23,
      "metadata": {
        "id": "Z4HfMUSiWxBT"
      },
      "outputs": [],
      "source": [
        "# creating a copy of the data so that original data remains unchanged\n",
        "df = data.copy()"
      ]
    },
    {
      "cell_type": "markdown",
      "metadata": {
        "id": "DhPuzWO7hmV8"
      },
      "source": [
        "## Exploratory Data Analysis"
      ]
    },
    {
      "cell_type": "markdown",
      "metadata": {
        "id": "uxiNWC9JhmV8"
      },
      "source": [
        "### Univariate Analysis"
      ]
    },
    {
      "cell_type": "code",
      "execution_count": null,
      "metadata": {
        "id": "opT6eO8qhmV8"
      },
      "outputs": [],
      "source": [
        "# function to plot a boxplot and a histogram along the same scale.\n",
        "\n",
        "\n",
        "def histogram_boxplot(data, feature, figsize=(15, 10), kde=False, bins=None):\n",
        "    \"\"\"\n",
        "    Boxplot and histogram combined\n",
        "\n",
        "    data: dataframe\n",
        "    feature: dataframe column\n",
        "    figsize: size of figure (default (15,10))\n",
        "    kde: whether to show the density curve (default False)\n",
        "    bins: number of bins for histogram (default None)\n",
        "    \"\"\"\n",
        "    f2, (ax_box2, ax_hist2) = plt.subplots(\n",
        "        nrows=2,  # Number of rows of the subplot grid= 2\n",
        "        sharex=True,  # x-axis will be shared among all subplots\n",
        "        gridspec_kw={\"height_ratios\": (0.25, 0.75)},\n",
        "        figsize=figsize,\n",
        "    )  # creating the 2 subplots\n",
        "    sns.boxplot(\n",
        "        data=data, x=feature, ax=ax_box2, showmeans=True, color=\"violet\"\n",
        "    )  # boxplot will be created and a triangle will indicate the mean value of the column\n",
        "    sns.histplot(\n",
        "        data=data, x=feature, kde=kde, ax=ax_hist2, bins=bins\n",
        "    ) if bins else sns.histplot(\n",
        "        data=data, x=feature, kde=kde, ax=ax_hist2\n",
        "    )  # For histogram\n",
        "    ax_hist2.axvline(\n",
        "        data[feature].mean(), color=\"green\", linestyle=\"--\"\n",
        "    )  # Add mean to the histogram\n",
        "    ax_hist2.axvline(\n",
        "        data[feature].median(), color=\"black\", linestyle=\"-\"\n",
        "    )  # Add median to the histogram"
      ]
    },
    {
      "cell_type": "code",
      "execution_count": null,
      "metadata": {
        "id": "1I7psbWYhmWD"
      },
      "outputs": [],
      "source": [
        "# function to create labeled barplots\n",
        "\n",
        "\n",
        "def labeled_barplot(data, feature, perc=False, n=None):\n",
        "    \"\"\"\n",
        "    Barplot with percentage at the top\n",
        "\n",
        "    data: dataframe\n",
        "    feature: dataframe column\n",
        "    perc: whether to display percentages instead of count (default is False)\n",
        "    n: displays the top n category levels (default is None, i.e., display all levels)\n",
        "    \"\"\"\n",
        "\n",
        "    total = len(data[feature])  # length of the column\n",
        "    count = data[feature].nunique()\n",
        "    if n is None:\n",
        "        plt.figure(figsize=(count + 2, 6))\n",
        "    else:\n",
        "        plt.figure(figsize=(n + 2, 6))\n",
        "\n",
        "    plt.xticks(rotation=90, fontsize=15)\n",
        "    ax = sns.countplot(\n",
        "        data=data,\n",
        "        x=feature,\n",
        "        order=data[feature].value_counts().index[:n],\n",
        "    )\n",
        "\n",
        "    for p in ax.patches:\n",
        "        if perc == True:\n",
        "            label = \"{:.1f}%\".format(\n",
        "                100 * p.get_height() / total\n",
        "            )  # percentage of each class of the category\n",
        "        else:\n",
        "            label = p.get_height()  # count of each level of the category\n",
        "\n",
        "        x = p.get_x() + p.get_width() / 2  # width of the plot\n",
        "        y = p.get_height()  # height of the plot\n",
        "\n",
        "        ax.annotate(\n",
        "            label,\n",
        "            (x, y),\n",
        "            ha=\"center\",\n",
        "            va=\"center\",\n",
        "            size=12,\n",
        "            xytext=(0, 5),\n",
        "            textcoords=\"offset points\",\n",
        "        )  # annotate the percentage\n",
        "\n",
        "    plt.show()  # show the plot"
      ]
    },
    {
      "cell_type": "markdown",
      "metadata": {
        "id": "woJI2SC5hmV9"
      },
      "source": [
        "**`normalized_used_price`**"
      ]
    },
    {
      "cell_type": "code",
      "execution_count": null,
      "metadata": {
        "id": "KOz9j7M_hmV9"
      },
      "outputs": [],
      "source": [
        "histogram_boxplot(df, \"normalized_used_price\")"
      ]
    },
    {
      "cell_type": "markdown",
      "metadata": {
        "id": "YYIpGoRWhmV9"
      },
      "source": [
        "**`normalized_new_price`**"
      ]
    },
    {
      "cell_type": "code",
      "execution_count": null,
      "metadata": {
        "id": "K_AVTS9-hmV_"
      },
      "outputs": [],
      "source": [
        "histogram_boxplot('_______')  ## Complete the code to create histogram_boxplot for 'normalized_new_price'"
      ]
    },
    {
      "cell_type": "markdown",
      "metadata": {
        "id": "OVuQ8smPhmV_"
      },
      "source": [
        "**`screen_size`**"
      ]
    },
    {
      "cell_type": "code",
      "execution_count": null,
      "metadata": {
        "id": "kDcR4t5uhmV_"
      },
      "outputs": [],
      "source": [
        "histogram_boxplot('_______')  ## Complete the code to create histogram_boxplot for 'screen_size'"
      ]
    },
    {
      "cell_type": "markdown",
      "metadata": {
        "id": "zeDwMOz6hmV_"
      },
      "source": [
        "**`main_camera_mp`**"
      ]
    },
    {
      "cell_type": "code",
      "execution_count": null,
      "metadata": {
        "id": "qZHkTniOhmWA"
      },
      "outputs": [],
      "source": [
        "histogram_boxplot('_______')  ## Complete the code to create histogram_boxplot for 'main_camera_mp'"
      ]
    },
    {
      "cell_type": "markdown",
      "metadata": {
        "id": "MZav4AxrhmWA"
      },
      "source": [
        "**`selfie_camera_mp`**"
      ]
    },
    {
      "cell_type": "code",
      "execution_count": null,
      "metadata": {
        "id": "ZxX6OlLehmWA"
      },
      "outputs": [],
      "source": [
        "histogram_boxplot('_______')  ## Complete the code to create histogram_boxplot for 'selfie_camera_mp'"
      ]
    },
    {
      "cell_type": "markdown",
      "metadata": {
        "id": "oFXxdInchmWA"
      },
      "source": [
        "**`int_memory`**"
      ]
    },
    {
      "cell_type": "code",
      "execution_count": null,
      "metadata": {
        "id": "FhrZ64l_hmWA"
      },
      "outputs": [],
      "source": [
        "histogram_boxplot('_______')  ## Complete the code to create histogram_boxplot for 'int_memory'"
      ]
    },
    {
      "cell_type": "markdown",
      "metadata": {
        "id": "eXF46221hmWA"
      },
      "source": [
        "**`ram`**"
      ]
    },
    {
      "cell_type": "code",
      "execution_count": null,
      "metadata": {
        "id": "2TfjASGThmWA"
      },
      "outputs": [],
      "source": [
        "histogram_boxplot('_______')  ## Complete the code to create histogram_boxplot for 'ram'"
      ]
    },
    {
      "cell_type": "markdown",
      "metadata": {
        "id": "fTZI2sO1hmWB"
      },
      "source": [
        "**`weight`**"
      ]
    },
    {
      "cell_type": "code",
      "execution_count": null,
      "metadata": {
        "id": "PDxaAIDZhmWB"
      },
      "outputs": [],
      "source": [
        "histogram_boxplot('_______')  ## Complete the code to create histogram_boxplot for 'weight'"
      ]
    },
    {
      "cell_type": "markdown",
      "metadata": {
        "id": "VXgPSxGbhmWB"
      },
      "source": [
        "**`battery`**"
      ]
    },
    {
      "cell_type": "code",
      "execution_count": null,
      "metadata": {
        "id": "9Wo--kEQhmWB"
      },
      "outputs": [],
      "source": [
        "histogram_boxplot('_______')  ## Complete the code to create histogram_boxplot for 'battery'"
      ]
    },
    {
      "cell_type": "markdown",
      "metadata": {
        "id": "9WPI4QMjhmWB"
      },
      "source": [
        "**`days_used`**"
      ]
    },
    {
      "cell_type": "code",
      "execution_count": null,
      "metadata": {
        "id": "v3JU7JxehmWB"
      },
      "outputs": [],
      "source": [
        "histogram_boxplot('_______')  ## Complete the code to create histogram_boxplot for 'days_used'"
      ]
    },
    {
      "cell_type": "markdown",
      "metadata": {
        "id": "utY4IudWhmWD"
      },
      "source": [
        "**`brand_name`**"
      ]
    },
    {
      "cell_type": "code",
      "execution_count": null,
      "metadata": {
        "id": "5VvbAPpYhmWD"
      },
      "outputs": [],
      "source": [
        "labeled_barplot(df, \"brand_name\", perc=True, n=10)"
      ]
    },
    {
      "cell_type": "markdown",
      "metadata": {
        "id": "NIqtv7SHhmWD"
      },
      "source": [
        "**`os`**"
      ]
    },
    {
      "cell_type": "code",
      "execution_count": null,
      "metadata": {
        "id": "pG7BdJ30hmWD"
      },
      "outputs": [],
      "source": [
        "labeled_barplot('_______') ## Complete the code to create labeled_barplot for 'os'"
      ]
    },
    {
      "cell_type": "markdown",
      "metadata": {
        "id": "5rGNYyuahmWD"
      },
      "source": [
        "**`4g`**"
      ]
    },
    {
      "cell_type": "code",
      "execution_count": null,
      "metadata": {
        "id": "wtGMz_aEhmWD"
      },
      "outputs": [],
      "source": [
        "labeled_barplot('_______') ## Complete the code to create labeled_barplot for '4g'"
      ]
    },
    {
      "cell_type": "markdown",
      "metadata": {
        "id": "7k69m1GPhmWD"
      },
      "source": [
        "**`5g`**"
      ]
    },
    {
      "cell_type": "code",
      "execution_count": null,
      "metadata": {
        "id": "A5s9SA49hmWE"
      },
      "outputs": [],
      "source": [
        "labeled_barplot('_______') ## Complete the code to create labeled_barplot for '5g'"
      ]
    },
    {
      "cell_type": "markdown",
      "metadata": {
        "id": "bTnwoEZ6hmWE"
      },
      "source": [
        "**`release_year`**"
      ]
    },
    {
      "cell_type": "code",
      "execution_count": null,
      "metadata": {
        "id": "lgV3q1tUhmWE"
      },
      "outputs": [],
      "source": [
        "labeled_barplot('_______') ## Complete the code to create labeled_barplot for 'release_year'"
      ]
    },
    {
      "cell_type": "markdown",
      "metadata": {
        "id": "Ga_huJrnhmWE"
      },
      "source": [
        "### Bivariate Analysis"
      ]
    },
    {
      "cell_type": "markdown",
      "metadata": {
        "id": "Jc8kJMd6VxHC"
      },
      "source": [
        "**Correlation Check**"
      ]
    },
    {
      "cell_type": "code",
      "execution_count": null,
      "metadata": {
        "id": "BpJxawjAhmWE"
      },
      "outputs": [],
      "source": [
        "cols_list = df.select_dtypes(include=np.number).columns.tolist()\n",
        "# dropping release_year as it is a temporal variable\n",
        "cols_list.remove(\"release_year\")\n",
        "\n",
        "plt.figure(figsize=(15, 7))\n",
        "sns.heatmap(\n",
        "    df[cols_list].corr(), annot=True, vmin=-1, vmax=1, fmt=\".2f\", cmap=\"Spectral\"\n",
        ")\n",
        "plt.show()"
      ]
    },
    {
      "cell_type": "markdown",
      "metadata": {
        "id": "QLjArqLFhmWF"
      },
      "source": [
        "**The amount of RAM is important for the smooth functioning of a device. Let's see how the amount of RAM varies across brands.**"
      ]
    },
    {
      "cell_type": "code",
      "execution_count": null,
      "metadata": {
        "id": "q77kiPCxhmWF"
      },
      "outputs": [],
      "source": [
        "plt.figure(figsize=(15, 5))\n",
        "sns.boxplot(data=df, x=\"brand_name\", y=\"ram\")\n",
        "plt.xticks(rotation=90)\n",
        "plt.show()"
      ]
    },
    {
      "cell_type": "markdown",
      "metadata": {
        "id": "HeDTwk21hmWF"
      },
      "source": [
        "**People who travel frequently require devices with large batteries to run through the day. But large battery often increases weight, making it feel uncomfortable in the hands. Let's create a new dataframe of only those devices which offer a large battery and analyze.**"
      ]
    },
    {
      "cell_type": "code",
      "execution_count": null,
      "metadata": {
        "id": "Cbcd1vbZhmWF"
      },
      "outputs": [],
      "source": [
        "df_large_battery = df[df.battery > 4500]\n",
        "df_large_battery.shape"
      ]
    },
    {
      "cell_type": "code",
      "execution_count": null,
      "metadata": {
        "id": "kcrj-ImghmWF"
      },
      "outputs": [],
      "source": [
        "plt.figure(figsize=(15, 5))\n",
        "sns.boxplot('______') ## Complete the code to create a boxplot for 'brand_name' and 'weight'\n",
        "plt.xticks(rotation=90)\n",
        "plt.show()"
      ]
    },
    {
      "cell_type": "markdown",
      "metadata": {
        "id": "E9o5QoShhmWF"
      },
      "source": [
        "**People who buy phones and tablets primarily for entertainment purposes prefer a large screen as they offer a better viewing experience. Let's create a new dataframe of only those devices which are suitable for such people and analyze.**"
      ]
    },
    {
      "cell_type": "code",
      "execution_count": null,
      "metadata": {
        "id": "i1DT9SDBhmWF"
      },
      "outputs": [],
      "source": [
        "df_large_screen = df[df.screen_size > 6 * 2.54]\n",
        "df_large_screen.shape"
      ]
    },
    {
      "cell_type": "code",
      "execution_count": null,
      "metadata": {
        "id": "CkSkJ0GIhmWG"
      },
      "outputs": [],
      "source": [
        "labeled_barplot('_______') ## Complete the code to create labeled_barplot for 'brand_name' in large screen dataframe"
      ]
    },
    {
      "cell_type": "markdown",
      "metadata": {
        "id": "UZ4IWWn7hmWG"
      },
      "source": [
        "**Everyone likes a good camera to capture their favorite moments with loved ones. Some customers specifically look for good front cameras to click cool selfies. Let's create a new dataframe of only those devices which are suitable for this customer segment and analyze.**"
      ]
    },
    {
      "cell_type": "code",
      "execution_count": null,
      "metadata": {
        "id": "lAond0uQhmWG"
      },
      "outputs": [],
      "source": [
        "df_selfie_camera = df[df.selfie_camera_mp > 8]\n",
        "df_selfie_camera.shape"
      ]
    },
    {
      "cell_type": "code",
      "execution_count": null,
      "metadata": {
        "id": "OdP27nZBhmWG"
      },
      "outputs": [],
      "source": [
        "labeled_barplot('_______') ## Complete the code to create labeled_barplot for 'brand_name' in high selfie camera dataframe"
      ]
    },
    {
      "cell_type": "markdown",
      "metadata": {
        "id": "BmFNBDmxhmWH"
      },
      "source": [
        "**Let's do a similar analysis for rear cameras.**\n",
        "\n",
        "- Rear cameras generally have a better resolution than front cameras, so we set the threshold higher for them at 16MP."
      ]
    },
    {
      "cell_type": "code",
      "execution_count": null,
      "metadata": {
        "id": "-xoY4afZhmWH"
      },
      "outputs": [],
      "source": [
        "df_main_camera = df[df.main_camera_mp > 16]\n",
        "df_main_camera.shape"
      ]
    },
    {
      "cell_type": "code",
      "execution_count": null,
      "metadata": {
        "id": "gegyv89HhmWH"
      },
      "outputs": [],
      "source": [
        "labeled_barplot('_______') ## Complete the code to create labeled_barplot for 'brand_name' in high main camera dataframe"
      ]
    },
    {
      "cell_type": "markdown",
      "metadata": {
        "id": "SDx7dJtEhmWH"
      },
      "source": [
        "**Let's see how the price of used devices varies across the years.**"
      ]
    },
    {
      "cell_type": "code",
      "execution_count": null,
      "metadata": {
        "id": "HrdhOpHthmWH"
      },
      "outputs": [],
      "source": [
        "plt.figure(figsize=(12, 5))\n",
        "sns.lineplot('_____') ## Complete the code to create a lineplot for release year and used price\n",
        "plt.show()"
      ]
    },
    {
      "cell_type": "markdown",
      "metadata": {
        "id": "vvLSkuZ2hmWI"
      },
      "source": [
        "**Let's check how the prices vary for used phones and tablets offering 4G and 5G networks.**"
      ]
    },
    {
      "cell_type": "code",
      "execution_count": null,
      "metadata": {
        "id": "x5ni9yVPhmWI"
      },
      "outputs": [],
      "source": [
        "plt.figure(figsize=(10, 4))\n",
        "\n",
        "plt.subplot(121)\n",
        "sns.boxplot(data=df, x=\"4g\", y=\"normalized_used_price\")\n",
        "\n",
        "plt.subplot(122)\n",
        "sns.boxplot(data=df, x=\"5g\", y=\"normalized_used_price\")\n",
        "\n",
        "plt.show()"
      ]
    },
    {
      "cell_type": "markdown",
      "metadata": {
        "id": "sbDJ_Vl8hmWI"
      },
      "source": [
        "## Data Preprocessing"
      ]
    },
    {
      "cell_type": "markdown",
      "metadata": {
        "id": "9Jnj657ShmWI"
      },
      "source": [
        "### Missing Value Imputation\n",
        "\n",
        "- We will impute the missing values in the data by the column medians grouped by `release_year` and `brand_name`."
      ]
    },
    {
      "cell_type": "code",
      "execution_count": null,
      "metadata": {
        "id": "dzp0-E7rKffM"
      },
      "outputs": [],
      "source": [
        "# let's create a copy of the data\n",
        "df1 = df.copy()"
      ]
    },
    {
      "cell_type": "code",
      "execution_count": null,
      "metadata": {
        "id": "0QfWi8PYhmWI"
      },
      "outputs": [],
      "source": [
        "# checking for missing values\n",
        "df1.'_______' ## Complete the code to check missing values in all the columns"
      ]
    },
    {
      "cell_type": "code",
      "execution_count": null,
      "metadata": {
        "id": "KQEug5qNhmWJ"
      },
      "outputs": [],
      "source": [
        "cols_impute = [\n",
        "    \"main_camera_mp\",\n",
        "    \"selfie_camera_mp\",\n",
        "    \"int_memory\",\n",
        "    \"ram\",\n",
        "    \"battery\",\n",
        "    \"weight\",\n",
        "]\n",
        "\n",
        "for col in cols_impute:\n",
        "    df1[col] = df1[col].fillna(\n",
        "        value=df1.groupby(['_____'])[col].transform(\"median\")\n",
        "    )   ## Complete the code to impute missing values in cols_impute with median by grouping the data on release year and brand name\n",
        "\n",
        "# checking for missing values\n",
        "df1.'_______' ## Complete the code to check missing values after imputing the above columns"
      ]
    },
    {
      "cell_type": "markdown",
      "metadata": {
        "id": "XF_SHRjPhmWJ"
      },
      "source": [
        "- We will impute the remaining missing values in the data by the column medians grouped by `brand_name`."
      ]
    },
    {
      "cell_type": "code",
      "execution_count": null,
      "metadata": {
        "id": "IzHBI4C6hmWJ"
      },
      "outputs": [],
      "source": [
        "cols_impute = [\n",
        "    \"main_camera_mp\",\n",
        "    \"selfie_camera_mp\",\n",
        "    \"battery\",\n",
        "    \"weight\",\n",
        "]\n",
        "\n",
        "for col in cols_impute:\n",
        "    df1[col] = df1[col].fillna(\n",
        "        value=df1.groupby(['_____'])[col].transform(\"median\")\n",
        "    ) ## Complete the code to impute the missing values in cols_impute with median by grouping the data on brand name\n",
        "\n",
        "# checking for missing values\n",
        "df1.'_______' ## Complete the code to check missing values after imputing the above columns"
      ]
    },
    {
      "cell_type": "markdown",
      "metadata": {
        "id": "B6JWbAyQhmWJ"
      },
      "source": [
        "- We will fill the remaining missing values in the `main_camera_mp` column by the column median."
      ]
    },
    {
      "cell_type": "code",
      "execution_count": null,
      "metadata": {
        "id": "uQJgQmzohmWJ"
      },
      "outputs": [],
      "source": [
        "df1[\"main_camera_mp\"] = df1[\"main_camera_mp\"].fillna(df1[\"main_camera_mp\"].'_______') ## Complete the code to impute the data with median\n",
        "\n",
        "# checking for missing values\n",
        "df1.'_______' ## Complete the code to check missing values after imputing the above columns"
      ]
    },
    {
      "cell_type": "markdown",
      "metadata": {
        "id": "OPB6dxxmWq1s"
      },
      "source": [
        "### Feature Engineering"
      ]
    },
    {
      "cell_type": "markdown",
      "metadata": {
        "id": "zYOa-FxlhmWG"
      },
      "source": [
        "\n",
        "\n",
        "- Let's create a new column `years_since_release` from the `release_year` column.\n",
        "- We will consider the year of data collection, 2021, as the baseline.\n",
        "- We will drop the `release_year` column."
      ]
    },
    {
      "cell_type": "code",
      "execution_count": null,
      "metadata": {
        "id": "ihTY3XRkhmWG"
      },
      "outputs": [],
      "source": [
        "df1[\"years_since_release\"] = 2021 - df1[\"release_year\"]\n",
        "df1.drop(\"release_year\", axis=1, inplace=True)\n",
        "df1[\"years_since_release\"].describe()"
      ]
    },
    {
      "cell_type": "markdown",
      "metadata": {
        "id": "4jUrmT40Wx7M"
      },
      "source": [
        "### Outlier Check\n"
      ]
    },
    {
      "cell_type": "markdown",
      "metadata": {
        "id": "nLoHqqf1hmWJ"
      },
      "source": [
        "\n",
        "- Let's check for outliers in the data."
      ]
    },
    {
      "cell_type": "code",
      "execution_count": null,
      "metadata": {
        "id": "2RSTq3PWhmWJ"
      },
      "outputs": [],
      "source": [
        "# outlier detection using boxplot\n",
        "num_cols = df1.select_dtypes(include=np.number).columns.tolist()\n",
        "\n",
        "plt.figure(figsize=(15, 15))\n",
        "\n",
        "for i, variable in enumerate(num_cols):\n",
        "    plt.subplot(4, 3, i + 1)\n",
        "    sns.boxplot(data=df1, x=variable)\n",
        "    plt.tight_layout(pad=2)\n",
        "\n",
        "plt.show()"
      ]
    },
    {
      "cell_type": "markdown",
      "metadata": {
        "id": "QChrTYFaKvTk"
      },
      "source": [
        "### Data Preparation for modeling"
      ]
    },
    {
      "cell_type": "markdown",
      "metadata": {
        "id": "wwu8iCRQhmWK"
      },
      "source": [
        "- We want to predict the normalized price of used devices\n",
        "- Before we proceed to build a model, we'll have to encode categorical features\n",
        "- We'll split the data into train and test to be able to evaluate the model that we build on the train data\n",
        "- We will build a Linear Regression model using the train data and then check it's performance"
      ]
    },
    {
      "cell_type": "code",
      "execution_count": null,
      "metadata": {
        "id": "372WHRhJGpj4"
      },
      "outputs": [],
      "source": [
        "## Complete the code to define the dependent and independent variables\n",
        "X = '_______'\n",
        "y = '_______'\n",
        "\n",
        "print(X.head())\n",
        "print()\n",
        "print(y.head())"
      ]
    },
    {
      "cell_type": "code",
      "execution_count": null,
      "metadata": {
        "id": "Py6xQDcfLQLk"
      },
      "outputs": [],
      "source": [
        "# let's add the intercept to data\n",
        "X = sm.add_constant(X)"
      ]
    },
    {
      "cell_type": "code",
      "execution_count": null,
      "metadata": {
        "id": "xWw6sT0yhmWK"
      },
      "outputs": [],
      "source": [
        "# creating dummy variables\n",
        "X = pd.'_______'(\n",
        "    X,\n",
        "    columns=X.select_dtypes(include=[\"object\", \"category\"]).columns.tolist(),\n",
        "    drop_first=True,\n",
        ")  ## Complete the code to create dummies for independent features\n",
        "\n",
        "X.head()"
      ]
    },
    {
      "cell_type": "code",
      "execution_count": null,
      "metadata": {
        "id": "CBXfTtAPGoaF"
      },
      "outputs": [],
      "source": [
        "# splitting the data in 70:30 ratio for train to test data\n",
        "\n",
        "x_train, x_test, y_train, y_test = '_______' ## Complete the code to split the data into train and test in specified ratio"
      ]
    },
    {
      "cell_type": "code",
      "execution_count": null,
      "metadata": {
        "id": "xUGp866qhmWK"
      },
      "outputs": [],
      "source": [
        "print(\"Number of rows in train data =\", x_train.shape[0])\n",
        "print(\"Number of rows in test data =\", x_test.shape[0])"
      ]
    },
    {
      "cell_type": "markdown",
      "metadata": {
        "id": "1JsqBJEohmWK"
      },
      "source": [
        "## Model Building - Linear Regression\n"
      ]
    },
    {
      "cell_type": "code",
      "execution_count": null,
      "metadata": {
        "id": "-uylJTNMqH8b",
        "scrolled": false
      },
      "outputs": [],
      "source": [
        "olsmodel1 = sm.'_______' ## Complete the code to fit OLS model\n",
        "print(olsmodel1.summary())"
      ]
    },
    {
      "cell_type": "markdown",
      "metadata": {
        "id": "9dgIbf7ALlYm"
      },
      "source": [
        "### Model Performance Check"
      ]
    },
    {
      "cell_type": "markdown",
      "metadata": {
        "id": "5MyYq4vaKffS"
      },
      "source": [
        "**Let's check the performance of the model using different metrics.**\n",
        "\n",
        "* We will be using metric functions defined in sklearn for RMSE, MAE, and $R^2$.\n",
        "* We will define a function to calculate MAPE and adjusted $R^2$.    \n",
        "* We will create a function which will print out all the above metrics in one go."
      ]
    },
    {
      "cell_type": "code",
      "execution_count": null,
      "metadata": {
        "id": "deaapIIvlJIL"
      },
      "outputs": [],
      "source": [
        "# function to compute adjusted R-squared\n",
        "def adj_r2_score(predictors, targets, predictions):\n",
        "    r2 = r2_score(targets, predictions)\n",
        "    n = predictors.shape[0]\n",
        "    k = predictors.shape[1]\n",
        "    return 1 - ((1 - r2) * (n - 1) / (n - k - 1))\n",
        "\n",
        "\n",
        "# function to compute MAPE\n",
        "def mape_score(targets, predictions):\n",
        "    return np.mean(np.abs(targets - predictions) / targets) * 100\n",
        "\n",
        "\n",
        "# function to compute different metrics to check performance of a regression model\n",
        "def model_performance_regression(model, predictors, target):\n",
        "    \"\"\"\n",
        "    Function to compute different metrics to check regression model performance\n",
        "\n",
        "    model: regressor\n",
        "    predictors: independent variables\n",
        "    target: dependent variable\n",
        "    \"\"\"\n",
        "\n",
        "    # predicting using the independent variables\n",
        "    pred = model.predict(predictors)\n",
        "\n",
        "    r2 = r2_score(target, pred)  # to compute R-squared\n",
        "    adjr2 = adj_r2_score(predictors, target, pred)  # to compute adjusted R-squared\n",
        "    rmse = np.sqrt(mean_squared_error(target, pred))  # to compute RMSE\n",
        "    mae = mean_absolute_error(target, pred)  # to compute MAE\n",
        "    mape = mape_score(target, pred)  # to compute MAPE\n",
        "\n",
        "    # creating a dataframe of metrics\n",
        "    df_perf = pd.DataFrame(\n",
        "        {\n",
        "            \"RMSE\": rmse,\n",
        "            \"MAE\": mae,\n",
        "            \"R-squared\": r2,\n",
        "            \"Adj. R-squared\": adjr2,\n",
        "            \"MAPE\": mape,\n",
        "        },\n",
        "        index=[0],\n",
        "    )\n",
        "\n",
        "    return df_perf"
      ]
    },
    {
      "cell_type": "code",
      "execution_count": null,
      "metadata": {
        "id": "vVBBaPtf-BZd"
      },
      "outputs": [],
      "source": [
        "# checking model performance on train set (seen 70% data)\n",
        "print(\"Training Performance\\n\")\n",
        "olsmodel1_train_perf = model_performance_regression(olsmodel1, x_train, y_train)\n",
        "olsmodel1_train_perf"
      ]
    },
    {
      "cell_type": "code",
      "execution_count": null,
      "metadata": {
        "id": "Sv51vNBhlJIL"
      },
      "outputs": [],
      "source": [
        "# checking model performance on test set (seen 30% data)\n",
        "print(\"Test Performance\\n\")\n",
        "olsmodel1_test_perf = model_performance_regression('_______') ## Complete the code to check the performance on test data\n",
        "olsmodel1_test_perf"
      ]
    },
    {
      "cell_type": "markdown",
      "metadata": {
        "id": "a9GxSQf-qH8e"
      },
      "source": [
        "## Checking Linear Regression Assumptions"
      ]
    },
    {
      "cell_type": "markdown",
      "metadata": {
        "id": "5Wr6XkwoqH8f"
      },
      "source": [
        "We will be checking the following Linear Regression assumptions:\n",
        "\n",
        "1. **No Multicollinearity**\n",
        "\n",
        "2. **Linearity of variables**\n",
        "\n",
        "3. **Independence of error terms**\n",
        "\n",
        "4. **Normality of error terms**\n",
        "\n",
        "5. **No Heteroscedasticity**"
      ]
    },
    {
      "cell_type": "markdown",
      "metadata": {
        "id": "SB4GanGWSOBT"
      },
      "source": [
        "### TEST FOR MULTICOLLINEARITY\n"
      ]
    },
    {
      "cell_type": "markdown",
      "metadata": {
        "id": "mROHQdzZqH8f"
      },
      "source": [
        "\n",
        "- We will test for multicollinearity using VIF.\n",
        "\n",
        "- **General Rule of thumb**:\n",
        "    - If VIF is 1 then there is no correlation between the $k$th predictor and the remaining predictor variables.\n",
        "    - If VIF exceeds 5 or is close to exceeding 5, we say there is moderate multicollinearity.\n",
        "    - If VIF is 10 or exceeding 10, it shows signs of high multicollinearity."
      ]
    },
    {
      "cell_type": "markdown",
      "metadata": {
        "id": "Hm6Y_e-mTvDl"
      },
      "source": [
        "Let's define a function to check VIF."
      ]
    },
    {
      "cell_type": "code",
      "execution_count": null,
      "metadata": {
        "id": "ZV-69rVWqH8g"
      },
      "outputs": [],
      "source": [
        "#Let's define a function to check VIF.\n",
        "\n",
        "def checking_vif(predictors):\n",
        "    vif = pd.DataFrame()\n",
        "    vif[\"feature\"] = predictors.columns\n",
        "\n",
        "    # calculating VIF for each feature\n",
        "    vif[\"VIF\"] = [\n",
        "        variance_inflation_factor(predictors.values, i)\n",
        "        for i in range(len(predictors.columns))\n",
        "    ]\n",
        "    return vif"
      ]
    },
    {
      "cell_type": "code",
      "execution_count": null,
      "metadata": {
        "id": "xPdvX4xZhmWL"
      },
      "outputs": [],
      "source": [
        "checking_vif('_______')  ## Complete the code to check VIF on train data"
      ]
    },
    {
      "cell_type": "markdown",
      "metadata": {
        "id": "ulUc-ceISeyu"
      },
      "source": [
        "### Removing Multicollinearity (if needed)\n"
      ]
    },
    {
      "cell_type": "markdown",
      "metadata": {
        "id": "XSiS4SRaqH8q"
      },
      "source": [
        "\n",
        "To remove multicollinearity\n",
        "\n",
        "1. Drop every column one by one that has a VIF score greater than 5.\n",
        "2. Look at the adjusted R-squared and RMSE of all these models.\n",
        "3. Drop the variable that makes the least change in adjusted R-squared.\n",
        "4. Check the VIF scores again.\n",
        "5. Continue till you get all VIF scores under 5.\n",
        "\n",
        "Let's define a function that will help us do this."
      ]
    },
    {
      "cell_type": "code",
      "execution_count": null,
      "metadata": {
        "id": "93U9udWjKffT"
      },
      "outputs": [],
      "source": [
        "def treating_multicollinearity(predictors, target, high_vif_columns):\n",
        "    \"\"\"\n",
        "    Checking the effect of dropping the columns showing high multicollinearity\n",
        "    on model performance (adj. R-squared and RMSE)\n",
        "\n",
        "    predictors: independent variables\n",
        "    target: dependent variable\n",
        "    high_vif_columns: columns having high VIF\n",
        "    \"\"\"\n",
        "    # empty lists to store adj. R-squared and RMSE values\n",
        "    adj_r2 = []\n",
        "    rmse = []\n",
        "\n",
        "    # build ols models by dropping one of the high VIF columns at a time\n",
        "    # store the adjusted R-squared and RMSE in the lists defined previously\n",
        "    for cols in high_vif_columns:\n",
        "        # defining the new train set\n",
        "        train = predictors.loc[:, ~predictors.columns.str.startswith(cols)]\n",
        "\n",
        "        # create the model\n",
        "        olsmodel = sm.OLS(target, train).fit()\n",
        "\n",
        "        # adding adj. R-squared and RMSE to the lists\n",
        "        adj_r2.append(olsmodel.rsquared_adj)\n",
        "        rmse.append(np.sqrt(olsmodel.mse_resid))\n",
        "\n",
        "    # creating a dataframe for the results\n",
        "    temp = pd.DataFrame(\n",
        "        {\n",
        "            \"col\": high_vif_columns,\n",
        "            \"Adj. R-squared after_dropping col\": adj_r2,\n",
        "            \"RMSE after dropping col\": rmse,\n",
        "        }\n",
        "    ).sort_values(by=\"Adj. R-squared after_dropping col\", ascending=False)\n",
        "    temp.reset_index(drop=True, inplace=True)\n",
        "\n",
        "    return temp"
      ]
    },
    {
      "cell_type": "code",
      "execution_count": null,
      "metadata": {
        "id": "r08PiCLiKffT"
      },
      "outputs": [],
      "source": [
        "col_list = ['____'] ## Complete the code to specify the columns with high VIF\n",
        "\n",
        "res = treating_multicollinearity('_____', y_train, col_list) ## Complete the code to check the effect on model performance after dropping specified columns from train data\n",
        "res"
      ]
    },
    {
      "cell_type": "code",
      "execution_count": null,
      "metadata": {
        "id": "JDJlsR2dKffU"
      },
      "outputs": [],
      "source": [
        "col_to_drop = '_____' ## Complete the code to specify the column to drop\n",
        "x_train2 = '_____'.loc[:, ~'_____'.columns.str.startswith(col_to_drop)] ## Complete the code to specify the train data from which to drop the column specified\n",
        "x_test2 = '_____'.loc[:, ~'_____'.columns.str.startswith(col_to_drop)] ## Complete the code to specify the test data from which to drop the column specified\n",
        "\n",
        "# Check VIF now\n",
        "vif = checking_vif(x_train2)\n",
        "print(\"VIF after dropping \", col_to_drop)\n",
        "vif"
      ]
    },
    {
      "cell_type": "markdown",
      "metadata": {
        "id": "j2hb9VujhmWL"
      },
      "source": [
        "### Dropping high p-value variables (if needed)\n",
        "\n",
        "- We will drop the predictor variables having a p-value greater than 0.05 as they do not significantly impact the target variable.\n",
        "- But sometimes p-values change after dropping a variable. So, we'll not drop all variables at once.\n",
        "- Instead, we will do the following:\n",
        "    - Build a model, check the p-values of the variables, and drop the column with the highest p-value.\n",
        "    - Create a new model without the dropped feature, check the p-values of the variables, and drop the column with the highest p-value.\n",
        "    - Repeat the above two steps till there are no columns with p-value > 0.05.\n",
        "\n",
        "The above process can also be done manually by picking one variable at a time that has a high p-value, dropping it, and building a model again. But that might be a little tedious and using a loop will be more efficient."
      ]
    },
    {
      "cell_type": "code",
      "execution_count": null,
      "metadata": {
        "id": "kTFISTQlSy6K"
      },
      "outputs": [],
      "source": [
        "# initial list of columns\n",
        "predictors = '_____'.copy()  ## Complete the code to check for p-values on the right dataset\n",
        "cols = predictors.columns.tolist()\n",
        "\n",
        "# setting an initial max p-value\n",
        "max_p_value = 1\n",
        "\n",
        "while len(cols) > 0:\n",
        "    # defining the train set\n",
        "    x_train_aux = predictors[cols]\n",
        "\n",
        "    # fitting the model\n",
        "    model = sm.OLS(y_train, x_train_aux).fit()\n",
        "\n",
        "    # getting the p-values and the maximum p-value\n",
        "    p_values = model.pvalues\n",
        "    max_p_value = max(p_values)\n",
        "\n",
        "    # name of the variable with maximum p-value\n",
        "    feature_with_p_max = p_values.idxmax()\n",
        "\n",
        "    if max_p_value > 0.05:\n",
        "        cols.remove(feature_with_p_max)\n",
        "    else:\n",
        "        break\n",
        "\n",
        "selected_features = cols\n",
        "print(selected_features)"
      ]
    },
    {
      "cell_type": "code",
      "execution_count": null,
      "metadata": {
        "id": "p0CfofLchmWL"
      },
      "outputs": [],
      "source": [
        "x_train3 = '____'[selected_features]  ## Complete the code to specify the train data from which to select the specified columns\n",
        "x_test3 = '____'[selected_features]  ## Complete the code to specify the test data from which to select the specified columns"
      ]
    },
    {
      "cell_type": "code",
      "execution_count": null,
      "metadata": {
        "id": "qaaUG3jDhmWM"
      },
      "outputs": [],
      "source": [
        "olsmodel2 = sm.'_______' ## Complete the code fit OLS() on updated dataset (no multicollinearity and no insignificant predictors)\n",
        "print(olsmodel2.summary())"
      ]
    },
    {
      "cell_type": "code",
      "execution_count": null,
      "metadata": {
        "id": "pgmwbtRXhmWM"
      },
      "outputs": [],
      "source": [
        "# checking model performance on train set (seen 70% data)\n",
        "print(\"Training Performance\\n\")\n",
        "olsmodel2_train_perf = model_performance_regression('_______') ## Complete the code to check performance on train data\n",
        "olsmodel2_train_perf"
      ]
    },
    {
      "cell_type": "code",
      "execution_count": null,
      "metadata": {
        "id": "-xMPZ9pRhmWM"
      },
      "outputs": [],
      "source": [
        "# checking model performance on test set (seen 30% data)\n",
        "print(\"Test Performance\\n\")\n",
        "olsmodel2_test_perf = model_performance_regression('_______') ## Complete the code to check performance on test data\n",
        "olsmodel2_test_perf"
      ]
    },
    {
      "cell_type": "markdown",
      "metadata": {
        "id": "Ctk29PsRqH90"
      },
      "source": [
        "**Now we'll check the rest of the assumptions on *olsmod2*.**\n",
        "\n",
        "2. **Linearity of variables**\n",
        "\n",
        "3. **Independence of error terms**\n",
        "\n",
        "4. **Normality of error terms**\n",
        "\n",
        "5. **No Heteroscedasticity**"
      ]
    },
    {
      "cell_type": "markdown",
      "metadata": {
        "id": "ykvaeUZ-TkjD"
      },
      "source": [
        "### TEST FOR LINEARITY AND INDEPENDENCE\n"
      ]
    },
    {
      "cell_type": "markdown",
      "metadata": {
        "id": "MnOY6E5uqH-C"
      },
      "source": [
        "\n",
        "- We will test for linearity and independence by making a plot of fitted values vs residuals and checking for patterns.\n",
        "- If there is no pattern, then we say the model is linear and residuals are independent.\n",
        "- Otherwise, the model is showing signs of non-linearity and residuals are not independent."
      ]
    },
    {
      "cell_type": "code",
      "execution_count": null,
      "metadata": {
        "id": "aNkYG_qihmWM"
      },
      "outputs": [],
      "source": [
        "# let us create a dataframe with actual, fitted and residual values\n",
        "df_pred = pd.DataFrame()\n",
        "\n",
        "df_pred[\"Actual Values\"] = y_train  # actual values\n",
        "df_pred[\"Fitted Values\"] = olsmodel2.fittedvalues  # predicted values\n",
        "df_pred[\"Residuals\"] = olsmodel2.resid  # residuals\n",
        "\n",
        "df_pred.head()"
      ]
    },
    {
      "cell_type": "code",
      "execution_count": null,
      "metadata": {
        "id": "NJ4ivHQiqH-G"
      },
      "outputs": [],
      "source": [
        "# let's plot the fitted values vs residuals\n",
        "\n",
        "sns.residplot(\n",
        "    data=df_pred, x=\"Fitted Values\", y=\"Residuals\", color=\"purple\", lowess=True\n",
        ")\n",
        "plt.xlabel(\"Fitted Values\")\n",
        "plt.ylabel(\"Residuals\")\n",
        "plt.title(\"Fitted vs Residual plot\")\n",
        "plt.show()"
      ]
    },
    {
      "cell_type": "markdown",
      "metadata": {
        "id": "VOxf_qsQqH-N"
      },
      "source": [
        "### TEST FOR NORMALITY\n",
        "\n",
        "- We will test for normality by checking the distribution of residuals, by checking the Q-Q plot of residuals, and by using the Shapiro-Wilk test.\n",
        "- If the residuals follow a normal distribution, they will make a straight line plot, otherwise not.\n",
        "- If the p-value of the Shapiro-Wilk test is greater than 0.05, we can say the residuals are normally distributed."
      ]
    },
    {
      "cell_type": "code",
      "execution_count": null,
      "metadata": {
        "id": "MUdQ6XJLqH-N"
      },
      "outputs": [],
      "source": [
        "sns.histplot(data=df_pred, '_______') ## Complete the code to plot the distribution of residuals\n",
        "plt.title(\"Normality of residuals\")\n",
        "plt.show()"
      ]
    },
    {
      "cell_type": "code",
      "execution_count": null,
      "metadata": {
        "id": "Wj8y7-1nqH-Q"
      },
      "outputs": [],
      "source": [
        "import pylab\n",
        "import scipy.stats as stats\n",
        "\n",
        "stats.probplot('_____', dist=\"norm\", plot=pylab) ## Complete the code check Q-Q plot\n",
        "plt.show()"
      ]
    },
    {
      "cell_type": "code",
      "execution_count": null,
      "metadata": {
        "id": "b1LIATpBqH-U"
      },
      "outputs": [],
      "source": [
        "stats.shapiro('_______') ## Complete the code to apply the Shapiro-Wilks test"
      ]
    },
    {
      "cell_type": "markdown",
      "metadata": {
        "id": "FTnuLaLBXvdR"
      },
      "source": [
        "### TEST FOR HOMOSCEDASTICITY\n"
      ]
    },
    {
      "cell_type": "markdown",
      "metadata": {
        "id": "6gZ4GKY_qH-Z"
      },
      "source": [
        "\n",
        "- We will test for homoscedasticity by using the goldfeldquandt test.\n",
        "- If we get a p-value greater than 0.05, we can say that the residuals are homoscedastic. Otherwise, they are heteroscedastic."
      ]
    },
    {
      "cell_type": "code",
      "execution_count": null,
      "metadata": {
        "id": "naX-iXItqH-b"
      },
      "outputs": [],
      "source": [
        "import statsmodels.stats.api as sms\n",
        "from statsmodels.compat import lzip\n",
        "\n",
        "name = [\"F statistic\", \"p-value\"]\n",
        "test = sms.het_goldfeldquandt(df_pred[\"Residuals\"], '_____') ## Complete the code with the right train data to apply the Goldfeldquandt test\n",
        "lzip(name, test)"
      ]
    },
    {
      "cell_type": "markdown",
      "metadata": {
        "id": "aIjiQ1NghmWN"
      },
      "source": [
        "## Final Model Summary"
      ]
    },
    {
      "cell_type": "code",
      "execution_count": null,
      "metadata": {
        "id": "x_Sqvs4TMKtn"
      },
      "outputs": [],
      "source": [
        "olsmodel_final = sm.'_______' ## Complete the code to fit the final model\n",
        "print(olsmodel_final.summary())"
      ]
    },
    {
      "cell_type": "code",
      "execution_count": null,
      "metadata": {
        "id": "4KbUJPfhhmWN"
      },
      "outputs": [],
      "source": [
        "# checking model performance on train set (seen 70% data)\n",
        "print(\"Training Performance\\n\")\n",
        "olsmodel_final_train_perf = model_performance_regression('_______') ## Complete the code to check the performance on train data\n",
        "olsmodel_final_train_perf"
      ]
    },
    {
      "cell_type": "code",
      "execution_count": null,
      "metadata": {
        "id": "T-WL13KBhmWN"
      },
      "outputs": [],
      "source": [
        "# checking model performance on test set (seen 30% data)\n",
        "print(\"Test Performance\\n\")\n",
        "olsmodel_final_test_perf = model_performance_regression('_______') ## Complete the code to check performance on test data\n",
        "olsmodel_final_test_perf"
      ]
    },
    {
      "cell_type": "markdown",
      "metadata": {
        "id": "2BkZh6eHluZK"
      },
      "source": [
        "##  Actionable Insights and Recommendations"
      ]
    },
    {
      "cell_type": "markdown",
      "metadata": {
        "id": "pj1rya_NXY-y"
      },
      "source": [
        "-\n"
      ]
    },
    {
      "cell_type": "markdown",
      "metadata": {
        "id": "W9V-w49_ULvd"
      },
      "source": [
        "---------"
      ]
    }
  ],
  "metadata": {
    "colab": {
      "collapsed_sections": [
        "uxiNWC9JhmV8",
        "Ga_huJrnhmWE",
        "sbDJ_Vl8hmWI",
        "9Jnj657ShmWI",
        "OPB6dxxmWq1s",
        "4jUrmT40Wx7M",
        "QChrTYFaKvTk",
        "1JsqBJEohmWK",
        "9dgIbf7ALlYm",
        "a9GxSQf-qH8e",
        "SB4GanGWSOBT",
        "ulUc-ceISeyu",
        "j2hb9VujhmWL",
        "ykvaeUZ-TkjD",
        "VOxf_qsQqH-N",
        "FTnuLaLBXvdR",
        "aIjiQ1NghmWN",
        "2BkZh6eHluZK"
      ],
      "provenance": [],
      "include_colab_link": true
    },
    "kernelspec": {
      "display_name": "Python 3 (ipykernel)",
      "language": "python",
      "name": "python3"
    },
    "language_info": {
      "codemirror_mode": {
        "name": "ipython",
        "version": 3
      },
      "file_extension": ".py",
      "mimetype": "text/x-python",
      "name": "python",
      "nbconvert_exporter": "python",
      "pygments_lexer": "ipython3",
      "version": "3.9.12"
    }
  },
  "nbformat": 4,
  "nbformat_minor": 0
}