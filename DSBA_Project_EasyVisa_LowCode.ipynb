{
  "cells": [
    {
      "cell_type": "markdown",
      "metadata": {
        "id": "view-in-github",
        "colab_type": "text"
      },
      "source": [
        "<a href=\"https://colab.research.google.com/github/erika024/data-science/blob/main/DSBA_Project_EasyVisa_LowCode.ipynb\" target=\"_parent\"><img src=\"https://colab.research.google.com/assets/colab-badge.svg\" alt=\"Open In Colab\"/></a>"
      ]
    },
    {
      "cell_type": "markdown",
      "id": "5i1Du122jTeM",
      "metadata": {
        "id": "5i1Du122jTeM"
      },
      "source": [
        "## EasyVisa Project\n"
      ]
    },
    {
      "cell_type": "markdown",
      "id": "2xUfZBo9JM9e",
      "metadata": {
        "id": "2xUfZBo9JM9e"
      },
      "source": [
        "## Problem Statement"
      ]
    },
    {
      "cell_type": "markdown",
      "id": "empty-shanghai",
      "metadata": {
        "id": "empty-shanghai"
      },
      "source": [
        "### Context:\n",
        "\n",
        "Business communities in the United States are facing high demand for human resources, but one of the constant challenges is identifying and attracting the right talent, which is perhaps the most important element in remaining competitive. Companies in the United States look for hard-working, talented, and qualified individuals both locally as well as abroad.\n",
        "\n",
        "The Immigration and Nationality Act (INA) of the US permits foreign workers to come to the United States to work on either a temporary or permanent basis. The act also protects US workers against adverse impacts on their wages or working conditions by ensuring US employers' compliance with statutory requirements when they hire foreign workers to fill workforce shortages. The immigration programs are administered by the Office of Foreign Labor Certification (OFLC).\n",
        "\n",
        "OFLC processes job certification applications for employers seeking to bring foreign workers into the United States and grants certifications in those cases where employers can demonstrate that there are not sufficient US workers available to perform the work at wages that meet or exceed the wage paid for the occupation in the area of intended employment.\n",
        "\n",
        "### Objective:\n",
        "\n",
        "In FY 2016, the OFLC processed 775,979 employer applications for 1,699,957 positions for temporary and permanent labor certifications. This was a nine percent increase in the overall number of processed applications from the previous year. The process of reviewing every case is becoming a tedious task as the number of applicants is increasing every year.\n",
        "\n",
        "The increasing number of applicants every year calls for a Machine Learning based solution that can help in shortlisting the candidates having higher chances of VISA approval. OFLC has hired the firm EasyVisa for data-driven solutions. You as a data  scientist at EasyVisa have to analyze the data provided and, with the help of a classification model:\n",
        "\n",
        "* Facilitate the process of visa approvals.\n",
        "* Recommend a suitable profile for the applicants for whom the visa should be certified or denied based on the drivers that significantly influence the case status.\n",
        "\n",
        "### Data Description\n",
        "\n",
        "The data contains the different attributes of employee and the employer. The detailed data dictionary is given below.\n",
        "\n",
        "* case_id: ID of each visa application\n",
        "* continent: Information of continent the employee\n",
        "* education_of_employee: Information of education of the employee\n",
        "* has_job_experience: Does the employee has any job experience? Y= Yes; N = No\n",
        "* requires_job_training: Does the employee require any job training? Y = Yes; N = No\n",
        "* no_of_employees: Number of employees in the employer's company\n",
        "* yr_of_estab: Year in which the employer's company was established\n",
        "* region_of_employment: Information of foreign worker's intended region of employment in the US.\n",
        "* prevailing_wage:  Average wage paid to similarly employed workers in a specific occupation in the area of intended employment. The purpose of the prevailing wage is to ensure that the foreign worker is not underpaid compared to other workers offering the same or similar service in the same area of employment.\n",
        "* unit_of_wage: Unit of prevailing wage. Values include Hourly, Weekly, Monthly, and Yearly.\n",
        "* full_time_position: Is the position of work full-time? Y = Full Time Position; N = Part Time Position\n",
        "* case_status:  Flag indicating if the Visa was certified or denied"
      ]
    },
    {
      "cell_type": "markdown",
      "id": "0202dc63",
      "metadata": {
        "id": "0202dc63"
      },
      "source": [
        "### **Please read the instructions carefully before starting the project.**\n",
        "This is a commented Jupyter IPython Notebook file in which all the instructions and tasks to be performed are mentioned.\n",
        "* Blanks '_______' are provided in the notebook that\n",
        "needs to be filled with an appropriate code to get the correct result. With every '_______' blank, there is a comment that briefly describes what needs to be filled in the blank space.\n",
        "* Identify the task to be performed correctly, and only then proceed to write the required code.\n",
        "* Fill the code wherever asked by the commented lines like \"# write your code here\" or \"# complete the code\". Running incomplete code may throw error.\n",
        "* Please run the codes in a sequential manner from the beginning to avoid any unnecessary errors.\n",
        "* Add the results/observations (wherever mentioned) derived from the analysis in the presentation and submit the same."
      ]
    },
    {
      "cell_type": "markdown",
      "id": "c1cd4628",
      "metadata": {
        "id": "c1cd4628"
      },
      "source": [
        "## Importing necessary libraries"
      ]
    },
    {
      "cell_type": "code",
      "source": [
        "# Installing the libraries with the specified version.\n",
        "!pip install numpy==1.25.2 pandas==1.5.3 scikit-learn==1.2.2 matplotlib==3.7.1 seaborn==0.13.1 xgboost==2.0.3"
      ],
      "metadata": {
        "id": "krPyJHfVN5OQ",
        "colab": {
          "base_uri": "https://localhost:8080/"
        },
        "outputId": "b5fcdee9-bac4-4644-d2e7-806310cf842a"
      },
      "id": "krPyJHfVN5OQ",
      "execution_count": null,
      "outputs": [
        {
          "output_type": "stream",
          "name": "stdout",
          "text": [
            "Requirement already satisfied: numpy==1.25.2 in /usr/local/lib/python3.10/dist-packages (1.25.2)\n",
            "Collecting pandas==1.5.3\n",
            "  Downloading pandas-1.5.3-cp310-cp310-manylinux_2_17_x86_64.manylinux2014_x86_64.whl (12.1 MB)\n",
            "\u001b[2K     \u001b[90m━━━━━━━━━━━━━━━━━━━━━━━━━━━━━━━━━━━━━━━━\u001b[0m \u001b[32m12.1/12.1 MB\u001b[0m \u001b[31m13.2 MB/s\u001b[0m eta \u001b[36m0:00:00\u001b[0m\n",
            "\u001b[?25hRequirement already satisfied: scikit-learn==1.2.2 in /usr/local/lib/python3.10/dist-packages (1.2.2)\n",
            "Requirement already satisfied: matplotlib==3.7.1 in /usr/local/lib/python3.10/dist-packages (3.7.1)\n",
            "Requirement already satisfied: seaborn==0.13.1 in /usr/local/lib/python3.10/dist-packages (0.13.1)\n",
            "Requirement already satisfied: xgboost==2.0.3 in /usr/local/lib/python3.10/dist-packages (2.0.3)\n",
            "Requirement already satisfied: python-dateutil>=2.8.1 in /usr/local/lib/python3.10/dist-packages (from pandas==1.5.3) (2.8.2)\n",
            "Requirement already satisfied: pytz>=2020.1 in /usr/local/lib/python3.10/dist-packages (from pandas==1.5.3) (2023.4)\n",
            "Requirement already satisfied: scipy>=1.3.2 in /usr/local/lib/python3.10/dist-packages (from scikit-learn==1.2.2) (1.11.4)\n",
            "Requirement already satisfied: joblib>=1.1.1 in /usr/local/lib/python3.10/dist-packages (from scikit-learn==1.2.2) (1.4.2)\n",
            "Requirement already satisfied: threadpoolctl>=2.0.0 in /usr/local/lib/python3.10/dist-packages (from scikit-learn==1.2.2) (3.5.0)\n",
            "Requirement already satisfied: contourpy>=1.0.1 in /usr/local/lib/python3.10/dist-packages (from matplotlib==3.7.1) (1.2.1)\n",
            "Requirement already satisfied: cycler>=0.10 in /usr/local/lib/python3.10/dist-packages (from matplotlib==3.7.1) (0.12.1)\n",
            "Requirement already satisfied: fonttools>=4.22.0 in /usr/local/lib/python3.10/dist-packages (from matplotlib==3.7.1) (4.53.0)\n",
            "Requirement already satisfied: kiwisolver>=1.0.1 in /usr/local/lib/python3.10/dist-packages (from matplotlib==3.7.1) (1.4.5)\n",
            "Requirement already satisfied: packaging>=20.0 in /usr/local/lib/python3.10/dist-packages (from matplotlib==3.7.1) (24.0)\n",
            "Requirement already satisfied: pillow>=6.2.0 in /usr/local/lib/python3.10/dist-packages (from matplotlib==3.7.1) (9.4.0)\n",
            "Requirement already satisfied: pyparsing>=2.3.1 in /usr/local/lib/python3.10/dist-packages (from matplotlib==3.7.1) (3.1.2)\n",
            "Requirement already satisfied: six>=1.5 in /usr/local/lib/python3.10/dist-packages (from python-dateutil>=2.8.1->pandas==1.5.3) (1.16.0)\n",
            "Installing collected packages: pandas\n",
            "  Attempting uninstall: pandas\n",
            "    Found existing installation: pandas 2.0.3\n",
            "    Uninstalling pandas-2.0.3:\n",
            "      Successfully uninstalled pandas-2.0.3\n",
            "\u001b[31mERROR: pip's dependency resolver does not currently take into account all the packages that are installed. This behaviour is the source of the following dependency conflicts.\n",
            "cudf-cu12 24.4.1 requires pandas<2.2.2dev0,>=2.0, but you have pandas 1.5.3 which is incompatible.\n",
            "google-colab 1.0.0 requires pandas==2.0.3, but you have pandas 1.5.3 which is incompatible.\u001b[0m\u001b[31m\n",
            "\u001b[0mSuccessfully installed pandas-1.5.3\n"
          ]
        }
      ]
    },
    {
      "cell_type": "markdown",
      "source": [
        "**Note**: *After running the above cell, kindly restart the notebook kernel and run all cells sequentially from the start again.*"
      ],
      "metadata": {
        "id": "5rj0tvPA5HMT"
      },
      "id": "5rj0tvPA5HMT"
    },
    {
      "cell_type": "code",
      "execution_count": null,
      "id": "canadian-maple",
      "metadata": {
        "id": "canadian-maple"
      },
      "outputs": [],
      "source": [
        "import warnings\n",
        "\n",
        "warnings.filterwarnings(\"ignore\")\n",
        "\n",
        "# Libraries to help with reading and manipulating data\n",
        "import numpy as np\n",
        "import pandas as pd\n",
        "\n",
        "# Library to split data\n",
        "from sklearn.model_selection import train_test_split\n",
        "\n",
        "# libaries to help with data visualization\n",
        "import matplotlib.pyplot as plt\n",
        "import seaborn as sns\n",
        "\n",
        "# Removes the limit for the number of displayed columns\n",
        "pd.set_option(\"display.max_columns\", None)\n",
        "# Sets the limit for the number of displayed rows\n",
        "pd.set_option(\"display.max_rows\", 100)\n",
        "\n",
        "\n",
        "# Libraries different ensemble classifiers\n",
        "from sklearn.ensemble import (\n",
        "    BaggingClassifier,\n",
        "    RandomForestClassifier,\n",
        "    AdaBoostClassifier,\n",
        "    GradientBoostingClassifier,\n",
        "    StackingClassifier,\n",
        ")\n",
        "\n",
        "from xgboost import XGBClassifier\n",
        "from sklearn.tree import DecisionTreeClassifier\n",
        "\n",
        "# Libraries to get different metric scores\n",
        "from sklearn import metrics\n",
        "from sklearn.metrics import (\n",
        "    confusion_matrix,\n",
        "    accuracy_score,\n",
        "    precision_score,\n",
        "    recall_score,\n",
        "    f1_score,\n",
        ")\n",
        "\n",
        "# To tune different models\n",
        "from sklearn.model_selection import GridSearchCV"
      ]
    },
    {
      "cell_type": "markdown",
      "id": "thorough-passion",
      "metadata": {
        "id": "thorough-passion"
      },
      "source": [
        "## Importing Dataset"
      ]
    },
    {
      "cell_type": "code",
      "source": [
        "# uncomment and run the following lines for Google Colab\n",
        "# from google.colab import drive\n",
        "# drive.mount('/content/drive')"
      ],
      "metadata": {
        "id": "6yuFW3rGiF1n"
      },
      "id": "6yuFW3rGiF1n",
      "execution_count": null,
      "outputs": []
    },
    {
      "cell_type": "code",
      "source": [
        "from google.colab import drive\n",
        "drive.mount('/content/drive')"
      ],
      "metadata": {
        "colab": {
          "base_uri": "https://localhost:8080/"
        },
        "id": "2jdyXQf8q4FE",
        "outputId": "de1fd62b-eedd-4e0a-b490-710936ec1ac5"
      },
      "id": "2jdyXQf8q4FE",
      "execution_count": null,
      "outputs": [
        {
          "output_type": "stream",
          "name": "stdout",
          "text": [
            "Mounted at /content/drive\n"
          ]
        }
      ]
    },
    {
      "cell_type": "code",
      "execution_count": null,
      "id": "alleged-teaching",
      "metadata": {
        "id": "alleged-teaching"
      },
      "outputs": [],
      "source": [
        "visa = pd.read_csv('/content/drive/MyDrive/Module 5 - Ensemble Techniques/EasyVisa.csv') ##  Fill the blank to read the data"
      ]
    },
    {
      "cell_type": "code",
      "execution_count": null,
      "id": "falling-annual",
      "metadata": {
        "id": "falling-annual"
      },
      "outputs": [],
      "source": [
        "# copying data to another variable to avoid any changes to original data\n",
        "data = visa.copy()"
      ]
    },
    {
      "cell_type": "markdown",
      "id": "6vlJXoQkgcGI",
      "metadata": {
        "id": "6vlJXoQkgcGI"
      },
      "source": [
        "## Overview of the Dataset"
      ]
    },
    {
      "cell_type": "markdown",
      "id": "aboriginal-wrist",
      "metadata": {
        "id": "aboriginal-wrist"
      },
      "source": [
        "### View the first and last 5 rows of the dataset"
      ]
    },
    {
      "cell_type": "code",
      "execution_count": null,
      "id": "judicial-lease",
      "metadata": {
        "id": "judicial-lease",
        "colab": {
          "base_uri": "https://localhost:8080/",
          "height": 226
        },
        "outputId": "507197a9-1efa-4719-bd23-2b26a20b6f2a"
      },
      "outputs": [
        {
          "output_type": "execute_result",
          "data": {
            "text/plain": [
              "  case_id continent education_of_employee has_job_experience  \\\n",
              "0  EZYV01      Asia           High School                  N   \n",
              "1  EZYV02      Asia              Master's                  Y   \n",
              "2  EZYV03      Asia            Bachelor's                  N   \n",
              "3  EZYV04      Asia            Bachelor's                  N   \n",
              "4  EZYV05    Africa              Master's                  Y   \n",
              "\n",
              "  requires_job_training  no_of_employees  yr_of_estab region_of_employment  \\\n",
              "0                     N            14513         2007                 West   \n",
              "1                     N             2412         2002            Northeast   \n",
              "2                     Y            44444         2008                 West   \n",
              "3                     N               98         1897                 West   \n",
              "4                     N             1082         2005                South   \n",
              "\n",
              "   prevailing_wage unit_of_wage full_time_position case_status  \n",
              "0         592.2029         Hour                  Y      Denied  \n",
              "1       83425.6500         Year                  Y   Certified  \n",
              "2      122996.8600         Year                  Y      Denied  \n",
              "3       83434.0300         Year                  Y      Denied  \n",
              "4      149907.3900         Year                  Y   Certified  "
            ],
            "text/html": [
              "\n",
              "  <div id=\"df-4330b0e6-e827-42de-98b7-4a9ac8163f44\" class=\"colab-df-container\">\n",
              "    <div>\n",
              "<style scoped>\n",
              "    .dataframe tbody tr th:only-of-type {\n",
              "        vertical-align: middle;\n",
              "    }\n",
              "\n",
              "    .dataframe tbody tr th {\n",
              "        vertical-align: top;\n",
              "    }\n",
              "\n",
              "    .dataframe thead th {\n",
              "        text-align: right;\n",
              "    }\n",
              "</style>\n",
              "<table border=\"1\" class=\"dataframe\">\n",
              "  <thead>\n",
              "    <tr style=\"text-align: right;\">\n",
              "      <th></th>\n",
              "      <th>case_id</th>\n",
              "      <th>continent</th>\n",
              "      <th>education_of_employee</th>\n",
              "      <th>has_job_experience</th>\n",
              "      <th>requires_job_training</th>\n",
              "      <th>no_of_employees</th>\n",
              "      <th>yr_of_estab</th>\n",
              "      <th>region_of_employment</th>\n",
              "      <th>prevailing_wage</th>\n",
              "      <th>unit_of_wage</th>\n",
              "      <th>full_time_position</th>\n",
              "      <th>case_status</th>\n",
              "    </tr>\n",
              "  </thead>\n",
              "  <tbody>\n",
              "    <tr>\n",
              "      <th>0</th>\n",
              "      <td>EZYV01</td>\n",
              "      <td>Asia</td>\n",
              "      <td>High School</td>\n",
              "      <td>N</td>\n",
              "      <td>N</td>\n",
              "      <td>14513</td>\n",
              "      <td>2007</td>\n",
              "      <td>West</td>\n",
              "      <td>592.2029</td>\n",
              "      <td>Hour</td>\n",
              "      <td>Y</td>\n",
              "      <td>Denied</td>\n",
              "    </tr>\n",
              "    <tr>\n",
              "      <th>1</th>\n",
              "      <td>EZYV02</td>\n",
              "      <td>Asia</td>\n",
              "      <td>Master's</td>\n",
              "      <td>Y</td>\n",
              "      <td>N</td>\n",
              "      <td>2412</td>\n",
              "      <td>2002</td>\n",
              "      <td>Northeast</td>\n",
              "      <td>83425.6500</td>\n",
              "      <td>Year</td>\n",
              "      <td>Y</td>\n",
              "      <td>Certified</td>\n",
              "    </tr>\n",
              "    <tr>\n",
              "      <th>2</th>\n",
              "      <td>EZYV03</td>\n",
              "      <td>Asia</td>\n",
              "      <td>Bachelor's</td>\n",
              "      <td>N</td>\n",
              "      <td>Y</td>\n",
              "      <td>44444</td>\n",
              "      <td>2008</td>\n",
              "      <td>West</td>\n",
              "      <td>122996.8600</td>\n",
              "      <td>Year</td>\n",
              "      <td>Y</td>\n",
              "      <td>Denied</td>\n",
              "    </tr>\n",
              "    <tr>\n",
              "      <th>3</th>\n",
              "      <td>EZYV04</td>\n",
              "      <td>Asia</td>\n",
              "      <td>Bachelor's</td>\n",
              "      <td>N</td>\n",
              "      <td>N</td>\n",
              "      <td>98</td>\n",
              "      <td>1897</td>\n",
              "      <td>West</td>\n",
              "      <td>83434.0300</td>\n",
              "      <td>Year</td>\n",
              "      <td>Y</td>\n",
              "      <td>Denied</td>\n",
              "    </tr>\n",
              "    <tr>\n",
              "      <th>4</th>\n",
              "      <td>EZYV05</td>\n",
              "      <td>Africa</td>\n",
              "      <td>Master's</td>\n",
              "      <td>Y</td>\n",
              "      <td>N</td>\n",
              "      <td>1082</td>\n",
              "      <td>2005</td>\n",
              "      <td>South</td>\n",
              "      <td>149907.3900</td>\n",
              "      <td>Year</td>\n",
              "      <td>Y</td>\n",
              "      <td>Certified</td>\n",
              "    </tr>\n",
              "  </tbody>\n",
              "</table>\n",
              "</div>\n",
              "    <div class=\"colab-df-buttons\">\n",
              "\n",
              "  <div class=\"colab-df-container\">\n",
              "    <button class=\"colab-df-convert\" onclick=\"convertToInteractive('df-4330b0e6-e827-42de-98b7-4a9ac8163f44')\"\n",
              "            title=\"Convert this dataframe to an interactive table.\"\n",
              "            style=\"display:none;\">\n",
              "\n",
              "  <svg xmlns=\"http://www.w3.org/2000/svg\" height=\"24px\" viewBox=\"0 -960 960 960\">\n",
              "    <path d=\"M120-120v-720h720v720H120Zm60-500h600v-160H180v160Zm220 220h160v-160H400v160Zm0 220h160v-160H400v160ZM180-400h160v-160H180v160Zm440 0h160v-160H620v160ZM180-180h160v-160H180v160Zm440 0h160v-160H620v160Z\"/>\n",
              "  </svg>\n",
              "    </button>\n",
              "\n",
              "  <style>\n",
              "    .colab-df-container {\n",
              "      display:flex;\n",
              "      gap: 12px;\n",
              "    }\n",
              "\n",
              "    .colab-df-convert {\n",
              "      background-color: #E8F0FE;\n",
              "      border: none;\n",
              "      border-radius: 50%;\n",
              "      cursor: pointer;\n",
              "      display: none;\n",
              "      fill: #1967D2;\n",
              "      height: 32px;\n",
              "      padding: 0 0 0 0;\n",
              "      width: 32px;\n",
              "    }\n",
              "\n",
              "    .colab-df-convert:hover {\n",
              "      background-color: #E2EBFA;\n",
              "      box-shadow: 0px 1px 2px rgba(60, 64, 67, 0.3), 0px 1px 3px 1px rgba(60, 64, 67, 0.15);\n",
              "      fill: #174EA6;\n",
              "    }\n",
              "\n",
              "    .colab-df-buttons div {\n",
              "      margin-bottom: 4px;\n",
              "    }\n",
              "\n",
              "    [theme=dark] .colab-df-convert {\n",
              "      background-color: #3B4455;\n",
              "      fill: #D2E3FC;\n",
              "    }\n",
              "\n",
              "    [theme=dark] .colab-df-convert:hover {\n",
              "      background-color: #434B5C;\n",
              "      box-shadow: 0px 1px 3px 1px rgba(0, 0, 0, 0.15);\n",
              "      filter: drop-shadow(0px 1px 2px rgba(0, 0, 0, 0.3));\n",
              "      fill: #FFFFFF;\n",
              "    }\n",
              "  </style>\n",
              "\n",
              "    <script>\n",
              "      const buttonEl =\n",
              "        document.querySelector('#df-4330b0e6-e827-42de-98b7-4a9ac8163f44 button.colab-df-convert');\n",
              "      buttonEl.style.display =\n",
              "        google.colab.kernel.accessAllowed ? 'block' : 'none';\n",
              "\n",
              "      async function convertToInteractive(key) {\n",
              "        const element = document.querySelector('#df-4330b0e6-e827-42de-98b7-4a9ac8163f44');\n",
              "        const dataTable =\n",
              "          await google.colab.kernel.invokeFunction('convertToInteractive',\n",
              "                                                    [key], {});\n",
              "        if (!dataTable) return;\n",
              "\n",
              "        const docLinkHtml = 'Like what you see? Visit the ' +\n",
              "          '<a target=\"_blank\" href=https://colab.research.google.com/notebooks/data_table.ipynb>data table notebook</a>'\n",
              "          + ' to learn more about interactive tables.';\n",
              "        element.innerHTML = '';\n",
              "        dataTable['output_type'] = 'display_data';\n",
              "        await google.colab.output.renderOutput(dataTable, element);\n",
              "        const docLink = document.createElement('div');\n",
              "        docLink.innerHTML = docLinkHtml;\n",
              "        element.appendChild(docLink);\n",
              "      }\n",
              "    </script>\n",
              "  </div>\n",
              "\n",
              "\n",
              "<div id=\"df-7e57449e-769d-4361-81ce-83a8c3111738\">\n",
              "  <button class=\"colab-df-quickchart\" onclick=\"quickchart('df-7e57449e-769d-4361-81ce-83a8c3111738')\"\n",
              "            title=\"Suggest charts\"\n",
              "            style=\"display:none;\">\n",
              "\n",
              "<svg xmlns=\"http://www.w3.org/2000/svg\" height=\"24px\"viewBox=\"0 0 24 24\"\n",
              "     width=\"24px\">\n",
              "    <g>\n",
              "        <path d=\"M19 3H5c-1.1 0-2 .9-2 2v14c0 1.1.9 2 2 2h14c1.1 0 2-.9 2-2V5c0-1.1-.9-2-2-2zM9 17H7v-7h2v7zm4 0h-2V7h2v10zm4 0h-2v-4h2v4z\"/>\n",
              "    </g>\n",
              "</svg>\n",
              "  </button>\n",
              "\n",
              "<style>\n",
              "  .colab-df-quickchart {\n",
              "      --bg-color: #E8F0FE;\n",
              "      --fill-color: #1967D2;\n",
              "      --hover-bg-color: #E2EBFA;\n",
              "      --hover-fill-color: #174EA6;\n",
              "      --disabled-fill-color: #AAA;\n",
              "      --disabled-bg-color: #DDD;\n",
              "  }\n",
              "\n",
              "  [theme=dark] .colab-df-quickchart {\n",
              "      --bg-color: #3B4455;\n",
              "      --fill-color: #D2E3FC;\n",
              "      --hover-bg-color: #434B5C;\n",
              "      --hover-fill-color: #FFFFFF;\n",
              "      --disabled-bg-color: #3B4455;\n",
              "      --disabled-fill-color: #666;\n",
              "  }\n",
              "\n",
              "  .colab-df-quickchart {\n",
              "    background-color: var(--bg-color);\n",
              "    border: none;\n",
              "    border-radius: 50%;\n",
              "    cursor: pointer;\n",
              "    display: none;\n",
              "    fill: var(--fill-color);\n",
              "    height: 32px;\n",
              "    padding: 0;\n",
              "    width: 32px;\n",
              "  }\n",
              "\n",
              "  .colab-df-quickchart:hover {\n",
              "    background-color: var(--hover-bg-color);\n",
              "    box-shadow: 0 1px 2px rgba(60, 64, 67, 0.3), 0 1px 3px 1px rgba(60, 64, 67, 0.15);\n",
              "    fill: var(--button-hover-fill-color);\n",
              "  }\n",
              "\n",
              "  .colab-df-quickchart-complete:disabled,\n",
              "  .colab-df-quickchart-complete:disabled:hover {\n",
              "    background-color: var(--disabled-bg-color);\n",
              "    fill: var(--disabled-fill-color);\n",
              "    box-shadow: none;\n",
              "  }\n",
              "\n",
              "  .colab-df-spinner {\n",
              "    border: 2px solid var(--fill-color);\n",
              "    border-color: transparent;\n",
              "    border-bottom-color: var(--fill-color);\n",
              "    animation:\n",
              "      spin 1s steps(1) infinite;\n",
              "  }\n",
              "\n",
              "  @keyframes spin {\n",
              "    0% {\n",
              "      border-color: transparent;\n",
              "      border-bottom-color: var(--fill-color);\n",
              "      border-left-color: var(--fill-color);\n",
              "    }\n",
              "    20% {\n",
              "      border-color: transparent;\n",
              "      border-left-color: var(--fill-color);\n",
              "      border-top-color: var(--fill-color);\n",
              "    }\n",
              "    30% {\n",
              "      border-color: transparent;\n",
              "      border-left-color: var(--fill-color);\n",
              "      border-top-color: var(--fill-color);\n",
              "      border-right-color: var(--fill-color);\n",
              "    }\n",
              "    40% {\n",
              "      border-color: transparent;\n",
              "      border-right-color: var(--fill-color);\n",
              "      border-top-color: var(--fill-color);\n",
              "    }\n",
              "    60% {\n",
              "      border-color: transparent;\n",
              "      border-right-color: var(--fill-color);\n",
              "    }\n",
              "    80% {\n",
              "      border-color: transparent;\n",
              "      border-right-color: var(--fill-color);\n",
              "      border-bottom-color: var(--fill-color);\n",
              "    }\n",
              "    90% {\n",
              "      border-color: transparent;\n",
              "      border-bottom-color: var(--fill-color);\n",
              "    }\n",
              "  }\n",
              "</style>\n",
              "\n",
              "  <script>\n",
              "    async function quickchart(key) {\n",
              "      const quickchartButtonEl =\n",
              "        document.querySelector('#' + key + ' button');\n",
              "      quickchartButtonEl.disabled = true;  // To prevent multiple clicks.\n",
              "      quickchartButtonEl.classList.add('colab-df-spinner');\n",
              "      try {\n",
              "        const charts = await google.colab.kernel.invokeFunction(\n",
              "            'suggestCharts', [key], {});\n",
              "      } catch (error) {\n",
              "        console.error('Error during call to suggestCharts:', error);\n",
              "      }\n",
              "      quickchartButtonEl.classList.remove('colab-df-spinner');\n",
              "      quickchartButtonEl.classList.add('colab-df-quickchart-complete');\n",
              "    }\n",
              "    (() => {\n",
              "      let quickchartButtonEl =\n",
              "        document.querySelector('#df-7e57449e-769d-4361-81ce-83a8c3111738 button');\n",
              "      quickchartButtonEl.style.display =\n",
              "        google.colab.kernel.accessAllowed ? 'block' : 'none';\n",
              "    })();\n",
              "  </script>\n",
              "</div>\n",
              "\n",
              "    </div>\n",
              "  </div>\n"
            ],
            "application/vnd.google.colaboratory.intrinsic+json": {
              "type": "dataframe",
              "variable_name": "data",
              "summary": "{\n  \"name\": \"data\",\n  \"rows\": 25480,\n  \"fields\": [\n    {\n      \"column\": \"case_id\",\n      \"properties\": {\n        \"dtype\": \"string\",\n        \"num_unique_values\": 25480,\n        \"samples\": [\n          \"EZYV16746\",\n          \"EZYV9527\",\n          \"EZYV8359\"\n        ],\n        \"semantic_type\": \"\",\n        \"description\": \"\"\n      }\n    },\n    {\n      \"column\": \"continent\",\n      \"properties\": {\n        \"dtype\": \"category\",\n        \"num_unique_values\": 6,\n        \"samples\": [\n          \"Asia\",\n          \"Africa\",\n          \"Oceania\"\n        ],\n        \"semantic_type\": \"\",\n        \"description\": \"\"\n      }\n    },\n    {\n      \"column\": \"education_of_employee\",\n      \"properties\": {\n        \"dtype\": \"category\",\n        \"num_unique_values\": 4,\n        \"samples\": [\n          \"Master's\",\n          \"Doctorate\",\n          \"High School\"\n        ],\n        \"semantic_type\": \"\",\n        \"description\": \"\"\n      }\n    },\n    {\n      \"column\": \"has_job_experience\",\n      \"properties\": {\n        \"dtype\": \"category\",\n        \"num_unique_values\": 2,\n        \"samples\": [\n          \"Y\",\n          \"N\"\n        ],\n        \"semantic_type\": \"\",\n        \"description\": \"\"\n      }\n    },\n    {\n      \"column\": \"requires_job_training\",\n      \"properties\": {\n        \"dtype\": \"category\",\n        \"num_unique_values\": 2,\n        \"samples\": [\n          \"Y\",\n          \"N\"\n        ],\n        \"semantic_type\": \"\",\n        \"description\": \"\"\n      }\n    },\n    {\n      \"column\": \"no_of_employees\",\n      \"properties\": {\n        \"dtype\": \"number\",\n        \"std\": 22877,\n        \"min\": -26,\n        \"max\": 602069,\n        \"num_unique_values\": 7105,\n        \"samples\": [\n          146713,\n          9342\n        ],\n        \"semantic_type\": \"\",\n        \"description\": \"\"\n      }\n    },\n    {\n      \"column\": \"yr_of_estab\",\n      \"properties\": {\n        \"dtype\": \"number\",\n        \"std\": 42,\n        \"min\": 1800,\n        \"max\": 2016,\n        \"num_unique_values\": 199,\n        \"samples\": [\n          1843,\n          1972\n        ],\n        \"semantic_type\": \"\",\n        \"description\": \"\"\n      }\n    },\n    {\n      \"column\": \"region_of_employment\",\n      \"properties\": {\n        \"dtype\": \"category\",\n        \"num_unique_values\": 5,\n        \"samples\": [\n          \"Northeast\",\n          \"Island\"\n        ],\n        \"semantic_type\": \"\",\n        \"description\": \"\"\n      }\n    },\n    {\n      \"column\": \"prevailing_wage\",\n      \"properties\": {\n        \"dtype\": \"number\",\n        \"std\": 52815.94232687371,\n        \"min\": 2.1367,\n        \"max\": 319210.27,\n        \"num_unique_values\": 25454,\n        \"samples\": [\n          44218.42,\n          60458.9\n        ],\n        \"semantic_type\": \"\",\n        \"description\": \"\"\n      }\n    },\n    {\n      \"column\": \"unit_of_wage\",\n      \"properties\": {\n        \"dtype\": \"category\",\n        \"num_unique_values\": 4,\n        \"samples\": [\n          \"Year\",\n          \"Month\"\n        ],\n        \"semantic_type\": \"\",\n        \"description\": \"\"\n      }\n    },\n    {\n      \"column\": \"full_time_position\",\n      \"properties\": {\n        \"dtype\": \"category\",\n        \"num_unique_values\": 2,\n        \"samples\": [\n          \"N\",\n          \"Y\"\n        ],\n        \"semantic_type\": \"\",\n        \"description\": \"\"\n      }\n    },\n    {\n      \"column\": \"case_status\",\n      \"properties\": {\n        \"dtype\": \"category\",\n        \"num_unique_values\": 2,\n        \"samples\": [\n          \"Certified\",\n          \"Denied\"\n        ],\n        \"semantic_type\": \"\",\n        \"description\": \"\"\n      }\n    }\n  ]\n}"
            }
          },
          "metadata": {},
          "execution_count": 7
        }
      ],
      "source": [
        "data.head() ##  Complete the code to view top 5 rows of the data"
      ]
    },
    {
      "cell_type": "code",
      "execution_count": null,
      "id": "descending-david",
      "metadata": {
        "id": "descending-david",
        "colab": {
          "base_uri": "https://localhost:8080/",
          "height": 226
        },
        "outputId": "b2b2757d-ec23-40ed-c18d-18eea47b57ba"
      },
      "outputs": [
        {
          "output_type": "execute_result",
          "data": {
            "text/plain": [
              "         case_id continent education_of_employee has_job_experience  \\\n",
              "25475  EZYV25476      Asia            Bachelor's                  Y   \n",
              "25476  EZYV25477      Asia           High School                  Y   \n",
              "25477  EZYV25478      Asia              Master's                  Y   \n",
              "25478  EZYV25479      Asia              Master's                  Y   \n",
              "25479  EZYV25480      Asia            Bachelor's                  Y   \n",
              "\n",
              "      requires_job_training  no_of_employees  yr_of_estab  \\\n",
              "25475                     Y             2601         2008   \n",
              "25476                     N             3274         2006   \n",
              "25477                     N             1121         1910   \n",
              "25478                     Y             1918         1887   \n",
              "25479                     N             3195         1960   \n",
              "\n",
              "      region_of_employment  prevailing_wage unit_of_wage full_time_position  \\\n",
              "25475                South         77092.57         Year                  Y   \n",
              "25476            Northeast        279174.79         Year                  Y   \n",
              "25477                South        146298.85         Year                  N   \n",
              "25478                 West         86154.77         Year                  Y   \n",
              "25479              Midwest         70876.91         Year                  Y   \n",
              "\n",
              "      case_status  \n",
              "25475   Certified  \n",
              "25476   Certified  \n",
              "25477   Certified  \n",
              "25478   Certified  \n",
              "25479   Certified  "
            ],
            "text/html": [
              "\n",
              "  <div id=\"df-9e68200c-647e-48b8-b296-1f458b073dce\" class=\"colab-df-container\">\n",
              "    <div>\n",
              "<style scoped>\n",
              "    .dataframe tbody tr th:only-of-type {\n",
              "        vertical-align: middle;\n",
              "    }\n",
              "\n",
              "    .dataframe tbody tr th {\n",
              "        vertical-align: top;\n",
              "    }\n",
              "\n",
              "    .dataframe thead th {\n",
              "        text-align: right;\n",
              "    }\n",
              "</style>\n",
              "<table border=\"1\" class=\"dataframe\">\n",
              "  <thead>\n",
              "    <tr style=\"text-align: right;\">\n",
              "      <th></th>\n",
              "      <th>case_id</th>\n",
              "      <th>continent</th>\n",
              "      <th>education_of_employee</th>\n",
              "      <th>has_job_experience</th>\n",
              "      <th>requires_job_training</th>\n",
              "      <th>no_of_employees</th>\n",
              "      <th>yr_of_estab</th>\n",
              "      <th>region_of_employment</th>\n",
              "      <th>prevailing_wage</th>\n",
              "      <th>unit_of_wage</th>\n",
              "      <th>full_time_position</th>\n",
              "      <th>case_status</th>\n",
              "    </tr>\n",
              "  </thead>\n",
              "  <tbody>\n",
              "    <tr>\n",
              "      <th>25475</th>\n",
              "      <td>EZYV25476</td>\n",
              "      <td>Asia</td>\n",
              "      <td>Bachelor's</td>\n",
              "      <td>Y</td>\n",
              "      <td>Y</td>\n",
              "      <td>2601</td>\n",
              "      <td>2008</td>\n",
              "      <td>South</td>\n",
              "      <td>77092.57</td>\n",
              "      <td>Year</td>\n",
              "      <td>Y</td>\n",
              "      <td>Certified</td>\n",
              "    </tr>\n",
              "    <tr>\n",
              "      <th>25476</th>\n",
              "      <td>EZYV25477</td>\n",
              "      <td>Asia</td>\n",
              "      <td>High School</td>\n",
              "      <td>Y</td>\n",
              "      <td>N</td>\n",
              "      <td>3274</td>\n",
              "      <td>2006</td>\n",
              "      <td>Northeast</td>\n",
              "      <td>279174.79</td>\n",
              "      <td>Year</td>\n",
              "      <td>Y</td>\n",
              "      <td>Certified</td>\n",
              "    </tr>\n",
              "    <tr>\n",
              "      <th>25477</th>\n",
              "      <td>EZYV25478</td>\n",
              "      <td>Asia</td>\n",
              "      <td>Master's</td>\n",
              "      <td>Y</td>\n",
              "      <td>N</td>\n",
              "      <td>1121</td>\n",
              "      <td>1910</td>\n",
              "      <td>South</td>\n",
              "      <td>146298.85</td>\n",
              "      <td>Year</td>\n",
              "      <td>N</td>\n",
              "      <td>Certified</td>\n",
              "    </tr>\n",
              "    <tr>\n",
              "      <th>25478</th>\n",
              "      <td>EZYV25479</td>\n",
              "      <td>Asia</td>\n",
              "      <td>Master's</td>\n",
              "      <td>Y</td>\n",
              "      <td>Y</td>\n",
              "      <td>1918</td>\n",
              "      <td>1887</td>\n",
              "      <td>West</td>\n",
              "      <td>86154.77</td>\n",
              "      <td>Year</td>\n",
              "      <td>Y</td>\n",
              "      <td>Certified</td>\n",
              "    </tr>\n",
              "    <tr>\n",
              "      <th>25479</th>\n",
              "      <td>EZYV25480</td>\n",
              "      <td>Asia</td>\n",
              "      <td>Bachelor's</td>\n",
              "      <td>Y</td>\n",
              "      <td>N</td>\n",
              "      <td>3195</td>\n",
              "      <td>1960</td>\n",
              "      <td>Midwest</td>\n",
              "      <td>70876.91</td>\n",
              "      <td>Year</td>\n",
              "      <td>Y</td>\n",
              "      <td>Certified</td>\n",
              "    </tr>\n",
              "  </tbody>\n",
              "</table>\n",
              "</div>\n",
              "    <div class=\"colab-df-buttons\">\n",
              "\n",
              "  <div class=\"colab-df-container\">\n",
              "    <button class=\"colab-df-convert\" onclick=\"convertToInteractive('df-9e68200c-647e-48b8-b296-1f458b073dce')\"\n",
              "            title=\"Convert this dataframe to an interactive table.\"\n",
              "            style=\"display:none;\">\n",
              "\n",
              "  <svg xmlns=\"http://www.w3.org/2000/svg\" height=\"24px\" viewBox=\"0 -960 960 960\">\n",
              "    <path d=\"M120-120v-720h720v720H120Zm60-500h600v-160H180v160Zm220 220h160v-160H400v160Zm0 220h160v-160H400v160ZM180-400h160v-160H180v160Zm440 0h160v-160H620v160ZM180-180h160v-160H180v160Zm440 0h160v-160H620v160Z\"/>\n",
              "  </svg>\n",
              "    </button>\n",
              "\n",
              "  <style>\n",
              "    .colab-df-container {\n",
              "      display:flex;\n",
              "      gap: 12px;\n",
              "    }\n",
              "\n",
              "    .colab-df-convert {\n",
              "      background-color: #E8F0FE;\n",
              "      border: none;\n",
              "      border-radius: 50%;\n",
              "      cursor: pointer;\n",
              "      display: none;\n",
              "      fill: #1967D2;\n",
              "      height: 32px;\n",
              "      padding: 0 0 0 0;\n",
              "      width: 32px;\n",
              "    }\n",
              "\n",
              "    .colab-df-convert:hover {\n",
              "      background-color: #E2EBFA;\n",
              "      box-shadow: 0px 1px 2px rgba(60, 64, 67, 0.3), 0px 1px 3px 1px rgba(60, 64, 67, 0.15);\n",
              "      fill: #174EA6;\n",
              "    }\n",
              "\n",
              "    .colab-df-buttons div {\n",
              "      margin-bottom: 4px;\n",
              "    }\n",
              "\n",
              "    [theme=dark] .colab-df-convert {\n",
              "      background-color: #3B4455;\n",
              "      fill: #D2E3FC;\n",
              "    }\n",
              "\n",
              "    [theme=dark] .colab-df-convert:hover {\n",
              "      background-color: #434B5C;\n",
              "      box-shadow: 0px 1px 3px 1px rgba(0, 0, 0, 0.15);\n",
              "      filter: drop-shadow(0px 1px 2px rgba(0, 0, 0, 0.3));\n",
              "      fill: #FFFFFF;\n",
              "    }\n",
              "  </style>\n",
              "\n",
              "    <script>\n",
              "      const buttonEl =\n",
              "        document.querySelector('#df-9e68200c-647e-48b8-b296-1f458b073dce button.colab-df-convert');\n",
              "      buttonEl.style.display =\n",
              "        google.colab.kernel.accessAllowed ? 'block' : 'none';\n",
              "\n",
              "      async function convertToInteractive(key) {\n",
              "        const element = document.querySelector('#df-9e68200c-647e-48b8-b296-1f458b073dce');\n",
              "        const dataTable =\n",
              "          await google.colab.kernel.invokeFunction('convertToInteractive',\n",
              "                                                    [key], {});\n",
              "        if (!dataTable) return;\n",
              "\n",
              "        const docLinkHtml = 'Like what you see? Visit the ' +\n",
              "          '<a target=\"_blank\" href=https://colab.research.google.com/notebooks/data_table.ipynb>data table notebook</a>'\n",
              "          + ' to learn more about interactive tables.';\n",
              "        element.innerHTML = '';\n",
              "        dataTable['output_type'] = 'display_data';\n",
              "        await google.colab.output.renderOutput(dataTable, element);\n",
              "        const docLink = document.createElement('div');\n",
              "        docLink.innerHTML = docLinkHtml;\n",
              "        element.appendChild(docLink);\n",
              "      }\n",
              "    </script>\n",
              "  </div>\n",
              "\n",
              "\n",
              "<div id=\"df-6a9da16d-8676-4843-b77f-d570f54f6ae3\">\n",
              "  <button class=\"colab-df-quickchart\" onclick=\"quickchart('df-6a9da16d-8676-4843-b77f-d570f54f6ae3')\"\n",
              "            title=\"Suggest charts\"\n",
              "            style=\"display:none;\">\n",
              "\n",
              "<svg xmlns=\"http://www.w3.org/2000/svg\" height=\"24px\"viewBox=\"0 0 24 24\"\n",
              "     width=\"24px\">\n",
              "    <g>\n",
              "        <path d=\"M19 3H5c-1.1 0-2 .9-2 2v14c0 1.1.9 2 2 2h14c1.1 0 2-.9 2-2V5c0-1.1-.9-2-2-2zM9 17H7v-7h2v7zm4 0h-2V7h2v10zm4 0h-2v-4h2v4z\"/>\n",
              "    </g>\n",
              "</svg>\n",
              "  </button>\n",
              "\n",
              "<style>\n",
              "  .colab-df-quickchart {\n",
              "      --bg-color: #E8F0FE;\n",
              "      --fill-color: #1967D2;\n",
              "      --hover-bg-color: #E2EBFA;\n",
              "      --hover-fill-color: #174EA6;\n",
              "      --disabled-fill-color: #AAA;\n",
              "      --disabled-bg-color: #DDD;\n",
              "  }\n",
              "\n",
              "  [theme=dark] .colab-df-quickchart {\n",
              "      --bg-color: #3B4455;\n",
              "      --fill-color: #D2E3FC;\n",
              "      --hover-bg-color: #434B5C;\n",
              "      --hover-fill-color: #FFFFFF;\n",
              "      --disabled-bg-color: #3B4455;\n",
              "      --disabled-fill-color: #666;\n",
              "  }\n",
              "\n",
              "  .colab-df-quickchart {\n",
              "    background-color: var(--bg-color);\n",
              "    border: none;\n",
              "    border-radius: 50%;\n",
              "    cursor: pointer;\n",
              "    display: none;\n",
              "    fill: var(--fill-color);\n",
              "    height: 32px;\n",
              "    padding: 0;\n",
              "    width: 32px;\n",
              "  }\n",
              "\n",
              "  .colab-df-quickchart:hover {\n",
              "    background-color: var(--hover-bg-color);\n",
              "    box-shadow: 0 1px 2px rgba(60, 64, 67, 0.3), 0 1px 3px 1px rgba(60, 64, 67, 0.15);\n",
              "    fill: var(--button-hover-fill-color);\n",
              "  }\n",
              "\n",
              "  .colab-df-quickchart-complete:disabled,\n",
              "  .colab-df-quickchart-complete:disabled:hover {\n",
              "    background-color: var(--disabled-bg-color);\n",
              "    fill: var(--disabled-fill-color);\n",
              "    box-shadow: none;\n",
              "  }\n",
              "\n",
              "  .colab-df-spinner {\n",
              "    border: 2px solid var(--fill-color);\n",
              "    border-color: transparent;\n",
              "    border-bottom-color: var(--fill-color);\n",
              "    animation:\n",
              "      spin 1s steps(1) infinite;\n",
              "  }\n",
              "\n",
              "  @keyframes spin {\n",
              "    0% {\n",
              "      border-color: transparent;\n",
              "      border-bottom-color: var(--fill-color);\n",
              "      border-left-color: var(--fill-color);\n",
              "    }\n",
              "    20% {\n",
              "      border-color: transparent;\n",
              "      border-left-color: var(--fill-color);\n",
              "      border-top-color: var(--fill-color);\n",
              "    }\n",
              "    30% {\n",
              "      border-color: transparent;\n",
              "      border-left-color: var(--fill-color);\n",
              "      border-top-color: var(--fill-color);\n",
              "      border-right-color: var(--fill-color);\n",
              "    }\n",
              "    40% {\n",
              "      border-color: transparent;\n",
              "      border-right-color: var(--fill-color);\n",
              "      border-top-color: var(--fill-color);\n",
              "    }\n",
              "    60% {\n",
              "      border-color: transparent;\n",
              "      border-right-color: var(--fill-color);\n",
              "    }\n",
              "    80% {\n",
              "      border-color: transparent;\n",
              "      border-right-color: var(--fill-color);\n",
              "      border-bottom-color: var(--fill-color);\n",
              "    }\n",
              "    90% {\n",
              "      border-color: transparent;\n",
              "      border-bottom-color: var(--fill-color);\n",
              "    }\n",
              "  }\n",
              "</style>\n",
              "\n",
              "  <script>\n",
              "    async function quickchart(key) {\n",
              "      const quickchartButtonEl =\n",
              "        document.querySelector('#' + key + ' button');\n",
              "      quickchartButtonEl.disabled = true;  // To prevent multiple clicks.\n",
              "      quickchartButtonEl.classList.add('colab-df-spinner');\n",
              "      try {\n",
              "        const charts = await google.colab.kernel.invokeFunction(\n",
              "            'suggestCharts', [key], {});\n",
              "      } catch (error) {\n",
              "        console.error('Error during call to suggestCharts:', error);\n",
              "      }\n",
              "      quickchartButtonEl.classList.remove('colab-df-spinner');\n",
              "      quickchartButtonEl.classList.add('colab-df-quickchart-complete');\n",
              "    }\n",
              "    (() => {\n",
              "      let quickchartButtonEl =\n",
              "        document.querySelector('#df-6a9da16d-8676-4843-b77f-d570f54f6ae3 button');\n",
              "      quickchartButtonEl.style.display =\n",
              "        google.colab.kernel.accessAllowed ? 'block' : 'none';\n",
              "    })();\n",
              "  </script>\n",
              "</div>\n",
              "\n",
              "    </div>\n",
              "  </div>\n"
            ],
            "application/vnd.google.colaboratory.intrinsic+json": {
              "type": "dataframe",
              "summary": "{\n  \"name\": \"data\",\n  \"rows\": 5,\n  \"fields\": [\n    {\n      \"column\": \"case_id\",\n      \"properties\": {\n        \"dtype\": \"string\",\n        \"num_unique_values\": 5,\n        \"samples\": [\n          \"EZYV25477\",\n          \"EZYV25480\",\n          \"EZYV25478\"\n        ],\n        \"semantic_type\": \"\",\n        \"description\": \"\"\n      }\n    },\n    {\n      \"column\": \"continent\",\n      \"properties\": {\n        \"dtype\": \"category\",\n        \"num_unique_values\": 1,\n        \"samples\": [\n          \"Asia\"\n        ],\n        \"semantic_type\": \"\",\n        \"description\": \"\"\n      }\n    },\n    {\n      \"column\": \"education_of_employee\",\n      \"properties\": {\n        \"dtype\": \"string\",\n        \"num_unique_values\": 3,\n        \"samples\": [\n          \"Bachelor's\"\n        ],\n        \"semantic_type\": \"\",\n        \"description\": \"\"\n      }\n    },\n    {\n      \"column\": \"has_job_experience\",\n      \"properties\": {\n        \"dtype\": \"category\",\n        \"num_unique_values\": 1,\n        \"samples\": [\n          \"Y\"\n        ],\n        \"semantic_type\": \"\",\n        \"description\": \"\"\n      }\n    },\n    {\n      \"column\": \"requires_job_training\",\n      \"properties\": {\n        \"dtype\": \"category\",\n        \"num_unique_values\": 2,\n        \"samples\": [\n          \"N\"\n        ],\n        \"semantic_type\": \"\",\n        \"description\": \"\"\n      }\n    },\n    {\n      \"column\": \"no_of_employees\",\n      \"properties\": {\n        \"dtype\": \"number\",\n        \"std\": 908,\n        \"min\": 1121,\n        \"max\": 3274,\n        \"num_unique_values\": 5,\n        \"samples\": [\n          3274\n        ],\n        \"semantic_type\": \"\",\n        \"description\": \"\"\n      }\n    },\n    {\n      \"column\": \"yr_of_estab\",\n      \"properties\": {\n        \"dtype\": \"number\",\n        \"std\": 54,\n        \"min\": 1887,\n        \"max\": 2008,\n        \"num_unique_values\": 5,\n        \"samples\": [\n          2006\n        ],\n        \"semantic_type\": \"\",\n        \"description\": \"\"\n      }\n    },\n    {\n      \"column\": \"region_of_employment\",\n      \"properties\": {\n        \"dtype\": \"string\",\n        \"num_unique_values\": 4,\n        \"samples\": [\n          \"Northeast\"\n        ],\n        \"semantic_type\": \"\",\n        \"description\": \"\"\n      }\n    },\n    {\n      \"column\": \"prevailing_wage\",\n      \"properties\": {\n        \"dtype\": \"number\",\n        \"std\": 87632.02425266986,\n        \"min\": 70876.91,\n        \"max\": 279174.79,\n        \"num_unique_values\": 5,\n        \"samples\": [\n          279174.79\n        ],\n        \"semantic_type\": \"\",\n        \"description\": \"\"\n      }\n    },\n    {\n      \"column\": \"unit_of_wage\",\n      \"properties\": {\n        \"dtype\": \"category\",\n        \"num_unique_values\": 1,\n        \"samples\": [\n          \"Year\"\n        ],\n        \"semantic_type\": \"\",\n        \"description\": \"\"\n      }\n    },\n    {\n      \"column\": \"full_time_position\",\n      \"properties\": {\n        \"dtype\": \"category\",\n        \"num_unique_values\": 2,\n        \"samples\": [\n          \"N\"\n        ],\n        \"semantic_type\": \"\",\n        \"description\": \"\"\n      }\n    },\n    {\n      \"column\": \"case_status\",\n      \"properties\": {\n        \"dtype\": \"category\",\n        \"num_unique_values\": 1,\n        \"samples\": [\n          \"Certified\"\n        ],\n        \"semantic_type\": \"\",\n        \"description\": \"\"\n      }\n    }\n  ]\n}"
            }
          },
          "metadata": {},
          "execution_count": 8
        }
      ],
      "source": [
        "data.tail() ##  Complete the code to view last 5 rows of the data"
      ]
    },
    {
      "cell_type": "markdown",
      "id": "accessory-camel",
      "metadata": {
        "id": "accessory-camel"
      },
      "source": [
        "### Understand the shape of the dataset"
      ]
    },
    {
      "cell_type": "code",
      "execution_count": null,
      "id": "regulation-elder",
      "metadata": {
        "id": "regulation-elder",
        "colab": {
          "base_uri": "https://localhost:8080/"
        },
        "outputId": "8f43c4ae-9f0a-4593-e2e8-7afd05094d0b"
      },
      "outputs": [
        {
          "output_type": "execute_result",
          "data": {
            "text/plain": [
              "(25480, 12)"
            ]
          },
          "metadata": {},
          "execution_count": 9
        }
      ],
      "source": [
        "data.shape ##  Complete the code to view dimensions of the data"
      ]
    },
    {
      "cell_type": "markdown",
      "id": "assigned-berkeley",
      "metadata": {
        "id": "assigned-berkeley"
      },
      "source": [
        "### Check the data types of the columns for the dataset"
      ]
    },
    {
      "cell_type": "code",
      "execution_count": null,
      "id": "judicial-institute",
      "metadata": {
        "id": "judicial-institute",
        "colab": {
          "base_uri": "https://localhost:8080/"
        },
        "outputId": "26f1c808-2620-46e1-9623-3680c59a03ba"
      },
      "outputs": [
        {
          "output_type": "stream",
          "name": "stdout",
          "text": [
            "<class 'pandas.core.frame.DataFrame'>\n",
            "RangeIndex: 25480 entries, 0 to 25479\n",
            "Data columns (total 12 columns):\n",
            " #   Column                 Non-Null Count  Dtype  \n",
            "---  ------                 --------------  -----  \n",
            " 0   case_id                25480 non-null  object \n",
            " 1   continent              25480 non-null  object \n",
            " 2   education_of_employee  25480 non-null  object \n",
            " 3   has_job_experience     25480 non-null  object \n",
            " 4   requires_job_training  25480 non-null  object \n",
            " 5   no_of_employees        25480 non-null  int64  \n",
            " 6   yr_of_estab            25480 non-null  int64  \n",
            " 7   region_of_employment   25480 non-null  object \n",
            " 8   prevailing_wage        25480 non-null  float64\n",
            " 9   unit_of_wage           25480 non-null  object \n",
            " 10  full_time_position     25480 non-null  object \n",
            " 11  case_status            25480 non-null  object \n",
            "dtypes: float64(1), int64(2), object(9)\n",
            "memory usage: 2.3+ MB\n"
          ]
        }
      ],
      "source": [
        "data.info()"
      ]
    },
    {
      "cell_type": "code",
      "execution_count": null,
      "id": "going-validation",
      "metadata": {
        "id": "going-validation",
        "colab": {
          "base_uri": "https://localhost:8080/"
        },
        "outputId": "07fa7991-94ea-4019-a02e-afa43843e39f"
      },
      "outputs": [
        {
          "output_type": "execute_result",
          "data": {
            "text/plain": [
              "0"
            ]
          },
          "metadata": {},
          "execution_count": 11
        }
      ],
      "source": [
        "# checking for duplicate values\n",
        "data.duplicated().sum() ##  Complete the code to check duplicate entries in the data"
      ]
    },
    {
      "cell_type": "markdown",
      "id": "standing-horizontal",
      "metadata": {
        "id": "standing-horizontal"
      },
      "source": [
        "## Exploratory Data Analysis"
      ]
    },
    {
      "cell_type": "markdown",
      "id": "american-venue",
      "metadata": {
        "id": "american-venue"
      },
      "source": [
        "#### Let's check the statistical summary of the data"
      ]
    },
    {
      "cell_type": "code",
      "execution_count": null,
      "id": "premium-wagner",
      "metadata": {
        "id": "premium-wagner",
        "colab": {
          "base_uri": "https://localhost:8080/",
          "height": 301
        },
        "outputId": "baacbea9-9e70-4b5e-a5ef-25778e24f4a6"
      },
      "outputs": [
        {
          "output_type": "execute_result",
          "data": {
            "text/plain": [
              "       no_of_employees   yr_of_estab  prevailing_wage\n",
              "count     25480.000000  25480.000000     25480.000000\n",
              "mean       5667.043210   1979.409929     74455.814592\n",
              "std       22877.928848     42.366929     52815.942327\n",
              "min         -26.000000   1800.000000         2.136700\n",
              "25%        1022.000000   1976.000000     34015.480000\n",
              "50%        2109.000000   1997.000000     70308.210000\n",
              "75%        3504.000000   2005.000000    107735.512500\n",
              "max      602069.000000   2016.000000    319210.270000"
            ],
            "text/html": [
              "\n",
              "  <div id=\"df-30d649e1-217d-4a76-9647-5985a119575e\" class=\"colab-df-container\">\n",
              "    <div>\n",
              "<style scoped>\n",
              "    .dataframe tbody tr th:only-of-type {\n",
              "        vertical-align: middle;\n",
              "    }\n",
              "\n",
              "    .dataframe tbody tr th {\n",
              "        vertical-align: top;\n",
              "    }\n",
              "\n",
              "    .dataframe thead th {\n",
              "        text-align: right;\n",
              "    }\n",
              "</style>\n",
              "<table border=\"1\" class=\"dataframe\">\n",
              "  <thead>\n",
              "    <tr style=\"text-align: right;\">\n",
              "      <th></th>\n",
              "      <th>no_of_employees</th>\n",
              "      <th>yr_of_estab</th>\n",
              "      <th>prevailing_wage</th>\n",
              "    </tr>\n",
              "  </thead>\n",
              "  <tbody>\n",
              "    <tr>\n",
              "      <th>count</th>\n",
              "      <td>25480.000000</td>\n",
              "      <td>25480.000000</td>\n",
              "      <td>25480.000000</td>\n",
              "    </tr>\n",
              "    <tr>\n",
              "      <th>mean</th>\n",
              "      <td>5667.043210</td>\n",
              "      <td>1979.409929</td>\n",
              "      <td>74455.814592</td>\n",
              "    </tr>\n",
              "    <tr>\n",
              "      <th>std</th>\n",
              "      <td>22877.928848</td>\n",
              "      <td>42.366929</td>\n",
              "      <td>52815.942327</td>\n",
              "    </tr>\n",
              "    <tr>\n",
              "      <th>min</th>\n",
              "      <td>-26.000000</td>\n",
              "      <td>1800.000000</td>\n",
              "      <td>2.136700</td>\n",
              "    </tr>\n",
              "    <tr>\n",
              "      <th>25%</th>\n",
              "      <td>1022.000000</td>\n",
              "      <td>1976.000000</td>\n",
              "      <td>34015.480000</td>\n",
              "    </tr>\n",
              "    <tr>\n",
              "      <th>50%</th>\n",
              "      <td>2109.000000</td>\n",
              "      <td>1997.000000</td>\n",
              "      <td>70308.210000</td>\n",
              "    </tr>\n",
              "    <tr>\n",
              "      <th>75%</th>\n",
              "      <td>3504.000000</td>\n",
              "      <td>2005.000000</td>\n",
              "      <td>107735.512500</td>\n",
              "    </tr>\n",
              "    <tr>\n",
              "      <th>max</th>\n",
              "      <td>602069.000000</td>\n",
              "      <td>2016.000000</td>\n",
              "      <td>319210.270000</td>\n",
              "    </tr>\n",
              "  </tbody>\n",
              "</table>\n",
              "</div>\n",
              "    <div class=\"colab-df-buttons\">\n",
              "\n",
              "  <div class=\"colab-df-container\">\n",
              "    <button class=\"colab-df-convert\" onclick=\"convertToInteractive('df-30d649e1-217d-4a76-9647-5985a119575e')\"\n",
              "            title=\"Convert this dataframe to an interactive table.\"\n",
              "            style=\"display:none;\">\n",
              "\n",
              "  <svg xmlns=\"http://www.w3.org/2000/svg\" height=\"24px\" viewBox=\"0 -960 960 960\">\n",
              "    <path d=\"M120-120v-720h720v720H120Zm60-500h600v-160H180v160Zm220 220h160v-160H400v160Zm0 220h160v-160H400v160ZM180-400h160v-160H180v160Zm440 0h160v-160H620v160ZM180-180h160v-160H180v160Zm440 0h160v-160H620v160Z\"/>\n",
              "  </svg>\n",
              "    </button>\n",
              "\n",
              "  <style>\n",
              "    .colab-df-container {\n",
              "      display:flex;\n",
              "      gap: 12px;\n",
              "    }\n",
              "\n",
              "    .colab-df-convert {\n",
              "      background-color: #E8F0FE;\n",
              "      border: none;\n",
              "      border-radius: 50%;\n",
              "      cursor: pointer;\n",
              "      display: none;\n",
              "      fill: #1967D2;\n",
              "      height: 32px;\n",
              "      padding: 0 0 0 0;\n",
              "      width: 32px;\n",
              "    }\n",
              "\n",
              "    .colab-df-convert:hover {\n",
              "      background-color: #E2EBFA;\n",
              "      box-shadow: 0px 1px 2px rgba(60, 64, 67, 0.3), 0px 1px 3px 1px rgba(60, 64, 67, 0.15);\n",
              "      fill: #174EA6;\n",
              "    }\n",
              "\n",
              "    .colab-df-buttons div {\n",
              "      margin-bottom: 4px;\n",
              "    }\n",
              "\n",
              "    [theme=dark] .colab-df-convert {\n",
              "      background-color: #3B4455;\n",
              "      fill: #D2E3FC;\n",
              "    }\n",
              "\n",
              "    [theme=dark] .colab-df-convert:hover {\n",
              "      background-color: #434B5C;\n",
              "      box-shadow: 0px 1px 3px 1px rgba(0, 0, 0, 0.15);\n",
              "      filter: drop-shadow(0px 1px 2px rgba(0, 0, 0, 0.3));\n",
              "      fill: #FFFFFF;\n",
              "    }\n",
              "  </style>\n",
              "\n",
              "    <script>\n",
              "      const buttonEl =\n",
              "        document.querySelector('#df-30d649e1-217d-4a76-9647-5985a119575e button.colab-df-convert');\n",
              "      buttonEl.style.display =\n",
              "        google.colab.kernel.accessAllowed ? 'block' : 'none';\n",
              "\n",
              "      async function convertToInteractive(key) {\n",
              "        const element = document.querySelector('#df-30d649e1-217d-4a76-9647-5985a119575e');\n",
              "        const dataTable =\n",
              "          await google.colab.kernel.invokeFunction('convertToInteractive',\n",
              "                                                    [key], {});\n",
              "        if (!dataTable) return;\n",
              "\n",
              "        const docLinkHtml = 'Like what you see? Visit the ' +\n",
              "          '<a target=\"_blank\" href=https://colab.research.google.com/notebooks/data_table.ipynb>data table notebook</a>'\n",
              "          + ' to learn more about interactive tables.';\n",
              "        element.innerHTML = '';\n",
              "        dataTable['output_type'] = 'display_data';\n",
              "        await google.colab.output.renderOutput(dataTable, element);\n",
              "        const docLink = document.createElement('div');\n",
              "        docLink.innerHTML = docLinkHtml;\n",
              "        element.appendChild(docLink);\n",
              "      }\n",
              "    </script>\n",
              "  </div>\n",
              "\n",
              "\n",
              "<div id=\"df-f3545b8c-4df4-4f98-858e-0f1ca3197dec\">\n",
              "  <button class=\"colab-df-quickchart\" onclick=\"quickchart('df-f3545b8c-4df4-4f98-858e-0f1ca3197dec')\"\n",
              "            title=\"Suggest charts\"\n",
              "            style=\"display:none;\">\n",
              "\n",
              "<svg xmlns=\"http://www.w3.org/2000/svg\" height=\"24px\"viewBox=\"0 0 24 24\"\n",
              "     width=\"24px\">\n",
              "    <g>\n",
              "        <path d=\"M19 3H5c-1.1 0-2 .9-2 2v14c0 1.1.9 2 2 2h14c1.1 0 2-.9 2-2V5c0-1.1-.9-2-2-2zM9 17H7v-7h2v7zm4 0h-2V7h2v10zm4 0h-2v-4h2v4z\"/>\n",
              "    </g>\n",
              "</svg>\n",
              "  </button>\n",
              "\n",
              "<style>\n",
              "  .colab-df-quickchart {\n",
              "      --bg-color: #E8F0FE;\n",
              "      --fill-color: #1967D2;\n",
              "      --hover-bg-color: #E2EBFA;\n",
              "      --hover-fill-color: #174EA6;\n",
              "      --disabled-fill-color: #AAA;\n",
              "      --disabled-bg-color: #DDD;\n",
              "  }\n",
              "\n",
              "  [theme=dark] .colab-df-quickchart {\n",
              "      --bg-color: #3B4455;\n",
              "      --fill-color: #D2E3FC;\n",
              "      --hover-bg-color: #434B5C;\n",
              "      --hover-fill-color: #FFFFFF;\n",
              "      --disabled-bg-color: #3B4455;\n",
              "      --disabled-fill-color: #666;\n",
              "  }\n",
              "\n",
              "  .colab-df-quickchart {\n",
              "    background-color: var(--bg-color);\n",
              "    border: none;\n",
              "    border-radius: 50%;\n",
              "    cursor: pointer;\n",
              "    display: none;\n",
              "    fill: var(--fill-color);\n",
              "    height: 32px;\n",
              "    padding: 0;\n",
              "    width: 32px;\n",
              "  }\n",
              "\n",
              "  .colab-df-quickchart:hover {\n",
              "    background-color: var(--hover-bg-color);\n",
              "    box-shadow: 0 1px 2px rgba(60, 64, 67, 0.3), 0 1px 3px 1px rgba(60, 64, 67, 0.15);\n",
              "    fill: var(--button-hover-fill-color);\n",
              "  }\n",
              "\n",
              "  .colab-df-quickchart-complete:disabled,\n",
              "  .colab-df-quickchart-complete:disabled:hover {\n",
              "    background-color: var(--disabled-bg-color);\n",
              "    fill: var(--disabled-fill-color);\n",
              "    box-shadow: none;\n",
              "  }\n",
              "\n",
              "  .colab-df-spinner {\n",
              "    border: 2px solid var(--fill-color);\n",
              "    border-color: transparent;\n",
              "    border-bottom-color: var(--fill-color);\n",
              "    animation:\n",
              "      spin 1s steps(1) infinite;\n",
              "  }\n",
              "\n",
              "  @keyframes spin {\n",
              "    0% {\n",
              "      border-color: transparent;\n",
              "      border-bottom-color: var(--fill-color);\n",
              "      border-left-color: var(--fill-color);\n",
              "    }\n",
              "    20% {\n",
              "      border-color: transparent;\n",
              "      border-left-color: var(--fill-color);\n",
              "      border-top-color: var(--fill-color);\n",
              "    }\n",
              "    30% {\n",
              "      border-color: transparent;\n",
              "      border-left-color: var(--fill-color);\n",
              "      border-top-color: var(--fill-color);\n",
              "      border-right-color: var(--fill-color);\n",
              "    }\n",
              "    40% {\n",
              "      border-color: transparent;\n",
              "      border-right-color: var(--fill-color);\n",
              "      border-top-color: var(--fill-color);\n",
              "    }\n",
              "    60% {\n",
              "      border-color: transparent;\n",
              "      border-right-color: var(--fill-color);\n",
              "    }\n",
              "    80% {\n",
              "      border-color: transparent;\n",
              "      border-right-color: var(--fill-color);\n",
              "      border-bottom-color: var(--fill-color);\n",
              "    }\n",
              "    90% {\n",
              "      border-color: transparent;\n",
              "      border-bottom-color: var(--fill-color);\n",
              "    }\n",
              "  }\n",
              "</style>\n",
              "\n",
              "  <script>\n",
              "    async function quickchart(key) {\n",
              "      const quickchartButtonEl =\n",
              "        document.querySelector('#' + key + ' button');\n",
              "      quickchartButtonEl.disabled = true;  // To prevent multiple clicks.\n",
              "      quickchartButtonEl.classList.add('colab-df-spinner');\n",
              "      try {\n",
              "        const charts = await google.colab.kernel.invokeFunction(\n",
              "            'suggestCharts', [key], {});\n",
              "      } catch (error) {\n",
              "        console.error('Error during call to suggestCharts:', error);\n",
              "      }\n",
              "      quickchartButtonEl.classList.remove('colab-df-spinner');\n",
              "      quickchartButtonEl.classList.add('colab-df-quickchart-complete');\n",
              "    }\n",
              "    (() => {\n",
              "      let quickchartButtonEl =\n",
              "        document.querySelector('#df-f3545b8c-4df4-4f98-858e-0f1ca3197dec button');\n",
              "      quickchartButtonEl.style.display =\n",
              "        google.colab.kernel.accessAllowed ? 'block' : 'none';\n",
              "    })();\n",
              "  </script>\n",
              "</div>\n",
              "\n",
              "    </div>\n",
              "  </div>\n"
            ],
            "application/vnd.google.colaboratory.intrinsic+json": {
              "type": "dataframe",
              "summary": "{\n  \"name\": \"data\",\n  \"rows\": 8,\n  \"fields\": [\n    {\n      \"column\": \"no_of_employees\",\n      \"properties\": {\n        \"dtype\": \"number\",\n        \"std\": 210038.32765143501,\n        \"min\": -26.0,\n        \"max\": 602069.0,\n        \"num_unique_values\": 8,\n        \"samples\": [\n          5667.043210361067,\n          2109.0,\n          25480.0\n        ],\n        \"semantic_type\": \"\",\n        \"description\": \"\"\n      }\n    },\n    {\n      \"column\": \"yr_of_estab\",\n      \"properties\": {\n        \"dtype\": \"number\",\n        \"std\": 8438.815532920567,\n        \"min\": 42.366929101569575,\n        \"max\": 25480.0,\n        \"num_unique_values\": 8,\n        \"samples\": [\n          1979.409929356358,\n          1997.0,\n          25480.0\n        ],\n        \"semantic_type\": \"\",\n        \"description\": \"\"\n      }\n    },\n    {\n      \"column\": \"prevailing_wage\",\n      \"properties\": {\n        \"dtype\": \"number\",\n        \"std\": 100070.59024263687,\n        \"min\": 2.1367,\n        \"max\": 319210.27,\n        \"num_unique_values\": 8,\n        \"samples\": [\n          74455.81459209183,\n          70308.20999999999,\n          25480.0\n        ],\n        \"semantic_type\": \"\",\n        \"description\": \"\"\n      }\n    }\n  ]\n}"
            }
          },
          "metadata": {},
          "execution_count": 12
        }
      ],
      "source": [
        "data.describe() ##  Complete the code to print the statistical summary of the data"
      ]
    },
    {
      "cell_type": "markdown",
      "id": "competent-timing",
      "metadata": {
        "id": "competent-timing"
      },
      "source": [
        "#### Fixing the negative values in number of employees columns"
      ]
    },
    {
      "cell_type": "code",
      "source": [
        "negative_employees = data[data['no_of_employees'] < 0]\n",
        "print(negative_employees)"
      ],
      "metadata": {
        "colab": {
          "base_uri": "https://localhost:8080/"
        },
        "id": "Uz-9Jy-f6Tdw",
        "outputId": "07807ed5-72c2-4a1d-f783-5ebf9af51f25"
      },
      "id": "Uz-9Jy-f6Tdw",
      "execution_count": null,
      "outputs": [
        {
          "output_type": "stream",
          "name": "stdout",
          "text": [
            "         case_id      continent education_of_employee has_job_experience  \\\n",
            "245      EZYV246         Europe              Master's                  N   \n",
            "378      EZYV379           Asia            Bachelor's                  N   \n",
            "832      EZYV833  South America              Master's                  Y   \n",
            "2918    EZYV2919           Asia              Master's                  Y   \n",
            "6439    EZYV6440           Asia            Bachelor's                  N   \n",
            "6634    EZYV6635           Asia            Bachelor's                  Y   \n",
            "7224    EZYV7225         Europe             Doctorate                  N   \n",
            "7281    EZYV7282           Asia           High School                  N   \n",
            "7318    EZYV7319           Asia            Bachelor's                  Y   \n",
            "7761    EZYV7762           Asia              Master's                  N   \n",
            "9872    EZYV9873         Europe              Master's                  Y   \n",
            "11493  EZYV11494           Asia           High School                  Y   \n",
            "13471  EZYV13472  North America              Master's                  N   \n",
            "14022  EZYV14023           Asia            Bachelor's                  N   \n",
            "14146  EZYV14147           Asia            Bachelor's                  N   \n",
            "14726  EZYV14727           Asia              Master's                  N   \n",
            "15600  EZYV15601           Asia            Bachelor's                  N   \n",
            "15859  EZYV15860           Asia           High School                  N   \n",
            "16157  EZYV16158           Asia              Master's                  Y   \n",
            "16883  EZYV16884  North America            Bachelor's                  Y   \n",
            "17006  EZYV17007           Asia             Doctorate                  Y   \n",
            "17655  EZYV17656  North America            Bachelor's                  Y   \n",
            "17844  EZYV17845           Asia            Bachelor's                  N   \n",
            "17983  EZYV17984           Asia            Bachelor's                  N   \n",
            "20815  EZYV20816           Asia            Bachelor's                  N   \n",
            "20984  EZYV20985         Europe             Doctorate                  Y   \n",
            "21255  EZYV21256  North America           High School                  N   \n",
            "21760  EZYV21761           Asia            Bachelor's                  Y   \n",
            "21944  EZYV21945         Africa              Master's                  Y   \n",
            "22084  EZYV22085  North America            Bachelor's                  Y   \n",
            "22388  EZYV22389           Asia              Master's                  Y   \n",
            "23186  EZYV23187           Asia              Master's                  N   \n",
            "23476  EZYV23477         Europe              Master's                  Y   \n",
            "\n",
            "      requires_job_training  no_of_employees  yr_of_estab  \\\n",
            "245                       N              -25         1980   \n",
            "378                       Y              -11         2011   \n",
            "832                       N              -17         2002   \n",
            "2918                      N              -26         2005   \n",
            "6439                      N              -14         2013   \n",
            "6634                      N              -26         1923   \n",
            "7224                      N              -25         1998   \n",
            "7281                      N              -14         2000   \n",
            "7318                      Y              -26         2006   \n",
            "7761                      N              -11         2009   \n",
            "9872                      N              -26         1996   \n",
            "11493                     N              -14         1999   \n",
            "13471                     N              -17         2003   \n",
            "14022                     Y              -11         1946   \n",
            "14146                     Y              -26         1954   \n",
            "14726                     N              -11         2000   \n",
            "15600                     N              -14         2014   \n",
            "15859                     N              -11         1969   \n",
            "16157                     N              -11         1994   \n",
            "16883                     N              -26         1968   \n",
            "17006                     N              -11         1984   \n",
            "17655                     N              -17         2007   \n",
            "17844                     N              -14         2012   \n",
            "17983                     N              -26         2004   \n",
            "20815                     Y              -17         1990   \n",
            "20984                     N              -14         1989   \n",
            "21255                     N              -25         1987   \n",
            "21760                     N              -25         2000   \n",
            "21944                     N              -25         1977   \n",
            "22084                     N              -14         1980   \n",
            "22388                     N              -14         1986   \n",
            "23186                     Y              -11         2007   \n",
            "23476                     N              -11         2000   \n",
            "\n",
            "      region_of_employment  prevailing_wage unit_of_wage full_time_position  \\\n",
            "245              Northeast       39452.9900         Year                  Y   \n",
            "378              Northeast       32506.1400         Year                  Y   \n",
            "832                  South      129701.9400         Year                  Y   \n",
            "2918               Midwest      112799.4600         Year                  Y   \n",
            "6439                 South         103.9700         Hour                  Y   \n",
            "6634                  West        5247.3200         Year                  Y   \n",
            "7224               Midwest      141435.9500         Year                  Y   \n",
            "7281               Midwest       58488.5000         Year                  Y   \n",
            "7318                 South      115005.6100         Year                  Y   \n",
            "7761               Midwest       38457.5100         Year                  Y   \n",
            "9872                 South       37397.0500         Year                  Y   \n",
            "11493                South       27599.3500         Year                  Y   \n",
            "13471            Northeast         257.2413         Hour                  Y   \n",
            "14022            Northeast      108403.5600         Year                  Y   \n",
            "14146                 West       81982.2700         Year                  Y   \n",
            "14726              Midwest      167851.8000         Year                  Y   \n",
            "15600                South       24641.6100         Year                  Y   \n",
            "15859                South       44640.6000         Year                  Y   \n",
            "16157                South       62681.2500         Year                  Y   \n",
            "16883            Northeast         168.1558         Hour                  Y   \n",
            "17006                 West       25753.5100         Year                  Y   \n",
            "17655            Northeast      129753.1800         Year                  Y   \n",
            "17844                 West       29325.8500         Year                  Y   \n",
            "17983                South       84359.9800         Year                  Y   \n",
            "20815                 West       91897.5700         Year                  Y   \n",
            "20984              Midwest       37012.8000         Year                  Y   \n",
            "21255                South       99405.4700         Year                  N   \n",
            "21760                 West      100463.5800         Year                  Y   \n",
            "21944              Midwest       79150.5100         Year                  Y   \n",
            "22084                 West         691.0609         Hour                  Y   \n",
            "22388                South       17893.1100         Year                  Y   \n",
            "23186              Midwest      120195.3500         Year                  Y   \n",
            "23476                 West       95072.7500         Year                  Y   \n",
            "\n",
            "      case_status  \n",
            "245     Certified  \n",
            "378        Denied  \n",
            "832     Certified  \n",
            "2918    Certified  \n",
            "6439       Denied  \n",
            "6634       Denied  \n",
            "7224    Certified  \n",
            "7281       Denied  \n",
            "7318    Certified  \n",
            "7761    Certified  \n",
            "9872    Certified  \n",
            "11493      Denied  \n",
            "13471      Denied  \n",
            "14022   Certified  \n",
            "14146   Certified  \n",
            "14726   Certified  \n",
            "15600      Denied  \n",
            "15859      Denied  \n",
            "16157   Certified  \n",
            "16883      Denied  \n",
            "17006      Denied  \n",
            "17655      Denied  \n",
            "17844      Denied  \n",
            "17983      Denied  \n",
            "20815   Certified  \n",
            "20984   Certified  \n",
            "21255      Denied  \n",
            "21760   Certified  \n",
            "21944   Certified  \n",
            "22084      Denied  \n",
            "22388   Certified  \n",
            "23186   Certified  \n",
            "23476      Denied  \n"
          ]
        }
      ]
    },
    {
      "cell_type": "code",
      "source": [
        "data[\"no_of_employees\"].shape  ## Complete the code to check negative values in the employee column"
      ],
      "metadata": {
        "colab": {
          "base_uri": "https://localhost:8080/"
        },
        "id": "34GqpLis62PH",
        "outputId": "ca00a797-78d9-4ee2-8a02-09da04dd2f39"
      },
      "id": "34GqpLis62PH",
      "execution_count": null,
      "outputs": [
        {
          "output_type": "execute_result",
          "data": {
            "text/plain": [
              "(25480,)"
            ]
          },
          "metadata": {},
          "execution_count": 21
        }
      ]
    },
    {
      "cell_type": "code",
      "execution_count": null,
      "id": "prescription-bosnia",
      "metadata": {
        "id": "prescription-bosnia"
      },
      "outputs": [],
      "source": [
        "# taking the absolute values for number of employees\n",
        "data[\"no_of_employees\"] = abs(data[\"no_of_employees\"]) ## Write the function to convert the values to a positive number"
      ]
    },
    {
      "cell_type": "markdown",
      "id": "cutting-bookmark",
      "metadata": {
        "id": "cutting-bookmark"
      },
      "source": [
        "#### Let's check the count of each unique category in each of the categorical variables"
      ]
    },
    {
      "cell_type": "code",
      "execution_count": null,
      "id": "minute-helmet",
      "metadata": {
        "id": "minute-helmet",
        "colab": {
          "base_uri": "https://localhost:8080/"
        },
        "outputId": "a828b36b-ad16-4b01-f586-4039db395a8e"
      },
      "outputs": [
        {
          "output_type": "stream",
          "name": "stdout",
          "text": [
            "EZYV01       1\n",
            "EZYV16995    1\n",
            "EZYV16993    1\n",
            "EZYV16992    1\n",
            "EZYV16991    1\n",
            "            ..\n",
            "EZYV8492     1\n",
            "EZYV8491     1\n",
            "EZYV8490     1\n",
            "EZYV8489     1\n",
            "EZYV25480    1\n",
            "Name: case_id, Length: 25480, dtype: int64\n",
            "--------------------------------------------------\n",
            "Asia             16861\n",
            "Europe            3732\n",
            "North America     3292\n",
            "South America      852\n",
            "Africa             551\n",
            "Oceania            192\n",
            "Name: continent, dtype: int64\n",
            "--------------------------------------------------\n",
            "Bachelor's     10234\n",
            "Master's        9634\n",
            "High School     3420\n",
            "Doctorate       2192\n",
            "Name: education_of_employee, dtype: int64\n",
            "--------------------------------------------------\n",
            "Y    14802\n",
            "N    10678\n",
            "Name: has_job_experience, dtype: int64\n",
            "--------------------------------------------------\n",
            "N    22525\n",
            "Y     2955\n",
            "Name: requires_job_training, dtype: int64\n",
            "--------------------------------------------------\n",
            "Northeast    7195\n",
            "South        7017\n",
            "West         6586\n",
            "Midwest      4307\n",
            "Island        375\n",
            "Name: region_of_employment, dtype: int64\n",
            "--------------------------------------------------\n",
            "Year     22962\n",
            "Hour      2157\n",
            "Week       272\n",
            "Month       89\n",
            "Name: unit_of_wage, dtype: int64\n",
            "--------------------------------------------------\n",
            "Y    22773\n",
            "N     2707\n",
            "Name: full_time_position, dtype: int64\n",
            "--------------------------------------------------\n",
            "Certified    17018\n",
            "Denied        8462\n",
            "Name: case_status, dtype: int64\n",
            "--------------------------------------------------\n"
          ]
        }
      ],
      "source": [
        "# Making a list of all catrgorical variables\n",
        "cat_col = list(data.select_dtypes(\"object\").columns)\n",
        "\n",
        "# Printing number of count of each unique value in each column\n",
        "for column in cat_col:\n",
        "    print(data[column].value_counts())\n",
        "    print(\"-\" * 50)"
      ]
    },
    {
      "cell_type": "code",
      "execution_count": null,
      "id": "occupied-classroom",
      "metadata": {
        "id": "occupied-classroom",
        "colab": {
          "base_uri": "https://localhost:8080/"
        },
        "outputId": "97d14318-1797-4d92-f7a6-23bfe0ab1b79"
      },
      "outputs": [
        {
          "output_type": "execute_result",
          "data": {
            "text/plain": [
              "array(['EZYV01', 'EZYV02', 'EZYV03', ..., 'EZYV25478', 'EZYV25479',\n",
              "       'EZYV25480'], dtype=object)"
            ]
          },
          "metadata": {},
          "execution_count": 23
        }
      ],
      "source": [
        "# checking the number of unique values\n",
        "data[\"case_id\"].unique() ## Complete the code to check unique values in the mentioned column"
      ]
    },
    {
      "cell_type": "code",
      "execution_count": null,
      "id": "existing-sociology",
      "metadata": {
        "id": "existing-sociology"
      },
      "outputs": [],
      "source": [
        "data.drop([\"case_id\"], axis=1, inplace=True) ## Complete the code to drop 'case_id' column from the data"
      ]
    },
    {
      "cell_type": "markdown",
      "id": "wooden-christian",
      "metadata": {
        "id": "wooden-christian"
      },
      "source": [
        "### Univariate Analysis"
      ]
    },
    {
      "cell_type": "code",
      "execution_count": null,
      "id": "superb-springfield",
      "metadata": {
        "id": "superb-springfield"
      },
      "outputs": [],
      "source": [
        "def histogram_boxplot(data, feature, figsize=(15, 10), kde=False, bins=None):\n",
        "    \"\"\"\n",
        "    Boxplot and histogram combined\n",
        "\n",
        "    data: dataframe\n",
        "    feature: dataframe column\n",
        "    figsize: size of figure (default (15,10))\n",
        "    kde: whether to show the density curve (default False)\n",
        "    bins: number of bins for histogram (default None)\n",
        "    \"\"\"\n",
        "    f2, (ax_box2, ax_hist2) = plt.subplots(\n",
        "        nrows=2,  # Number of rows of the subplot grid= 2\n",
        "        sharex=True,  # x-axis will be shared among all subplots\n",
        "        gridspec_kw={\"height_ratios\": (0.25, 0.75)},\n",
        "        figsize=figsize,\n",
        "    )  # creating the 2 subplots\n",
        "    sns.boxplot(\n",
        "        data=data, x=feature, ax=ax_box2, showmeans=True, color=\"violet\"\n",
        "    )  # boxplot will be created and a triangle will indicate the mean value of the column\n",
        "    sns.histplot(\n",
        "        data=data, x=feature, kde=kde, ax=ax_hist2, bins=bins\n",
        "    ) if bins else sns.histplot(\n",
        "        data=data, x=feature, kde=kde, ax=ax_hist2\n",
        "    )  # For histogram\n",
        "    ax_hist2.axvline(\n",
        "        data[feature].mean(), color=\"green\", linestyle=\"--\"\n",
        "    )  # Add mean to the histogram\n",
        "    ax_hist2.axvline(\n",
        "        data[feature].median(), color=\"black\", linestyle=\"-\"\n",
        "    )  # Add median to the histogram"
      ]
    },
    {
      "cell_type": "markdown",
      "id": "comic-inventory",
      "metadata": {
        "id": "comic-inventory"
      },
      "source": [
        "#### Observations on number of employees"
      ]
    },
    {
      "cell_type": "code",
      "execution_count": null,
      "id": "loaded-commercial",
      "metadata": {
        "id": "loaded-commercial",
        "colab": {
          "base_uri": "https://localhost:8080/",
          "height": 850
        },
        "outputId": "1c60a034-f3fb-49ca-cf67-1160aa6a5191"
      },
      "outputs": [
        {
          "output_type": "display_data",
          "data": {
            "text/plain": [
              "<Figure size 1500x1000 with 2 Axes>"
            ],
            "image/png": "[encoded data removed]"
          },
          "metadata": {}
        }
      ],
      "source": [
        "histogram_boxplot(data, \"no_of_employees\")"
      ]
    },
    {
      "cell_type": "markdown",
      "id": "metric-apparel",
      "metadata": {
        "id": "metric-apparel"
      },
      "source": [
        "#### Observations on prevailing wage"
      ]
    },
    {
      "cell_type": "code",
      "execution_count": 27,
      "id": "duplicate-theater",
      "metadata": {
        "id": "duplicate-theater",
        "colab": {
          "base_uri": "https://localhost:8080/",
          "height": 850
        },
        "outputId": "1ac8d934-fadc-4f23-fb90-ef85a831a097"
      },
      "outputs": [
        {
          "output_type": "display_data",
          "data": {
            "text/plain": [
              "<Figure size 1500x1000 with 2 Axes>"
            ],
            "image/png": "[encoded data removed]"
          },
          "metadata": {}
        }
      ],
      "source": [
        "histogram_boxplot(data, 'prevailing_wage') ## Complete the code to create histogram_boxplot for prevailing wage"
      ]
    },
    {
      "cell_type": "code",
      "execution_count": 28,
      "id": "legendary-stone",
      "metadata": {
        "id": "legendary-stone",
        "colab": {
          "base_uri": "https://localhost:8080/",
          "height": 478
        },
        "outputId": "ab08606e-a94e-49a0-e58b-efa5fd7f24c7"
      },
      "outputs": [
        {
          "output_type": "execute_result",
          "data": {
            "text/plain": [
              "           continent education_of_employee has_job_experience  \\\n",
              "338             Asia            Bachelor's                  Y   \n",
              "634             Asia              Master's                  N   \n",
              "839             Asia           High School                  Y   \n",
              "876    South America            Bachelor's                  Y   \n",
              "995             Asia              Master's                  N   \n",
              "...              ...                   ...                ...   \n",
              "25023           Asia            Bachelor's                  N   \n",
              "25258           Asia            Bachelor's                  Y   \n",
              "25308  North America              Master's                  N   \n",
              "25329         Africa            Bachelor's                  N   \n",
              "25461           Asia              Master's                  Y   \n",
              "\n",
              "      requires_job_training  no_of_employees  yr_of_estab  \\\n",
              "338                       N             2114         2012   \n",
              "634                       N              834         1977   \n",
              "839                       N             4537         1999   \n",
              "876                       N              731         2004   \n",
              "995                       N              302         2000   \n",
              "...                     ...              ...          ...   \n",
              "25023                     Y             3200         1994   \n",
              "25258                     N             3659         1997   \n",
              "25308                     N            82953         1977   \n",
              "25329                     N             2172         1993   \n",
              "25461                     N             2861         2004   \n",
              "\n",
              "      region_of_employment  prevailing_wage unit_of_wage full_time_position  \\\n",
              "338              Northeast          15.7716         Hour                  Y   \n",
              "634              Northeast           3.3188         Hour                  Y   \n",
              "839                   West          61.1329         Hour                  Y   \n",
              "876              Northeast          82.0029         Hour                  Y   \n",
              "995                  South          47.4872         Hour                  Y   \n",
              "...                    ...              ...          ...                ...   \n",
              "25023                South          94.1546         Hour                  Y   \n",
              "25258                South          79.1099         Hour                  Y   \n",
              "25308            Northeast          42.7705         Hour                  Y   \n",
              "25329            Northeast          32.9286         Hour                  Y   \n",
              "25461                 West          54.9196         Hour                  Y   \n",
              "\n",
              "      case_status  \n",
              "338     Certified  \n",
              "634        Denied  \n",
              "839        Denied  \n",
              "876        Denied  \n",
              "995     Certified  \n",
              "...           ...  \n",
              "25023      Denied  \n",
              "25258      Denied  \n",
              "25308      Denied  \n",
              "25329      Denied  \n",
              "25461      Denied  \n",
              "\n",
              "[176 rows x 11 columns]"
            ],
            "text/html": [
              "\n",
              "  <div id=\"df-69b323b4-2c58-40e2-aab5-d8a4063fd62f\" class=\"colab-df-container\">\n",
              "    <div>\n",
              "<style scoped>\n",
              "    .dataframe tbody tr th:only-of-type {\n",
              "        vertical-align: middle;\n",
              "    }\n",
              "\n",
              "    .dataframe tbody tr th {\n",
              "        vertical-align: top;\n",
              "    }\n",
              "\n",
              "    .dataframe thead th {\n",
              "        text-align: right;\n",
              "    }\n",
              "</style>\n",
              "<table border=\"1\" class=\"dataframe\">\n",
              "  <thead>\n",
              "    <tr style=\"text-align: right;\">\n",
              "      <th></th>\n",
              "      <th>continent</th>\n",
              "      <th>education_of_employee</th>\n",
              "      <th>has_job_experience</th>\n",
              "      <th>requires_job_training</th>\n",
              "      <th>no_of_employees</th>\n",
              "      <th>yr_of_estab</th>\n",
              "      <th>region_of_employment</th>\n",
              "      <th>prevailing_wage</th>\n",
              "      <th>unit_of_wage</th>\n",
              "      <th>full_time_position</th>\n",
              "      <th>case_status</th>\n",
              "    </tr>\n",
              "  </thead>\n",
              "  <tbody>\n",
              "    <tr>\n",
              "      <th>338</th>\n",
              "      <td>Asia</td>\n",
              "      <td>Bachelor's</td>\n",
              "      <td>Y</td>\n",
              "      <td>N</td>\n",
              "      <td>2114</td>\n",
              "      <td>2012</td>\n",
              "      <td>Northeast</td>\n",
              "      <td>15.7716</td>\n",
              "      <td>Hour</td>\n",
              "      <td>Y</td>\n",
              "      <td>Certified</td>\n",
              "    </tr>\n",
              "    <tr>\n",
              "      <th>634</th>\n",
              "      <td>Asia</td>\n",
              "      <td>Master's</td>\n",
              "      <td>N</td>\n",
              "      <td>N</td>\n",
              "      <td>834</td>\n",
              "      <td>1977</td>\n",
              "      <td>Northeast</td>\n",
              "      <td>3.3188</td>\n",
              "      <td>Hour</td>\n",
              "      <td>Y</td>\n",
              "      <td>Denied</td>\n",
              "    </tr>\n",
              "    <tr>\n",
              "      <th>839</th>\n",
              "      <td>Asia</td>\n",
              "      <td>High School</td>\n",
              "      <td>Y</td>\n",
              "      <td>N</td>\n",
              "      <td>4537</td>\n",
              "      <td>1999</td>\n",
              "      <td>West</td>\n",
              "      <td>61.1329</td>\n",
              "      <td>Hour</td>\n",
              "      <td>Y</td>\n",
              "      <td>Denied</td>\n",
              "    </tr>\n",
              "    <tr>\n",
              "      <th>876</th>\n",
              "      <td>South America</td>\n",
              "      <td>Bachelor's</td>\n",
              "      <td>Y</td>\n",
              "      <td>N</td>\n",
              "      <td>731</td>\n",
              "      <td>2004</td>\n",
              "      <td>Northeast</td>\n",
              "      <td>82.0029</td>\n",
              "      <td>Hour</td>\n",
              "      <td>Y</td>\n",
              "      <td>Denied</td>\n",
              "    </tr>\n",
              "    <tr>\n",
              "      <th>995</th>\n",
              "      <td>Asia</td>\n",
              "      <td>Master's</td>\n",
              "      <td>N</td>\n",
              "      <td>N</td>\n",
              "      <td>302</td>\n",
              "      <td>2000</td>\n",
              "      <td>South</td>\n",
              "      <td>47.4872</td>\n",
              "      <td>Hour</td>\n",
              "      <td>Y</td>\n",
              "      <td>Certified</td>\n",
              "    </tr>\n",
              "    <tr>\n",
              "      <th>...</th>\n",
              "      <td>...</td>\n",
              "      <td>...</td>\n",
              "      <td>...</td>\n",
              "      <td>...</td>\n",
              "      <td>...</td>\n",
              "      <td>...</td>\n",
              "      <td>...</td>\n",
              "      <td>...</td>\n",
              "      <td>...</td>\n",
              "      <td>...</td>\n",
              "      <td>...</td>\n",
              "    </tr>\n",
              "    <tr>\n",
              "      <th>25023</th>\n",
              "      <td>Asia</td>\n",
              "      <td>Bachelor's</td>\n",
              "      <td>N</td>\n",
              "      <td>Y</td>\n",
              "      <td>3200</td>\n",
              "      <td>1994</td>\n",
              "      <td>South</td>\n",
              "      <td>94.1546</td>\n",
              "      <td>Hour</td>\n",
              "      <td>Y</td>\n",
              "      <td>Denied</td>\n",
              "    </tr>\n",
              "    <tr>\n",
              "      <th>25258</th>\n",
              "      <td>Asia</td>\n",
              "      <td>Bachelor's</td>\n",
              "      <td>Y</td>\n",
              "      <td>N</td>\n",
              "      <td>3659</td>\n",
              "      <td>1997</td>\n",
              "      <td>South</td>\n",
              "      <td>79.1099</td>\n",
              "      <td>Hour</td>\n",
              "      <td>Y</td>\n",
              "      <td>Denied</td>\n",
              "    </tr>\n",
              "    <tr>\n",
              "      <th>25308</th>\n",
              "      <td>North America</td>\n",
              "      <td>Master's</td>\n",
              "      <td>N</td>\n",
              "      <td>N</td>\n",
              "      <td>82953</td>\n",
              "      <td>1977</td>\n",
              "      <td>Northeast</td>\n",
              "      <td>42.7705</td>\n",
              "      <td>Hour</td>\n",
              "      <td>Y</td>\n",
              "      <td>Denied</td>\n",
              "    </tr>\n",
              "    <tr>\n",
              "      <th>25329</th>\n",
              "      <td>Africa</td>\n",
              "      <td>Bachelor's</td>\n",
              "      <td>N</td>\n",
              "      <td>N</td>\n",
              "      <td>2172</td>\n",
              "      <td>1993</td>\n",
              "      <td>Northeast</td>\n",
              "      <td>32.9286</td>\n",
              "      <td>Hour</td>\n",
              "      <td>Y</td>\n",
              "      <td>Denied</td>\n",
              "    </tr>\n",
              "    <tr>\n",
              "      <th>25461</th>\n",
              "      <td>Asia</td>\n",
              "      <td>Master's</td>\n",
              "      <td>Y</td>\n",
              "      <td>N</td>\n",
              "      <td>2861</td>\n",
              "      <td>2004</td>\n",
              "      <td>West</td>\n",
              "      <td>54.9196</td>\n",
              "      <td>Hour</td>\n",
              "      <td>Y</td>\n",
              "      <td>Denied</td>\n",
              "    </tr>\n",
              "  </tbody>\n",
              "</table>\n",
              "<p>176 rows × 11 columns</p>\n",
              "</div>\n",
              "    <div class=\"colab-df-buttons\">\n",
              "\n",
              "  <div class=\"colab-df-container\">\n",
              "    <button class=\"colab-df-convert\" onclick=\"convertToInteractive('df-69b323b4-2c58-40e2-aab5-d8a4063fd62f')\"\n",
              "            title=\"Convert this dataframe to an interactive table.\"\n",
              "            style=\"display:none;\">\n",
              "\n",
              "  <svg xmlns=\"http://www.w3.org/2000/svg\" height=\"24px\" viewBox=\"0 -960 960 960\">\n",
              "    <path d=\"M120-120v-720h720v720H120Zm60-500h600v-160H180v160Zm220 220h160v-160H400v160Zm0 220h160v-160H400v160ZM180-400h160v-160H180v160Zm440 0h160v-160H620v160ZM180-180h160v-160H180v160Zm440 0h160v-160H620v160Z\"/>\n",
              "  </svg>\n",
              "    </button>\n",
              "\n",
              "  <style>\n",
              "    .colab-df-container {\n",
              "      display:flex;\n",
              "      gap: 12px;\n",
              "    }\n",
              "\n",
              "    .colab-df-convert {\n",
              "      background-color: #E8F0FE;\n",
              "      border: none;\n",
              "      border-radius: 50%;\n",
              "      cursor: pointer;\n",
              "      display: none;\n",
              "      fill: #1967D2;\n",
              "      height: 32px;\n",
              "      padding: 0 0 0 0;\n",
              "      width: 32px;\n",
              "    }\n",
              "\n",
              "    .colab-df-convert:hover {\n",
              "      background-color: #E2EBFA;\n",
              "      box-shadow: 0px 1px 2px rgba(60, 64, 67, 0.3), 0px 1px 3px 1px rgba(60, 64, 67, 0.15);\n",
              "      fill: #174EA6;\n",
              "    }\n",
              "\n",
              "    .colab-df-buttons div {\n",
              "      margin-bottom: 4px;\n",
              "    }\n",
              "\n",
              "    [theme=dark] .colab-df-convert {\n",
              "      background-color: #3B4455;\n",
              "      fill: #D2E3FC;\n",
              "    }\n",
              "\n",
              "    [theme=dark] .colab-df-convert:hover {\n",
              "      background-color: #434B5C;\n",
              "      box-shadow: 0px 1px 3px 1px rgba(0, 0, 0, 0.15);\n",
              "      filter: drop-shadow(0px 1px 2px rgba(0, 0, 0, 0.3));\n",
              "      fill: #FFFFFF;\n",
              "    }\n",
              "  </style>\n",
              "\n",
              "    <script>\n",
              "      const buttonEl =\n",
              "        document.querySelector('#df-69b323b4-2c58-40e2-aab5-d8a4063fd62f button.colab-df-convert');\n",
              "      buttonEl.style.display =\n",
              "        google.colab.kernel.accessAllowed ? 'block' : 'none';\n",
              "\n",
              "      async function convertToInteractive(key) {\n",
              "        const element = document.querySelector('#df-69b323b4-2c58-40e2-aab5-d8a4063fd62f');\n",
              "        const dataTable =\n",
              "          await google.colab.kernel.invokeFunction('convertToInteractive',\n",
              "                                                    [key], {});\n",
              "        if (!dataTable) return;\n",
              "\n",
              "        const docLinkHtml = 'Like what you see? Visit the ' +\n",
              "          '<a target=\"_blank\" href=https://colab.research.google.com/notebooks/data_table.ipynb>data table notebook</a>'\n",
              "          + ' to learn more about interactive tables.';\n",
              "        element.innerHTML = '';\n",
              "        dataTable['output_type'] = 'display_data';\n",
              "        await google.colab.output.renderOutput(dataTable, element);\n",
              "        const docLink = document.createElement('div');\n",
              "        docLink.innerHTML = docLinkHtml;\n",
              "        element.appendChild(docLink);\n",
              "      }\n",
              "    </script>\n",
              "  </div>\n",
              "\n",
              "\n",
              "<div id=\"df-b0f86fda-c08a-4cb0-8cfa-3041171342a2\">\n",
              "  <button class=\"colab-df-quickchart\" onclick=\"quickchart('df-b0f86fda-c08a-4cb0-8cfa-3041171342a2')\"\n",
              "            title=\"Suggest charts\"\n",
              "            style=\"display:none;\">\n",
              "\n",
              "<svg xmlns=\"http://www.w3.org/2000/svg\" height=\"24px\"viewBox=\"0 0 24 24\"\n",
              "     width=\"24px\">\n",
              "    <g>\n",
              "        <path d=\"M19 3H5c-1.1 0-2 .9-2 2v14c0 1.1.9 2 2 2h14c1.1 0 2-.9 2-2V5c0-1.1-.9-2-2-2zM9 17H7v-7h2v7zm4 0h-2V7h2v10zm4 0h-2v-4h2v4z\"/>\n",
              "    </g>\n",
              "</svg>\n",
              "  </button>\n",
              "\n",
              "<style>\n",
              "  .colab-df-quickchart {\n",
              "      --bg-color: #E8F0FE;\n",
              "      --fill-color: #1967D2;\n",
              "      --hover-bg-color: #E2EBFA;\n",
              "      --hover-fill-color: #174EA6;\n",
              "      --disabled-fill-color: #AAA;\n",
              "      --disabled-bg-color: #DDD;\n",
              "  }\n",
              "\n",
              "  [theme=dark] .colab-df-quickchart {\n",
              "      --bg-color: #3B4455;\n",
              "      --fill-color: #D2E3FC;\n",
              "      --hover-bg-color: #434B5C;\n",
              "      --hover-fill-color: #FFFFFF;\n",
              "      --disabled-bg-color: #3B4455;\n",
              "      --disabled-fill-color: #666;\n",
              "  }\n",
              "\n",
              "  .colab-df-quickchart {\n",
              "    background-color: var(--bg-color);\n",
              "    border: none;\n",
              "    border-radius: 50%;\n",
              "    cursor: pointer;\n",
              "    display: none;\n",
              "    fill: var(--fill-color);\n",
              "    height: 32px;\n",
              "    padding: 0;\n",
              "    width: 32px;\n",
              "  }\n",
              "\n",
              "  .colab-df-quickchart:hover {\n",
              "    background-color: var(--hover-bg-color);\n",
              "    box-shadow: 0 1px 2px rgba(60, 64, 67, 0.3), 0 1px 3px 1px rgba(60, 64, 67, 0.15);\n",
              "    fill: var(--button-hover-fill-color);\n",
              "  }\n",
              "\n",
              "  .colab-df-quickchart-complete:disabled,\n",
              "  .colab-df-quickchart-complete:disabled:hover {\n",
              "    background-color: var(--disabled-bg-color);\n",
              "    fill: var(--disabled-fill-color);\n",
              "    box-shadow: none;\n",
              "  }\n",
              "\n",
              "  .colab-df-spinner {\n",
              "    border: 2px solid var(--fill-color);\n",
              "    border-color: transparent;\n",
              "    border-bottom-color: var(--fill-color);\n",
              "    animation:\n",
              "      spin 1s steps(1) infinite;\n",
              "  }\n",
              "\n",
              "  @keyframes spin {\n",
              "    0% {\n",
              "      border-color: transparent;\n",
              "      border-bottom-color: var(--fill-color);\n",
              "      border-left-color: var(--fill-color);\n",
              "    }\n",
              "    20% {\n",
              "      border-color: transparent;\n",
              "      border-left-color: var(--fill-color);\n",
              "      border-top-color: var(--fill-color);\n",
              "    }\n",
              "    30% {\n",
              "      border-color: transparent;\n",
              "      border-left-color: var(--fill-color);\n",
              "      border-top-color: var(--fill-color);\n",
              "      border-right-color: var(--fill-color);\n",
              "    }\n",
              "    40% {\n",
              "      border-color: transparent;\n",
              "      border-right-color: var(--fill-color);\n",
              "      border-top-color: var(--fill-color);\n",
              "    }\n",
              "    60% {\n",
              "      border-color: transparent;\n",
              "      border-right-color: var(--fill-color);\n",
              "    }\n",
              "    80% {\n",
              "      border-color: transparent;\n",
              "      border-right-color: var(--fill-color);\n",
              "      border-bottom-color: var(--fill-color);\n",
              "    }\n",
              "    90% {\n",
              "      border-color: transparent;\n",
              "      border-bottom-color: var(--fill-color);\n",
              "    }\n",
              "  }\n",
              "</style>\n",
              "\n",
              "  <script>\n",
              "    async function quickchart(key) {\n",
              "      const quickchartButtonEl =\n",
              "        document.querySelector('#' + key + ' button');\n",
              "      quickchartButtonEl.disabled = true;  // To prevent multiple clicks.\n",
              "      quickchartButtonEl.classList.add('colab-df-spinner');\n",
              "      try {\n",
              "        const charts = await google.colab.kernel.invokeFunction(\n",
              "            'suggestCharts', [key], {});\n",
              "      } catch (error) {\n",
              "        console.error('Error during call to suggestCharts:', error);\n",
              "      }\n",
              "      quickchartButtonEl.classList.remove('colab-df-spinner');\n",
              "      quickchartButtonEl.classList.add('colab-df-quickchart-complete');\n",
              "    }\n",
              "    (() => {\n",
              "      let quickchartButtonEl =\n",
              "        document.querySelector('#df-b0f86fda-c08a-4cb0-8cfa-3041171342a2 button');\n",
              "      quickchartButtonEl.style.display =\n",
              "        google.colab.kernel.accessAllowed ? 'block' : 'none';\n",
              "    })();\n",
              "  </script>\n",
              "</div>\n",
              "\n",
              "    </div>\n",
              "  </div>\n"
            ],
            "application/vnd.google.colaboratory.intrinsic+json": {
              "type": "dataframe",
              "summary": "{\n  \"name\": \"data\",\n  \"rows\": 176,\n  \"fields\": [\n    {\n      \"column\": \"continent\",\n      \"properties\": {\n        \"dtype\": \"category\",\n        \"num_unique_values\": 6,\n        \"samples\": [\n          \"Asia\",\n          \"South America\",\n          \"Oceania\"\n        ],\n        \"semantic_type\": \"\",\n        \"description\": \"\"\n      }\n    },\n    {\n      \"column\": \"education_of_employee\",\n      \"properties\": {\n        \"dtype\": \"category\",\n        \"num_unique_values\": 4,\n        \"samples\": [\n          \"Master's\",\n          \"Doctorate\",\n          \"Bachelor's\"\n        ],\n        \"semantic_type\": \"\",\n        \"description\": \"\"\n      }\n    },\n    {\n      \"column\": \"has_job_experience\",\n      \"properties\": {\n        \"dtype\": \"category\",\n        \"num_unique_values\": 2,\n        \"samples\": [\n          \"N\",\n          \"Y\"\n        ],\n        \"semantic_type\": \"\",\n        \"description\": \"\"\n      }\n    },\n    {\n      \"column\": \"requires_job_training\",\n      \"properties\": {\n        \"dtype\": \"category\",\n        \"num_unique_values\": 2,\n        \"samples\": [\n          \"Y\",\n          \"N\"\n        ],\n        \"semantic_type\": \"\",\n        \"description\": \"\"\n      }\n    },\n    {\n      \"column\": \"no_of_employees\",\n      \"properties\": {\n        \"dtype\": \"number\",\n        \"std\": 23380,\n        \"min\": 22,\n        \"max\": 288512,\n        \"num_unique_values\": 174,\n        \"samples\": [\n          726,\n          612\n        ],\n        \"semantic_type\": \"\",\n        \"description\": \"\"\n      }\n    },\n    {\n      \"column\": \"yr_of_estab\",\n      \"properties\": {\n        \"dtype\": \"number\",\n        \"std\": 48,\n        \"min\": 1817,\n        \"max\": 2013,\n        \"num_unique_values\": 71,\n        \"samples\": [\n          1863,\n          2012\n        ],\n        \"semantic_type\": \"\",\n        \"description\": \"\"\n      }\n    },\n    {\n      \"column\": \"region_of_employment\",\n      \"properties\": {\n        \"dtype\": \"category\",\n        \"num_unique_values\": 5,\n        \"samples\": [\n          \"West\",\n          \"Island\"\n        ],\n        \"semantic_type\": \"\",\n        \"description\": \"\"\n      }\n    },\n    {\n      \"column\": \"prevailing_wage\",\n      \"properties\": {\n        \"dtype\": \"number\",\n        \"std\": 27.685924970574312,\n        \"min\": 2.1367,\n        \"max\": 99.6744,\n        \"num_unique_values\": 176,\n        \"samples\": [\n          85.9367,\n          69.6449\n        ],\n        \"semantic_type\": \"\",\n        \"description\": \"\"\n      }\n    },\n    {\n      \"column\": \"unit_of_wage\",\n      \"properties\": {\n        \"dtype\": \"category\",\n        \"num_unique_values\": 1,\n        \"samples\": [\n          \"Hour\"\n        ],\n        \"semantic_type\": \"\",\n        \"description\": \"\"\n      }\n    },\n    {\n      \"column\": \"full_time_position\",\n      \"properties\": {\n        \"dtype\": \"category\",\n        \"num_unique_values\": 2,\n        \"samples\": [\n          \"N\"\n        ],\n        \"semantic_type\": \"\",\n        \"description\": \"\"\n      }\n    },\n    {\n      \"column\": \"case_status\",\n      \"properties\": {\n        \"dtype\": \"category\",\n        \"num_unique_values\": 2,\n        \"samples\": [\n          \"Denied\"\n        ],\n        \"semantic_type\": \"\",\n        \"description\": \"\"\n      }\n    }\n  ]\n}"
            }
          },
          "metadata": {},
          "execution_count": 28
        }
      ],
      "source": [
        "# checking the observations which have less than 100 prevailing wage\n",
        "data.loc[data[\"prevailing_wage\"] < 100,] ## Complete the code to find the rows with less than 100 prevailing wage"
      ]
    },
    {
      "cell_type": "code",
      "execution_count": 30,
      "id": "handmade-carroll",
      "metadata": {
        "id": "handmade-carroll",
        "colab": {
          "base_uri": "https://localhost:8080/"
        },
        "outputId": "09cd34e6-389f-49fb-efbd-c719b6bdc008"
      },
      "outputs": [
        {
          "output_type": "execute_result",
          "data": {
            "text/plain": [
              "176"
            ]
          },
          "metadata": {},
          "execution_count": 30
        }
      ],
      "source": [
        "data.loc[data[\"prevailing_wage\"] < 100, \"unit_of_wage\"].count() ## Complete the code to get the count of the values in the mentioned column"
      ]
    },
    {
      "cell_type": "code",
      "execution_count": 31,
      "id": "proof-drove",
      "metadata": {
        "id": "proof-drove"
      },
      "outputs": [],
      "source": [
        "# function to create labeled barplots\n",
        "\n",
        "\n",
        "def labeled_barplot(data, feature, perc=False, n=None):\n",
        "    \"\"\"\n",
        "    Barplot with percentage at the top\n",
        "\n",
        "    data: dataframe\n",
        "    feature: dataframe column\n",
        "    perc: whether to display percentages instead of count (default is False)\n",
        "    n: displays the top n category levels (default is None, i.e., display all levels)\n",
        "    \"\"\"\n",
        "\n",
        "    total = len(data[feature])  # length of the column\n",
        "    count = data[feature].nunique()\n",
        "    if n is None:\n",
        "        plt.figure(figsize=(count + 2, 6))\n",
        "    else:\n",
        "        plt.figure(figsize=(n + 2, 6))\n",
        "\n",
        "    plt.xticks(rotation=90, fontsize=15)\n",
        "    ax = sns.countplot(\n",
        "        data=data,\n",
        "        x=feature,\n",
        "        palette=\"Paired\",\n",
        "        order=data[feature].value_counts().index[:n],\n",
        "    )\n",
        "\n",
        "    for p in ax.patches:\n",
        "        if perc == True:\n",
        "            label = \"{:.1f}%\".format(\n",
        "                100 * p.get_height() / total\n",
        "            )  # percentage of each class of the category\n",
        "        else:\n",
        "            label = p.get_height()  # count of each level of the category\n",
        "\n",
        "        x = p.get_x() + p.get_width() / 2  # width of the plot\n",
        "        y = p.get_height()  # height of the plot\n",
        "\n",
        "        ax.annotate(\n",
        "            label,\n",
        "            (x, y),\n",
        "            ha=\"center\",\n",
        "            va=\"center\",\n",
        "            size=12,\n",
        "            xytext=(0, 5),\n",
        "            textcoords=\"offset points\",\n",
        "        )  # annotate the percentage\n",
        "\n",
        "    plt.show()  # show the plot"
      ]
    },
    {
      "cell_type": "markdown",
      "id": "bulgarian-parts",
      "metadata": {
        "id": "bulgarian-parts"
      },
      "source": [
        "#### Observations on continent"
      ]
    },
    {
      "cell_type": "code",
      "execution_count": 32,
      "id": "artistic-accounting",
      "metadata": {
        "id": "artistic-accounting",
        "colab": {
          "base_uri": "https://localhost:8080/",
          "height": 681
        },
        "outputId": "035b0469-68bf-4f1f-edfd-1e3465eb9805"
      },
      "outputs": [
        {
          "output_type": "display_data",
          "data": {
            "text/plain": [
              "<Figure size 800x600 with 1 Axes>"
            ],
            "image/png": "[encoded data removed]"
          },
          "metadata": {}
        }
      ],
      "source": [
        "labeled_barplot(data, \"continent\", perc=True)"
      ]
    },
    {
      "cell_type": "markdown",
      "id": "editorial-command",
      "metadata": {
        "id": "editorial-command"
      },
      "source": [
        "#### Observations on education of employee"
      ]
    },
    {
      "cell_type": "code",
      "execution_count": 33,
      "id": "express-harrison",
      "metadata": {
        "id": "express-harrison",
        "colab": {
          "base_uri": "https://localhost:8080/",
          "height": 652
        },
        "outputId": "97e7c5da-7546-46a4-c831-31d5febafd47"
      },
      "outputs": [
        {
          "output_type": "display_data",
          "data": {
            "text/plain": [
              "<Figure size 600x600 with 1 Axes>"
            ],
            "image/png": "[encoded data removed]"
          },
          "metadata": {}
        }
      ],
      "source": [
        "labeled_barplot(data, 'education_of_employee')  ## Complete the code to create labeled_barplot for education of employee"
      ]
    },
    {
      "cell_type": "markdown",
      "id": "forbidden-kidney",
      "metadata": {
        "id": "forbidden-kidney"
      },
      "source": [
        "#### Observations on job experience"
      ]
    },
    {
      "cell_type": "code",
      "execution_count": 34,
      "id": "exterior-rings",
      "metadata": {
        "id": "exterior-rings",
        "colab": {
          "base_uri": "https://localhost:8080/",
          "height": 543
        },
        "outputId": "3edf8f4b-ac75-43d2-ad29-ae526309e363"
      },
      "outputs": [
        {
          "output_type": "display_data",
          "data": {
            "text/plain": [
              "<Figure size 400x600 with 1 Axes>"
            ],
            "image/png": "[encoded data removed]"
          },
          "metadata": {}
        }
      ],
      "source": [
        "labeled_barplot(data, 'has_job_experience')  ## Complete the code to create labeled_barplot for job experience"
      ]
    },
    {
      "cell_type": "markdown",
      "id": "amateur-above",
      "metadata": {
        "id": "amateur-above"
      },
      "source": [
        "#### Observations on job training"
      ]
    },
    {
      "cell_type": "code",
      "execution_count": 35,
      "id": "serial-irrigation",
      "metadata": {
        "id": "serial-irrigation",
        "scrolled": false,
        "colab": {
          "base_uri": "https://localhost:8080/",
          "height": 543
        },
        "outputId": "c1b2e6c2-0ad6-49a5-8d02-f073a67e94a2"
      },
      "outputs": [
        {
          "output_type": "display_data",
          "data": {
            "text/plain": [
              "<Figure size 400x600 with 1 Axes>"
            ],
            "image/png": "[encoded data removed]"
          },
          "metadata": {}
        }
      ],
      "source": [
        "labeled_barplot(data, 'requires_job_training')  ## Complete the code to create labeled_barplot for job training"
      ]
    },
    {
      "cell_type": "markdown",
      "id": "attempted-burlington",
      "metadata": {
        "id": "attempted-burlington"
      },
      "source": [
        "#### Observations on region of employment"
      ]
    },
    {
      "cell_type": "code",
      "execution_count": 37,
      "id": "suited-tuner",
      "metadata": {
        "id": "suited-tuner",
        "colab": {
          "base_uri": "https://localhost:8080/",
          "height": 631
        },
        "outputId": "255119a2-4557-425c-b957-c053efc3ebc2"
      },
      "outputs": [
        {
          "output_type": "display_data",
          "data": {
            "text/plain": [
              "<Figure size 700x600 with 1 Axes>"
            ],
            "image/png": "[encoded data removed]"
          },
          "metadata": {}
        }
      ],
      "source": [
        "labeled_barplot(data, 'region_of_employment')  ## Complete the code to create labeled_barplot for region of employment"
      ]
    },
    {
      "cell_type": "markdown",
      "id": "aging-curve",
      "metadata": {
        "id": "aging-curve"
      },
      "source": [
        "#### Observations on unit of wage"
      ]
    },
    {
      "cell_type": "code",
      "execution_count": 38,
      "id": "modified-breed",
      "metadata": {
        "id": "modified-breed",
        "colab": {
          "base_uri": "https://localhost:8080/",
          "height": 593
        },
        "outputId": "0782245b-bfe7-4a78-b363-61ae99ef7a4a"
      },
      "outputs": [
        {
          "output_type": "display_data",
          "data": {
            "text/plain": [
              "<Figure size 600x600 with 1 Axes>"
            ],
            "image/png": "[encoded data removed]"
          },
          "metadata": {}
        }
      ],
      "source": [
        "labeled_barplot(data, 'unit_of_wage')  ## Complete the code to create labeled_barplot for unit of wage"
      ]
    },
    {
      "cell_type": "markdown",
      "id": "stunning-surrey",
      "metadata": {
        "id": "stunning-surrey"
      },
      "source": [
        "#### Observations on case status"
      ]
    },
    {
      "cell_type": "code",
      "execution_count": 39,
      "id": "potential-stroke",
      "metadata": {
        "id": "potential-stroke",
        "colab": {
          "base_uri": "https://localhost:8080/",
          "height": 617
        },
        "outputId": "613315a3-2405-4bab-ba9f-af7e7a44f898"
      },
      "outputs": [
        {
          "output_type": "display_data",
          "data": {
            "text/plain": [
              "<Figure size 400x600 with 1 Axes>"
            ],
            "image/png": "[encoded data removed]"
          },
          "metadata": {}
        }
      ],
      "source": [
        "labeled_barplot(data, 'case_status')  ## Complete the code to create labeled_barplot for case status"
      ]
    },
    {
      "cell_type": "markdown",
      "id": "equivalent-aging",
      "metadata": {
        "id": "equivalent-aging"
      },
      "source": [
        "### Bivariate Analysis"
      ]
    },
    {
      "cell_type": "code",
      "execution_count": null,
      "id": "social-wagner",
      "metadata": {
        "id": "social-wagner"
      },
      "outputs": [],
      "source": [
        "cols_list = data.select_dtypes(include=np.number).columns.tolist()\n",
        "\n",
        "plt.figure(figsize=(10, 5))\n",
        "sns.heatmap(\n",
        "    data[cols_list].'_______', annot=True, vmin=-1, vmax=1, fmt=\".2f\", cmap=\"Spectral\"\n",
        ") ## Complete the code to find the correlation between the variables\n",
        "plt.show()"
      ]
    },
    {
      "cell_type": "markdown",
      "id": "blond-convertible",
      "metadata": {
        "id": "blond-convertible"
      },
      "source": [
        "**Creating functions that will help us with further analysis.**"
      ]
    },
    {
      "cell_type": "code",
      "execution_count": null,
      "id": "adaptive-recipient",
      "metadata": {
        "id": "adaptive-recipient"
      },
      "outputs": [],
      "source": [
        "### function to plot distributions wrt target\n",
        "\n",
        "\n",
        "def distribution_plot_wrt_target(data, predictor, target):\n",
        "\n",
        "    fig, axs = plt.subplots(2, 2, figsize=(12, 10))\n",
        "\n",
        "    target_uniq = data[target].unique()\n",
        "\n",
        "    axs[0, 0].set_title(\"Distribution of target for target=\" + str(target_uniq[0]))\n",
        "    sns.histplot(\n",
        "        data=data[data[target] == target_uniq[0]],\n",
        "        x=predictor,\n",
        "        kde=True,\n",
        "        ax=axs[0, 0],\n",
        "        color=\"teal\",\n",
        "        stat=\"density\",\n",
        "    )\n",
        "\n",
        "    axs[0, 1].set_title(\"Distribution of target for target=\" + str(target_uniq[1]))\n",
        "    sns.histplot(\n",
        "        data=data[data[target] == target_uniq[1]],\n",
        "        x=predictor,\n",
        "        kde=True,\n",
        "        ax=axs[0, 1],\n",
        "        color=\"orange\",\n",
        "        stat=\"density\",\n",
        "    )\n",
        "\n",
        "    axs[1, 0].set_title(\"Boxplot w.r.t target\")\n",
        "    sns.boxplot(data=data, x=target, y=predictor, ax=axs[1, 0], palette=\"gist_rainbow\")\n",
        "\n",
        "    axs[1, 1].set_title(\"Boxplot (without outliers) w.r.t target\")\n",
        "    sns.boxplot(\n",
        "        data=data,\n",
        "        x=target,\n",
        "        y=predictor,\n",
        "        ax=axs[1, 1],\n",
        "        showfliers=False,\n",
        "        palette=\"gist_rainbow\",\n",
        "    )\n",
        "\n",
        "    plt.tight_layout()\n",
        "    plt.show()"
      ]
    },
    {
      "cell_type": "code",
      "execution_count": null,
      "id": "third-sheriff",
      "metadata": {
        "id": "third-sheriff"
      },
      "outputs": [],
      "source": [
        "def stacked_barplot(data, predictor, target):\n",
        "    \"\"\"\n",
        "    Print the category counts and plot a stacked bar chart\n",
        "\n",
        "    data: dataframe\n",
        "    predictor: independent variable\n",
        "    target: target variable\n",
        "    \"\"\"\n",
        "    count = data[predictor].nunique()\n",
        "    sorter = data[target].value_counts().index[-1]\n",
        "    tab1 = pd.crosstab(data[predictor], data[target], margins=True).sort_values(\n",
        "        by=sorter, ascending=False\n",
        "    )\n",
        "    print(tab1)\n",
        "    print(\"-\" * 120)\n",
        "    tab = pd.crosstab(data[predictor], data[target], normalize=\"index\").sort_values(\n",
        "        by=sorter, ascending=False\n",
        "    )\n",
        "    tab.plot(kind=\"bar\", stacked=True, figsize=(count + 5, 5))\n",
        "    plt.legend(\n",
        "        loc=\"lower left\", frameon=False,\n",
        "    )\n",
        "    plt.legend(loc=\"upper left\", bbox_to_anchor=(1, 1))\n",
        "    plt.show()"
      ]
    },
    {
      "cell_type": "markdown",
      "id": "dressed-excuse",
      "metadata": {
        "id": "dressed-excuse"
      },
      "source": [
        "#### Those with higher education may want to travel abroad for a well-paid job. Let's find out if education has any impact on visa certification"
      ]
    },
    {
      "cell_type": "code",
      "execution_count": null,
      "id": "special-florist",
      "metadata": {
        "id": "special-florist"
      },
      "outputs": [],
      "source": [
        "stacked_barplot(data, \"education_of_employee\", \"case_status\")"
      ]
    },
    {
      "cell_type": "markdown",
      "id": "wound-communication",
      "metadata": {
        "id": "wound-communication"
      },
      "source": [
        "#### Different regions have different requirements of talent having diverse educational backgrounds. Let's analyze it further"
      ]
    },
    {
      "cell_type": "code",
      "execution_count": null,
      "id": "tamil-intelligence",
      "metadata": {
        "id": "tamil-intelligence"
      },
      "outputs": [],
      "source": [
        "plt.figure(figsize=(10, 5))\n",
        "sns.heatmap(pd.crosstab('_____________________'),\n",
        "    annot=True,\n",
        "    fmt=\"g\",\n",
        "    cmap=\"viridis\"\n",
        ") ## Complete the code to plot heatmap for the crosstab between education and region of employment\n",
        "\n",
        "plt.ylabel(\"Education\")\n",
        "plt.xlabel(\"Region\")\n",
        "plt.show()"
      ]
    },
    {
      "cell_type": "markdown",
      "id": "theoretical-flexibility",
      "metadata": {
        "id": "theoretical-flexibility"
      },
      "source": [
        "#### Let's have a look at the percentage of visa certifications across each region"
      ]
    },
    {
      "cell_type": "code",
      "execution_count": null,
      "id": "hybrid-zealand",
      "metadata": {
        "id": "hybrid-zealand"
      },
      "outputs": [],
      "source": [
        "stacked_barplot('_______') ## Complete the code to plot stacked barplot for region of employment and case status"
      ]
    },
    {
      "cell_type": "markdown",
      "id": "attended-current",
      "metadata": {
        "id": "attended-current"
      },
      "source": [
        "#### Lets' similarly check for the continents and find out how the visa status vary across different continents."
      ]
    },
    {
      "cell_type": "code",
      "execution_count": null,
      "id": "alive-bloom",
      "metadata": {
        "id": "alive-bloom"
      },
      "outputs": [],
      "source": [
        "stacked_barplot('_______') ## Complete the code to plot stacked barplot for continent and case status"
      ]
    },
    {
      "cell_type": "markdown",
      "id": "macro-decrease",
      "metadata": {
        "id": "macro-decrease"
      },
      "source": [
        "#### Experienced professionals might look abroad for opportunities to improve their lifestyles and career development. Let's see if having work experience has any influence over visa certification"
      ]
    },
    {
      "cell_type": "code",
      "execution_count": null,
      "id": "divine-dimension",
      "metadata": {
        "id": "divine-dimension"
      },
      "outputs": [],
      "source": [
        "stacked_barplot('_______') ## Complete the code to plot stacked barplot for job experience and case status"
      ]
    },
    {
      "cell_type": "markdown",
      "id": "binding-charger",
      "metadata": {
        "id": "binding-charger"
      },
      "source": [
        "#### Do the employees who have prior work experience require any job training?"
      ]
    },
    {
      "cell_type": "code",
      "execution_count": null,
      "id": "temporal-dairy",
      "metadata": {
        "id": "temporal-dairy"
      },
      "outputs": [],
      "source": [
        "stacked_barplot('_______') ## Complete the code to plot stacked barplot for job experience and requires_job_training"
      ]
    },
    {
      "cell_type": "markdown",
      "id": "lesser-bacteria",
      "metadata": {
        "id": "lesser-bacteria"
      },
      "source": [
        "#### The US government has established a prevailing wage to protect local talent and foreign workers. Let's analyze the data and see if the visa status changes with the prevailing wage"
      ]
    },
    {
      "cell_type": "code",
      "execution_count": null,
      "id": "perfect-haiti",
      "metadata": {
        "id": "perfect-haiti"
      },
      "outputs": [],
      "source": [
        "distribution_plot_wrt_target('_______') ## Complete the code to find distribution of prevailing wage and case status"
      ]
    },
    {
      "cell_type": "markdown",
      "id": "changing-kansas",
      "metadata": {
        "id": "changing-kansas"
      },
      "source": [
        "#### Checking if the prevailing wage is similar across all the regions of the US"
      ]
    },
    {
      "cell_type": "code",
      "execution_count": null,
      "id": "dangerous-pride",
      "metadata": {
        "id": "dangerous-pride"
      },
      "outputs": [],
      "source": [
        "plt.figure(figsize=(10, 5))\n",
        "sns.'_______' ## Complete the code to create boxplot for region of employment and prevailing wage\n",
        "plt.show()"
      ]
    },
    {
      "cell_type": "markdown",
      "id": "suspected-asthma",
      "metadata": {
        "id": "suspected-asthma"
      },
      "source": [
        "#### The prevailing wage has different units (Hourly, Weekly, etc). Let's find out if it has any impact on visa applications getting certified."
      ]
    },
    {
      "cell_type": "code",
      "execution_count": null,
      "id": "impossible-aquatic",
      "metadata": {
        "id": "impossible-aquatic"
      },
      "outputs": [],
      "source": [
        "stacked_barplot('_______') ## Complete the code to plot stacked barplot for unit of wage and case status"
      ]
    },
    {
      "cell_type": "markdown",
      "id": "icaAgO2siAcs",
      "metadata": {
        "id": "icaAgO2siAcs"
      },
      "source": [
        "## Data Preprocessing"
      ]
    },
    {
      "cell_type": "markdown",
      "id": "allied-association",
      "metadata": {
        "id": "allied-association"
      },
      "source": [
        "### Outlier Check\n",
        "\n",
        "- Let's check for outliers in the data."
      ]
    },
    {
      "cell_type": "code",
      "execution_count": null,
      "id": "certified-complaint",
      "metadata": {
        "id": "certified-complaint"
      },
      "outputs": [],
      "source": [
        "# outlier detection using boxplot\n",
        "numeric_columns = data.select_dtypes(include=np.number).columns.tolist()\n",
        "\n",
        "\n",
        "plt.figure(figsize=(15, 12))\n",
        "\n",
        "for i, variable in enumerate(numeric_columns):\n",
        "    '_______' ## Complete the code to create boxplots for all the numeric columns\n",
        "plt.show()"
      ]
    },
    {
      "cell_type": "markdown",
      "id": "flexible-independence",
      "metadata": {
        "id": "flexible-independence"
      },
      "source": [
        "### Data Preparation for modeling\n",
        "\n",
        "- We want to predict which visa will be certified.\n",
        "- Before we proceed to build a model, we'll have to encode categorical features.\n",
        "- We'll split the data into train and test to be able to evaluate the model that we build on the train data."
      ]
    },
    {
      "cell_type": "code",
      "execution_count": null,
      "id": "genuine-evening",
      "metadata": {
        "id": "genuine-evening"
      },
      "outputs": [],
      "source": [
        "data[\"case_status\"] = data[\"case_status\"].apply(lambda x: 1 if x == \"Certified\" else 0)\n",
        "\n",
        "X = data.'_______' ## Complete the code to drop case status from the data\n",
        "Y = data[\"case_status\"]\n",
        "\n",
        "\n",
        "X = pd.'_______'  ## Complete the code to create dummies for X\n",
        "\n",
        "# Splitting data in train and test sets\n",
        "X_train, X_test, y_train, y_test = train_test_split('_______', random_state=1, stratify=Y) ## Complete the code to split the data into train and test in the ratio 70:30"
      ]
    },
    {
      "cell_type": "code",
      "execution_count": null,
      "id": "empty-typing",
      "metadata": {
        "id": "empty-typing"
      },
      "outputs": [],
      "source": [
        "print(\"Shape of Training set : \", X_train.shape)\n",
        "print(\"Shape of test set : \", X_test.shape)\n",
        "print(\"Percentage of classes in training set:\")\n",
        "print(y_train.value_counts(normalize=True))\n",
        "print(\"Percentage of classes in test set:\")\n",
        "print(y_test.value_counts(normalize=True))"
      ]
    },
    {
      "cell_type": "markdown",
      "id": "teKIRZIDdzpK",
      "metadata": {
        "id": "teKIRZIDdzpK"
      },
      "source": [
        "## Model evaluation criterion"
      ]
    },
    {
      "cell_type": "markdown",
      "id": "71450807",
      "metadata": {
        "id": "71450807"
      },
      "source": [
        "### Model can make wrong predictions as:\n",
        "\n",
        "1. Model predicts that the visa application will get certified but in reality, the visa application should get denied.\n",
        "2. Model predicts that the visa application will not get certified but in reality, the visa application should get certified.\n",
        "\n",
        "### Which case is more important?\n",
        "* Both the cases are important as:\n",
        "\n",
        "* If a visa is certified when it had to be denied a wrong employee will get the job position while US citizens will miss the opportunity to work on that position.\n",
        "\n",
        "* If a visa is denied when it had to be certified the U.S. will lose a suitable human resource that can contribute to the economy.\n",
        "\n",
        "\n",
        "\n",
        "### How to reduce the losses?\n",
        "\n",
        "* `F1 Score` can be used a the metric for evaluation of the model, greater the F1  score higher are the chances of minimizing False Negatives and False Positives.\n",
        "* We will use balanced class weights so that model focuses equally on both classes."
      ]
    },
    {
      "cell_type": "markdown",
      "id": "capital-charlotte",
      "metadata": {
        "id": "capital-charlotte"
      },
      "source": [
        "**First, let's create functions to calculate different metrics and confusion matrix so that we don't have to use the same code repeatedly for each model.**\n",
        "* The model_performance_classification_sklearn function will be used to check the model performance of models.\n",
        "* The confusion_matrix_sklearn function will be used to plot the confusion matrix."
      ]
    },
    {
      "cell_type": "code",
      "execution_count": null,
      "id": "mexican-database",
      "metadata": {
        "id": "mexican-database"
      },
      "outputs": [],
      "source": [
        "# defining a function to compute different metrics to check performance of a classification model built using sklearn\n",
        "\n",
        "\n",
        "def model_performance_classification_sklearn(model, predictors, target):\n",
        "    \"\"\"\n",
        "    Function to compute different metrics to check classification model performance\n",
        "\n",
        "    model: classifier\n",
        "    predictors: independent variables\n",
        "    target: dependent variable\n",
        "    \"\"\"\n",
        "\n",
        "    # predicting using the independent variables\n",
        "    pred = model.predict(predictors)\n",
        "\n",
        "    acc = accuracy_score(target, pred)  # to compute Accuracy\n",
        "    recall = recall_score(target, pred)  # to compute Recall\n",
        "    precision = precision_score(target, pred)  # to compute Precision\n",
        "    f1 = f1_score(target, pred)  # to compute F1-score\n",
        "\n",
        "    # creating a dataframe of metrics\n",
        "    df_perf = pd.DataFrame(\n",
        "        {\"Accuracy\": acc, \"Recall\": recall, \"Precision\": precision, \"F1\": f1,},\n",
        "        index=[0],\n",
        "    )\n",
        "\n",
        "    return df_perf"
      ]
    },
    {
      "cell_type": "code",
      "execution_count": null,
      "id": "recreational-topic",
      "metadata": {
        "id": "recreational-topic"
      },
      "outputs": [],
      "source": [
        "def confusion_matrix_sklearn(model, predictors, target):\n",
        "    \"\"\"\n",
        "    To plot the confusion_matrix with percentages\n",
        "\n",
        "    model: classifier\n",
        "    predictors: independent variables\n",
        "    target: dependent variable\n",
        "    \"\"\"\n",
        "    y_pred = model.predict(predictors)\n",
        "    cm = confusion_matrix(target, y_pred)\n",
        "    labels = np.asarray(\n",
        "        [\n",
        "            [\"{0:0.0f}\".format(item) + \"\\n{0:.2%}\".format(item / cm.flatten().sum())]\n",
        "            for item in cm.flatten()\n",
        "        ]\n",
        "    ).reshape(2, 2)\n",
        "\n",
        "    plt.figure(figsize=(6, 4))\n",
        "    sns.heatmap(cm, annot=labels, fmt=\"\")\n",
        "    plt.ylabel(\"True label\")\n",
        "    plt.xlabel(\"Predicted label\")"
      ]
    },
    {
      "cell_type": "markdown",
      "id": "ICezcLI4iL0a",
      "metadata": {
        "id": "ICezcLI4iL0a"
      },
      "source": [
        "## Decision Tree - Model Building and Hyperparameter Tuning"
      ]
    },
    {
      "cell_type": "markdown",
      "id": "blank-ballet",
      "metadata": {
        "id": "blank-ballet"
      },
      "source": [
        "### Decision Tree Model"
      ]
    },
    {
      "cell_type": "code",
      "execution_count": null,
      "id": "hourly-hormone",
      "metadata": {
        "id": "hourly-hormone"
      },
      "outputs": [],
      "source": [
        "model = '_______' ## Complete the code to define decision tree classifier with random state = 1\n",
        "model.'_______' ## Complete the code to fit decision tree classifier on the train data"
      ]
    },
    {
      "cell_type": "markdown",
      "id": "increasing-diversity",
      "metadata": {
        "id": "increasing-diversity"
      },
      "source": [
        "#### Checking model performance on training set"
      ]
    },
    {
      "cell_type": "code",
      "execution_count": null,
      "id": "irish-noise",
      "metadata": {
        "id": "irish-noise"
      },
      "outputs": [],
      "source": [
        "confusion_matrix_sklearn('_______') ## Complete the code to create confusion matrix for train data"
      ]
    },
    {
      "cell_type": "code",
      "execution_count": null,
      "id": "multiple-union",
      "metadata": {
        "id": "multiple-union"
      },
      "outputs": [],
      "source": [
        "decision_tree_perf_train = model_performance_classification_sklearn('_______') ## Complete the code to check performance on train data\n",
        "decision_tree_perf_train"
      ]
    },
    {
      "cell_type": "markdown",
      "id": "material-reduction",
      "metadata": {
        "id": "material-reduction"
      },
      "source": [
        "#### Checking model performance on test set"
      ]
    },
    {
      "cell_type": "code",
      "execution_count": null,
      "id": "touched-survey",
      "metadata": {
        "id": "touched-survey"
      },
      "outputs": [],
      "source": [
        "'_______' ## Complete the code to create confusion matrix for test data"
      ]
    },
    {
      "cell_type": "code",
      "execution_count": null,
      "id": "perceived-memorial",
      "metadata": {
        "id": "perceived-memorial"
      },
      "outputs": [],
      "source": [
        "decision_tree_perf_test = model_performance_classification_sklearn('_______') ## Complete the code to check performance for test data\n",
        "decision_tree_perf_test"
      ]
    },
    {
      "cell_type": "markdown",
      "id": "d87f7d79",
      "metadata": {
        "id": "d87f7d79"
      },
      "source": [
        "#### **Note**\n",
        "\n",
        "1. Sample parameter grids have been provided to do necessary hyperparameter tuning. These sample grids are expected to provide a balance between model performance improvement and execution time. One can extend/reduce the parameter grid based on execution time and system configuration.\n",
        "  - Please note that if the parameter grid is extended to improve the model performance further, the execution time will increase\n",
        "2. The models chosen in this notebook are based on test runs. One can update the best models as obtained upon code execution and tune them for best performance."
      ]
    },
    {
      "cell_type": "markdown",
      "id": "protected-romantic",
      "metadata": {
        "id": "protected-romantic"
      },
      "source": [
        "### Hyperparameter Tuning - Decision Tree"
      ]
    },
    {
      "cell_type": "code",
      "execution_count": null,
      "id": "tested-building",
      "metadata": {
        "id": "tested-building"
      },
      "outputs": [],
      "source": [
        "# Choose the type of classifier.\n",
        "dtree_estimator = DecisionTreeClassifier(class_weight=\"balanced\", random_state=1)\n",
        "\n",
        "# Grid of parameters to choose from\n",
        "parameters = {\n",
        "    \"max_depth\": np.arange(10, 20, 5),\n",
        "    \"min_samples_leaf\": [3, 5],\n",
        "    \"max_leaf_nodes\": [2, 3, 5],\n",
        "    \"min_impurity_decrease\": [0.0001, 0.001],\n",
        "}\n",
        "\n",
        "# Type of scoring used to compare parameter combinations\n",
        "scorer = metrics.make_scorer(metrics.f1_score)\n",
        "\n",
        "# Run the grid search\n",
        "grid_obj = '_______' ## Complete the code to run grid search with n_jobs = -1\n",
        "\n",
        "grid_obj = grid_obj.'_______' ## Complete the code to fit the grid_obj on the train data\n",
        "\n",
        "# Set the clf to the best combination of parameters\n",
        "dtree_estimator = grid_obj.best_estimator_\n",
        "\n",
        "# Fit the best algorithm to the data.\n",
        "dtree_estimator.fit(X_train, y_train)"
      ]
    },
    {
      "cell_type": "code",
      "execution_count": null,
      "id": "affected-thailand",
      "metadata": {
        "id": "affected-thailand"
      },
      "outputs": [],
      "source": [
        "'_______' ## Complete the code to create confusion matrix for train data on tuned estimator"
      ]
    },
    {
      "cell_type": "code",
      "execution_count": null,
      "id": "enormous-hunger",
      "metadata": {
        "id": "enormous-hunger"
      },
      "outputs": [],
      "source": [
        "dtree_estimator_model_train_perf = model_performance_classification_sklearn('_______') ## Complete the code to check performance for train data on tuned estimator\n",
        "dtree_estimator_model_train_perf"
      ]
    },
    {
      "cell_type": "code",
      "execution_count": null,
      "id": "stone-maker",
      "metadata": {
        "id": "stone-maker"
      },
      "outputs": [],
      "source": [
        "'_______' ## Complete the code to create confusion matrix for test data on tuned estimator"
      ]
    },
    {
      "cell_type": "code",
      "execution_count": null,
      "id": "together-pittsburgh",
      "metadata": {
        "id": "together-pittsburgh"
      },
      "outputs": [],
      "source": [
        "dtree_estimator_model_test_perf = model_performance_classification_sklearn('_______') ## Complete the code to check performance for test data on tuned estimator\n",
        "dtree_estimator_model_test_perf"
      ]
    },
    {
      "cell_type": "markdown",
      "id": "FnQnoNOCiSwl",
      "metadata": {
        "id": "FnQnoNOCiSwl"
      },
      "source": [
        "## Bagging - Model Building and Hyperparameter Tuning"
      ]
    },
    {
      "cell_type": "markdown",
      "id": "aging-corruption",
      "metadata": {
        "id": "aging-corruption"
      },
      "source": [
        "### Bagging Classifier"
      ]
    },
    {
      "cell_type": "code",
      "execution_count": null,
      "id": "postal-angle",
      "metadata": {
        "id": "postal-angle"
      },
      "outputs": [],
      "source": [
        "bagging_classifier = '_______' ## Complete the code to define bagging classifier with random state = 1\n",
        "bagging_classifier.'_______' ## Complete the code to fit bagging classifier on the train data"
      ]
    },
    {
      "cell_type": "markdown",
      "id": "suffering-growing",
      "metadata": {
        "id": "suffering-growing"
      },
      "source": [
        "#### Checking model performance on training set"
      ]
    },
    {
      "cell_type": "code",
      "execution_count": null,
      "id": "extraordinary-festival",
      "metadata": {
        "id": "extraordinary-festival"
      },
      "outputs": [],
      "source": [
        "'_______' ## Complete the code to create confusion matrix for train data"
      ]
    },
    {
      "cell_type": "code",
      "execution_count": null,
      "id": "further-yemen",
      "metadata": {
        "id": "further-yemen"
      },
      "outputs": [],
      "source": [
        "bagging_classifier_model_train_perf = model_performance_classification_sklearn('_______') ## Complete the code to check performance on train data\n",
        "bagging_classifier_model_train_perf"
      ]
    },
    {
      "cell_type": "markdown",
      "id": "verified-obligation",
      "metadata": {
        "id": "verified-obligation"
      },
      "source": [
        "#### Checking model performance on test set"
      ]
    },
    {
      "cell_type": "code",
      "execution_count": null,
      "id": "weird-wesley",
      "metadata": {
        "id": "weird-wesley"
      },
      "outputs": [],
      "source": [
        "'_______' ## Complete the code to create confusion matrix for test data"
      ]
    },
    {
      "cell_type": "code",
      "execution_count": null,
      "id": "handy-nature",
      "metadata": {
        "id": "handy-nature"
      },
      "outputs": [],
      "source": [
        "bagging_classifier_model_test_perf = model_performance_classification_sklearn('_______') ## Complete the code to check performance for test data\n",
        "bagging_classifier_model_test_perf"
      ]
    },
    {
      "cell_type": "markdown",
      "id": "increased-civilian",
      "metadata": {
        "id": "increased-civilian"
      },
      "source": [
        "### Hyperparameter Tuning - Bagging Classifier"
      ]
    },
    {
      "cell_type": "code",
      "execution_count": null,
      "id": "coastal-jefferson",
      "metadata": {
        "id": "coastal-jefferson"
      },
      "outputs": [],
      "source": [
        "# Choose the type of classifier.\n",
        "bagging_estimator_tuned = BaggingClassifier(random_state=1)\n",
        "\n",
        "# Grid of parameters to choose from\n",
        "parameters = {\n",
        "    \"max_samples\": [0.7, 0.8],\n",
        "    \"max_features\": [0.5,0.7,1],\n",
        "    \"n_estimators\": np.arange(50,110,25),\n",
        "}\n",
        "\n",
        "# Type of scoring used to compare parameter combinations\n",
        "acc_scorer = metrics.make_scorer(metrics.f1_score)\n",
        "\n",
        "# Run the grid search\n",
        "grid_obj = '_______' ## Complete the code to run grid search with cv = 5\n",
        "grid_obj = grid_obj.'_______' ## Complete the code to fit the grid_obj on train data\n",
        "\n",
        "# Set the clf to the best combination of parameters\n",
        "bagging_estimator_tuned = grid_obj.best_estimator_\n",
        "\n",
        "# Fit the best algorithm to the data.\n",
        "bagging_estimator_tuned.fit(X_train, y_train)"
      ]
    },
    {
      "cell_type": "markdown",
      "id": "protecting-douglas",
      "metadata": {
        "id": "protecting-douglas"
      },
      "source": [
        "#### Checking model performance on training set"
      ]
    },
    {
      "cell_type": "code",
      "execution_count": null,
      "id": "nominated-overhead",
      "metadata": {
        "id": "nominated-overhead"
      },
      "outputs": [],
      "source": [
        "'_______' ## Complete the code to create confusion matrix for train data on tuned estimator"
      ]
    },
    {
      "cell_type": "code",
      "execution_count": null,
      "id": "fundamental-newport",
      "metadata": {
        "id": "fundamental-newport"
      },
      "outputs": [],
      "source": [
        "bagging_estimator_tuned_model_train_perf = model_performance_classification_sklearn('_______') ## Complete the code to check performance for train data on tuned estimator\n",
        "bagging_estimator_tuned_model_train_perf"
      ]
    },
    {
      "cell_type": "markdown",
      "id": "elegant-bookmark",
      "metadata": {
        "id": "elegant-bookmark"
      },
      "source": [
        "#### Checking model performance on test set"
      ]
    },
    {
      "cell_type": "code",
      "execution_count": null,
      "id": "later-setup",
      "metadata": {
        "id": "later-setup"
      },
      "outputs": [],
      "source": [
        "'_______' ## Complete the code to create confusion matrix for test data on tuned estimator"
      ]
    },
    {
      "cell_type": "code",
      "execution_count": null,
      "id": "discrete-immigration",
      "metadata": {
        "id": "discrete-immigration"
      },
      "outputs": [],
      "source": [
        "bagging_estimator_tuned_model_test_perf = model_performance_classification_sklearn('_______') ## Complete the code to check performance for test data on tuned estimator\n",
        "bagging_estimator_tuned_model_test_perf"
      ]
    },
    {
      "cell_type": "markdown",
      "id": "colonial-society",
      "metadata": {
        "id": "colonial-society"
      },
      "source": [
        "### Random Forest"
      ]
    },
    {
      "cell_type": "code",
      "execution_count": null,
      "id": "outer-array",
      "metadata": {
        "id": "outer-array"
      },
      "outputs": [],
      "source": [
        "# Fitting the model\n",
        "rf_estimator = '_______' ## Complete the code to define random forest with random state = 1 and class_weight = balanced\n",
        "rf_estimator.'_______' ## Complete the code to fit random forest on the train data"
      ]
    },
    {
      "cell_type": "markdown",
      "id": "possible-vinyl",
      "metadata": {
        "id": "possible-vinyl"
      },
      "source": [
        "#### Checking model performance on training set"
      ]
    },
    {
      "cell_type": "code",
      "execution_count": null,
      "id": "nervous-ordering",
      "metadata": {
        "id": "nervous-ordering"
      },
      "outputs": [],
      "source": [
        "'_______' ## Complete the code to create confusion matrix for train data"
      ]
    },
    {
      "cell_type": "code",
      "execution_count": null,
      "id": "functioning-nigeria",
      "metadata": {
        "id": "functioning-nigeria"
      },
      "outputs": [],
      "source": [
        "# Calculating different metrics\n",
        "rf_estimator_model_train_perf = model_performance_classification_sklearn('_______') ## Complete the code to check performance on train data\n",
        "rf_estimator_model_train_perf"
      ]
    },
    {
      "cell_type": "markdown",
      "id": "theoretical-poverty",
      "metadata": {
        "id": "theoretical-poverty"
      },
      "source": [
        "#### Checking model performance on test set"
      ]
    },
    {
      "cell_type": "code",
      "execution_count": null,
      "id": "meaning-crash",
      "metadata": {
        "id": "meaning-crash"
      },
      "outputs": [],
      "source": [
        "'_______' ## Complete the code to create confusion matrix for test data"
      ]
    },
    {
      "cell_type": "code",
      "execution_count": null,
      "id": "pending-light",
      "metadata": {
        "id": "pending-light"
      },
      "outputs": [],
      "source": [
        "rf_estimator_model_test_perf = model_performance_classification_sklearn('_______') ## Complete the code to check performance for test data\n",
        "rf_estimator_model_test_perf"
      ]
    },
    {
      "cell_type": "markdown",
      "id": "beneficial-bosnia",
      "metadata": {
        "id": "beneficial-bosnia"
      },
      "source": [
        "### Hyperparameter Tuning - Random Forest"
      ]
    },
    {
      "cell_type": "code",
      "execution_count": null,
      "id": "interstate-jonathan",
      "metadata": {
        "id": "interstate-jonathan"
      },
      "outputs": [],
      "source": [
        "# Choose the type of classifier.\n",
        "rf_tuned = RandomForestClassifier(random_state=1, oob_score=True, bootstrap=True)\n",
        "\n",
        "parameters = {\n",
        "    \"max_depth\": list(np.arange(5, 15, 5)),\n",
        "    \"max_features\": [\"sqrt\", \"log2\"],\n",
        "    \"min_samples_split\": [3, 5, 7],\n",
        "    \"n_estimators\": np.arange(10, 40, 10),\n",
        "}\n",
        "\n",
        "# Type of scoring used to compare parameter combinations\n",
        "acc_scorer = metrics.make_scorer(metrics.f1_score)\n",
        "\n",
        "# Run the grid search\n",
        "grid_obj = '_______' ## Complete the code to run grid search with cv = 5 and n_jobs = -1\n",
        "grid_obj = grid_obj.'_______' ## Complete the code to fit the grid_obj on the train data\n",
        "\n",
        "# Set the clf to the best combination of parameters\n",
        "rf_tuned = grid_obj.best_estimator_\n",
        "\n",
        "# Fit the best algorithm to the data.\n",
        "rf_tuned.fit(X_train, y_train)"
      ]
    },
    {
      "cell_type": "markdown",
      "id": "joint-appendix",
      "metadata": {
        "id": "joint-appendix"
      },
      "source": [
        "#### Checking model performance on training set"
      ]
    },
    {
      "cell_type": "code",
      "execution_count": null,
      "id": "broadband-issue",
      "metadata": {
        "id": "broadband-issue"
      },
      "outputs": [],
      "source": [
        "'_______' ## Complete the code to create confusion matrix for train data on tuned estimator"
      ]
    },
    {
      "cell_type": "code",
      "execution_count": null,
      "id": "minus-publication",
      "metadata": {
        "id": "minus-publication"
      },
      "outputs": [],
      "source": [
        "rf_tuned_model_train_perf = model_performance_classification_sklearn('_______') ## Complete the code to check performance for train data on tuned estimator\n",
        "rf_tuned_model_train_perf"
      ]
    },
    {
      "cell_type": "markdown",
      "id": "joined-newman",
      "metadata": {
        "id": "joined-newman"
      },
      "source": [
        "#### Checking model performance on test set"
      ]
    },
    {
      "cell_type": "code",
      "execution_count": null,
      "id": "higher-memphis",
      "metadata": {
        "id": "higher-memphis"
      },
      "outputs": [],
      "source": [
        "'_______' ## Complete the code to create confusion matrix for test data on tuned estimator"
      ]
    },
    {
      "cell_type": "code",
      "execution_count": null,
      "id": "processed-capital",
      "metadata": {
        "id": "processed-capital"
      },
      "outputs": [],
      "source": [
        "rf_tuned_model_test_perf = model_performance_classification_sklearn('_______') ## Complete the code to check performance for test data on tuned estimator\n",
        "rf_tuned_model_test_perf"
      ]
    },
    {
      "cell_type": "markdown",
      "id": "p33jg7JVid1H",
      "metadata": {
        "id": "p33jg7JVid1H"
      },
      "source": [
        "## Boosting - Model Building and Hyperparameter Tuning"
      ]
    },
    {
      "cell_type": "markdown",
      "id": "divine-legend",
      "metadata": {
        "id": "divine-legend"
      },
      "source": [
        "### AdaBoost Classifier"
      ]
    },
    {
      "cell_type": "code",
      "execution_count": null,
      "id": "written-chicken",
      "metadata": {
        "id": "written-chicken"
      },
      "outputs": [],
      "source": [
        "ab_classifier = '_______' ## Complete the code to define AdaBoost Classifier with random state = 1\n",
        "ab_classifier.'_______' ## Complete the code to fit AdaBoost Classifier on the train data"
      ]
    },
    {
      "cell_type": "markdown",
      "id": "grand-popularity",
      "metadata": {
        "id": "grand-popularity"
      },
      "source": [
        "#### Checking model performance on training set"
      ]
    },
    {
      "cell_type": "code",
      "execution_count": null,
      "id": "fatty-primary",
      "metadata": {
        "id": "fatty-primary"
      },
      "outputs": [],
      "source": [
        "'_______' ## Complete the code to create confusion matrix for train data"
      ]
    },
    {
      "cell_type": "code",
      "execution_count": null,
      "id": "forty-blame",
      "metadata": {
        "id": "forty-blame"
      },
      "outputs": [],
      "source": [
        "ab_classifier_model_train_perf = model_performance_classification_sklearn('_______') ## Complete the code to check performance on train data\n",
        "ab_classifier_model_train_perf"
      ]
    },
    {
      "cell_type": "markdown",
      "id": "french-breed",
      "metadata": {
        "id": "french-breed"
      },
      "source": [
        "#### Checking model performance on test set"
      ]
    },
    {
      "cell_type": "code",
      "execution_count": null,
      "id": "enormous-musical",
      "metadata": {
        "id": "enormous-musical"
      },
      "outputs": [],
      "source": [
        "'_______' ## Complete the code to create confusion matrix for test data"
      ]
    },
    {
      "cell_type": "code",
      "execution_count": null,
      "id": "detailed-promise",
      "metadata": {
        "id": "detailed-promise"
      },
      "outputs": [],
      "source": [
        "ab_classifier_model_test_perf = model_performance_classification_sklearn('_______') ## Complete the code to check performance for test data\n",
        "ab_classifier_model_test_perf"
      ]
    },
    {
      "cell_type": "markdown",
      "id": "increased-sharing",
      "metadata": {
        "id": "increased-sharing"
      },
      "source": [
        "### Hyperparameter Tuning - AdaBoost Classifier"
      ]
    },
    {
      "cell_type": "code",
      "execution_count": null,
      "id": "overall-grounds",
      "metadata": {
        "id": "overall-grounds"
      },
      "outputs": [],
      "source": [
        "# Choose the type of classifier.\n",
        "abc_tuned = AdaBoostClassifier(random_state=1)\n",
        "\n",
        "# Grid of parameters to choose from\n",
        "parameters = {\n",
        "    # Let's try different max_depth for base_estimator\n",
        "    \"base_estimator\": [\n",
        "        DecisionTreeClassifier(max_depth=2,random_state=1),\n",
        "        DecisionTreeClassifier(max_depth=3,random_state=1),\n",
        "    ],\n",
        "    \"n_estimators\": np.arange(50,110,25),\n",
        "    \"learning_rate\": np.arange(0.01,0.1,0.05),\n",
        "}\n",
        "\n",
        "# Type of scoring used to compare parameter  combinations\n",
        "acc_scorer = metrics.make_scorer(metrics.f1_score)\n",
        "\n",
        "# Run the grid search\n",
        "grid_obj = '_______' ## Complete the code to run grid search with cv = 5\n",
        "grid_obj = grid_obj.'_______' ## Complete the code to fit the grid_obj on train data\n",
        "\n",
        "# Set the clf to the best combination of parameters\n",
        "abc_tuned = grid_obj.best_estimator_\n",
        "\n",
        "# Fit the best algorithm to the data.\n",
        "abc_tuned.fit(X_train, y_train)"
      ]
    },
    {
      "cell_type": "markdown",
      "id": "adolescent-carroll",
      "metadata": {
        "id": "adolescent-carroll"
      },
      "source": [
        "#### Checking model performance on training set"
      ]
    },
    {
      "cell_type": "code",
      "execution_count": null,
      "id": "excessive-drilling",
      "metadata": {
        "id": "excessive-drilling"
      },
      "outputs": [],
      "source": [
        "'_______' ## Complete the code to create confusion matrix for train data on tuned estimator"
      ]
    },
    {
      "cell_type": "code",
      "execution_count": null,
      "id": "broadband-dealer",
      "metadata": {
        "id": "broadband-dealer"
      },
      "outputs": [],
      "source": [
        "abc_tuned_model_train_perf = model_performance_classification_sklearn('_______') ## Complete the code to check performance for train data on tuned estimator\n",
        "abc_tuned_model_train_perf"
      ]
    },
    {
      "cell_type": "markdown",
      "id": "fitting-cameroon",
      "metadata": {
        "id": "fitting-cameroon"
      },
      "source": [
        "#### Checking model performance on test set"
      ]
    },
    {
      "cell_type": "code",
      "execution_count": null,
      "id": "central-forest",
      "metadata": {
        "id": "central-forest"
      },
      "outputs": [],
      "source": [
        "'_______' ## Complete the code to create confusion matrix for test data on tuned estimator"
      ]
    },
    {
      "cell_type": "code",
      "execution_count": null,
      "id": "acting-edmonton",
      "metadata": {
        "id": "acting-edmonton"
      },
      "outputs": [],
      "source": [
        "abc_tuned_model_test_perf = model_performance_classification_sklearn('_______') ## Complete the code to check performance for test data on tuned estimator\n",
        "abc_tuned_model_test_perf"
      ]
    },
    {
      "cell_type": "markdown",
      "id": "married-terminal",
      "metadata": {
        "id": "married-terminal"
      },
      "source": [
        "### Gradient Boosting Classifier"
      ]
    },
    {
      "cell_type": "code",
      "execution_count": null,
      "id": "indian-pierre",
      "metadata": {
        "id": "indian-pierre"
      },
      "outputs": [],
      "source": [
        "gb_classifier = '_______' ## Complete the code to define Gradient Boosting Classifier with random state = 1\n",
        "gb_classifier.'_______' ## Complete the code to fit Gradient Boosting Classifier on the train data"
      ]
    },
    {
      "cell_type": "markdown",
      "id": "fiscal-language",
      "metadata": {
        "id": "fiscal-language"
      },
      "source": [
        "#### Checking model performance on training set"
      ]
    },
    {
      "cell_type": "code",
      "execution_count": null,
      "id": "soviet-orange",
      "metadata": {
        "id": "soviet-orange"
      },
      "outputs": [],
      "source": [
        "'_______' ## Complete the code to create confusion matrix for train data"
      ]
    },
    {
      "cell_type": "code",
      "execution_count": null,
      "id": "respected-belief",
      "metadata": {
        "id": "respected-belief"
      },
      "outputs": [],
      "source": [
        "gb_classifier_model_train_perf = model_performance_classification_sklearn('_______') ## Complete the code to check performance on train data\n",
        "gb_classifier_model_train_perf"
      ]
    },
    {
      "cell_type": "markdown",
      "id": "tribal-rainbow",
      "metadata": {
        "id": "tribal-rainbow"
      },
      "source": [
        "#### Checking model performance on test set"
      ]
    },
    {
      "cell_type": "code",
      "execution_count": null,
      "id": "uniform-procedure",
      "metadata": {
        "id": "uniform-procedure"
      },
      "outputs": [],
      "source": [
        "'_______' ## Complete the code to create confusion matrix for test data"
      ]
    },
    {
      "cell_type": "code",
      "execution_count": null,
      "id": "blind-apparel",
      "metadata": {
        "id": "blind-apparel"
      },
      "outputs": [],
      "source": [
        "gb_classifier_model_test_perf = model_performance_classification_sklearn('_______') ## Complete the code to check performance for test data\n",
        "gb_classifier_model_test_perf"
      ]
    },
    {
      "cell_type": "markdown",
      "id": "fuzzy-enemy",
      "metadata": {
        "id": "fuzzy-enemy"
      },
      "source": [
        "### Hyperparameter Tuning - Gradient Boosting Classifier"
      ]
    },
    {
      "cell_type": "code",
      "execution_count": null,
      "id": "based-bishop",
      "metadata": {
        "id": "based-bishop"
      },
      "outputs": [],
      "source": [
        "# Choose the type of classifier.\n",
        "gbc_tuned = GradientBoostingClassifier(\n",
        "    init=AdaBoostClassifier(random_state=1), random_state=1\n",
        ")\n",
        "\n",
        "# Grid of parameters to choose from\n",
        "parameters = {\n",
        "    \"n_estimators\": np.arange(50,110,25),\n",
        "    \"subsample\": [0.7,0.9],\n",
        "    \"max_features\": [0.7, 0.8, 0.9, 1],\n",
        "    \"learning_rate\": [0.01,0.1,0.05],\n",
        "}\n",
        "\n",
        "# Type of scoring used to compare parameter combinations\n",
        "acc_scorer = metrics.make_scorer(metrics.f1_score)\n",
        "\n",
        "# Run the grid search\n",
        "grid_obj = '_______' ## Complete the code to run grid search with cv = 5\n",
        "grid_obj = grid_obj.'_______' ## Complete the code to fit the grid_obj on train data\n",
        "\n",
        "# Set the clf to the best combination of parameters\n",
        "gbc_tuned = grid_obj.best_estimator_\n",
        "\n",
        "# Fit the best algorithm to the data.\n",
        "gbc_tuned.fit(X_train, y_train)"
      ]
    },
    {
      "cell_type": "markdown",
      "id": "standard-islam",
      "metadata": {
        "id": "standard-islam"
      },
      "source": [
        "#### Checking model performance on training set"
      ]
    },
    {
      "cell_type": "code",
      "execution_count": null,
      "id": "verbal-japanese",
      "metadata": {
        "id": "verbal-japanese"
      },
      "outputs": [],
      "source": [
        "'_______' ## Complete the code to create confusion matrix for train data on tuned estimator"
      ]
    },
    {
      "cell_type": "code",
      "execution_count": null,
      "id": "passive-accent",
      "metadata": {
        "id": "passive-accent"
      },
      "outputs": [],
      "source": [
        "gbc_tuned_model_train_perf = model_performance_classification_sklearn('_______') ## Complete the code to check performance for train data on tuned estimator\n",
        "gbc_tuned_model_train_perf"
      ]
    },
    {
      "cell_type": "markdown",
      "id": "subsequent-royalty",
      "metadata": {
        "id": "subsequent-royalty"
      },
      "source": [
        "#### Checking model performance on test set"
      ]
    },
    {
      "cell_type": "code",
      "execution_count": null,
      "id": "other-pharmaceutical",
      "metadata": {
        "id": "other-pharmaceutical"
      },
      "outputs": [],
      "source": [
        "'_______' ## Complete the code to create confusion matrix for test data on tuned estimator"
      ]
    },
    {
      "cell_type": "code",
      "execution_count": null,
      "id": "forward-perspective",
      "metadata": {
        "id": "forward-perspective"
      },
      "outputs": [],
      "source": [
        "gbc_tuned_model_test_perf = model_performance_classification_sklearn('_______') ## Complete the code to check performance for test data on tuned estimator\n",
        "gbc_tuned_model_test_perf"
      ]
    },
    {
      "cell_type": "markdown",
      "id": "1415e2a1",
      "metadata": {
        "id": "1415e2a1"
      },
      "source": [
        "### Note - You can choose **not to build** XGBoost if you have any installation issues"
      ]
    },
    {
      "cell_type": "markdown",
      "id": "superior-letter",
      "metadata": {
        "id": "superior-letter"
      },
      "source": [
        "### XGBoost Classifier"
      ]
    },
    {
      "cell_type": "code",
      "execution_count": null,
      "id": "laden-brighton",
      "metadata": {
        "id": "laden-brighton"
      },
      "outputs": [],
      "source": [
        "xgb_classifier = '_______' ## Complete the code to define XGBoost Classifier with random state = 1 and eval_metric=\"logloss\"\n",
        "xgb_classifier.'_______' ## Complete the code to fit XGBoost Classifier on the train data"
      ]
    },
    {
      "cell_type": "markdown",
      "id": "muslim-machine",
      "metadata": {
        "id": "muslim-machine"
      },
      "source": [
        "#### Checking model performance on training set"
      ]
    },
    {
      "cell_type": "code",
      "execution_count": null,
      "id": "subsequent-dividend",
      "metadata": {
        "id": "subsequent-dividend"
      },
      "outputs": [],
      "source": [
        "'_______' ## Complete the code to create confusion matrix for train data"
      ]
    },
    {
      "cell_type": "code",
      "execution_count": null,
      "id": "creative-shock",
      "metadata": {
        "id": "creative-shock"
      },
      "outputs": [],
      "source": [
        "xgb_classifier_model_train_perf = model_performance_classification_sklearn('_______') ## Complete the code to check performance on train data\n",
        "xgb_classifier_model_train_perf"
      ]
    },
    {
      "cell_type": "markdown",
      "id": "advised-rabbit",
      "metadata": {
        "id": "advised-rabbit"
      },
      "source": [
        "#### Checking model performance on test set"
      ]
    },
    {
      "cell_type": "code",
      "execution_count": null,
      "id": "intense-delhi",
      "metadata": {
        "id": "intense-delhi"
      },
      "outputs": [],
      "source": [
        "'_______' ## Complete the code to create confusion matrix for test data"
      ]
    },
    {
      "cell_type": "code",
      "execution_count": null,
      "id": "conventional-hierarchy",
      "metadata": {
        "id": "conventional-hierarchy"
      },
      "outputs": [],
      "source": [
        "xgb_classifier_model_test_perf = model_performance_classification_sklearn('_______') ## Complete the code to check performance for test data\n",
        "xgb_classifier_model_test_perf"
      ]
    },
    {
      "cell_type": "markdown",
      "id": "mobile-chosen",
      "metadata": {
        "id": "mobile-chosen"
      },
      "source": [
        "### Hyperparameter Tuning - XGBoost Classifier"
      ]
    },
    {
      "cell_type": "code",
      "execution_count": null,
      "id": "aerial-trunk",
      "metadata": {
        "id": "aerial-trunk"
      },
      "outputs": [],
      "source": [
        "# Choose the type of classifier.\n",
        "xgb_tuned = XGBClassifier(random_state=1, eval_metric=\"logloss\")\n",
        "\n",
        "# Grid of parameters to choose from\n",
        "parameters = {\n",
        "    \"n_estimators\": np.arange(50,110,25),\n",
        "    \"scale_pos_weight\": [1,2,5],\n",
        "    \"subsample\": [0.9, 1],\n",
        "    \"learning_rate\": [0.01,0.1,0.05],\n",
        "    \"gamma\": [1,3]\n",
        "}\n",
        "\n",
        "# Type of scoring used to compare parameter combinations\n",
        "acc_scorer = metrics.make_scorer(metrics.f1_score)\n",
        "\n",
        "# Run the grid search\n",
        "grid_obj = '_______' ## Complete the code to run grid search with cv = 5\n",
        "grid_obj = grid_obj.'_______' ## Complete the code to fit the grid_obj on train data\n",
        "\n",
        "# Set the clf to the best combination of parameters\n",
        "xgb_tuned = grid_obj.best_estimator_\n",
        "\n",
        "# Fit the best algorithm to the data.\n",
        "xgb_tuned.fit(X_train, y_train)"
      ]
    },
    {
      "cell_type": "markdown",
      "id": "psychological-plenty",
      "metadata": {
        "id": "psychological-plenty"
      },
      "source": [
        "#### Checking model performance on training set"
      ]
    },
    {
      "cell_type": "code",
      "execution_count": null,
      "id": "static-yesterday",
      "metadata": {
        "id": "static-yesterday"
      },
      "outputs": [],
      "source": [
        "'_______' ## Complete the code to create confusion matrix for train data on tuned estimator"
      ]
    },
    {
      "cell_type": "code",
      "execution_count": null,
      "id": "premium-today",
      "metadata": {
        "id": "premium-today"
      },
      "outputs": [],
      "source": [
        "xgb_tuned_model_train_perf = model_performance_classification_sklearn('_______') ## Complete the code to check performance for train data on tuned estimator\n",
        "xgb_tuned_model_train_perf"
      ]
    },
    {
      "cell_type": "markdown",
      "id": "awful-judgment",
      "metadata": {
        "id": "awful-judgment"
      },
      "source": [
        "#### Checking model performance on test set"
      ]
    },
    {
      "cell_type": "code",
      "execution_count": null,
      "id": "thrown-toilet",
      "metadata": {
        "id": "thrown-toilet"
      },
      "outputs": [],
      "source": [
        "'_______' ## Complete the code to create confusion matrix for test data on tuned estimator"
      ]
    },
    {
      "cell_type": "code",
      "execution_count": null,
      "id": "available-irrigation",
      "metadata": {
        "id": "available-irrigation"
      },
      "outputs": [],
      "source": [
        "xgb_tuned_model_test_perf = model_performance_classification_sklearn('_______') ## Complete the code to check performance for test data on tuned estimator\n",
        "xgb_tuned_model_test_perf"
      ]
    },
    {
      "cell_type": "markdown",
      "id": "disciplinary-manhattan",
      "metadata": {
        "id": "disciplinary-manhattan"
      },
      "source": [
        "## Stacking Classifier"
      ]
    },
    {
      "cell_type": "code",
      "execution_count": null,
      "id": "massive-cincinnati",
      "metadata": {
        "id": "massive-cincinnati"
      },
      "outputs": [],
      "source": [
        "estimators = [\n",
        "    (\"AdaBoost\", ab_classifier),\n",
        "    (\"Gradient Boosting\", gbc_tuned),\n",
        "    (\"Random Forest\", rf_tuned),\n",
        "]\n",
        "\n",
        "final_estimator = xgb_tuned\n",
        "\n",
        "stacking_classifier = '_______' ## Complete the code to define Stacking Classifier\n",
        "\n",
        "stacking_classifier.'_______' ## Complete the code to fit Stacking Classifier on the train data"
      ]
    },
    {
      "cell_type": "markdown",
      "id": "greek-jefferson",
      "metadata": {
        "id": "greek-jefferson"
      },
      "source": [
        "### Checking model performance on training set"
      ]
    },
    {
      "cell_type": "code",
      "execution_count": null,
      "id": "under-brazilian",
      "metadata": {
        "id": "under-brazilian"
      },
      "outputs": [],
      "source": [
        "'_______' ## Complete the code to create confusion matrix for train data"
      ]
    },
    {
      "cell_type": "code",
      "execution_count": null,
      "id": "apparent-greenhouse",
      "metadata": {
        "id": "apparent-greenhouse"
      },
      "outputs": [],
      "source": [
        "stacking_classifier_model_train_perf = model_performance_classification_sklearn('_______') ## Complete the code to check performance on train data\n",
        "stacking_classifier_model_train_perf"
      ]
    },
    {
      "cell_type": "markdown",
      "id": "corrected-agency",
      "metadata": {
        "id": "corrected-agency"
      },
      "source": [
        "### Checking model performance on test set"
      ]
    },
    {
      "cell_type": "code",
      "execution_count": null,
      "id": "empty-agent",
      "metadata": {
        "id": "empty-agent"
      },
      "outputs": [],
      "source": [
        "'_______' ## Complete the code to create confusion matrix for test data"
      ]
    },
    {
      "cell_type": "code",
      "execution_count": null,
      "id": "quantitative-neighborhood",
      "metadata": {
        "id": "quantitative-neighborhood"
      },
      "outputs": [],
      "source": [
        "stacking_classifier_model_test_perf = model_performance_classification_sklearn('_______') ## Complete the code to check performance for test data\n",
        "stacking_classifier_model_test_perf"
      ]
    },
    {
      "cell_type": "markdown",
      "id": "mechanical-clarity",
      "metadata": {
        "id": "mechanical-clarity"
      },
      "source": [
        "## Model Performance Comparison and Final Model Selection"
      ]
    },
    {
      "cell_type": "code",
      "execution_count": null,
      "id": "future-irrigation",
      "metadata": {
        "id": "future-irrigation"
      },
      "outputs": [],
      "source": [
        "# training performance comparison\n",
        "\n",
        "models_train_comp_df = pd.concat(\n",
        "    [\n",
        "        decision_tree_perf_train.T,\n",
        "        dtree_estimator_model_train_perf.T,\n",
        "        bagging_classifier_model_train_perf.T,\n",
        "        bagging_estimator_tuned_model_train_perf.T,\n",
        "        rf_estimator_model_train_perf.T,\n",
        "        rf_tuned_model_train_perf.T,\n",
        "        ab_classifier_model_train_perf.T,\n",
        "        abc_tuned_model_train_perf.T,\n",
        "        gb_classifier_model_train_perf.T,\n",
        "        gbc_tuned_model_train_perf.T,\n",
        "        xgb_classifier_model_train_perf.T,\n",
        "        xgb_tuned_model_train_perf.T,\n",
        "        stacking_classifier_model_train_perf.T,\n",
        "    ],\n",
        "    axis=1,\n",
        ")\n",
        "models_train_comp_df.columns = [\n",
        "    \"Decision Tree\",\n",
        "    \"Tuned Decision Tree\",\n",
        "    \"Bagging Classifier\",\n",
        "    \"Tuned Bagging Classifier\",\n",
        "    \"Random Forest\",\n",
        "    \"Tuned Random Forest\",\n",
        "    \"Adaboost Classifier\",\n",
        "    \"Tuned Adaboost Classifier\",\n",
        "    \"Gradient Boost Classifier\",\n",
        "    \"Tuned Gradient Boost Classifier\",\n",
        "    \"XGBoost Classifier\",\n",
        "    \"XGBoost Classifier Tuned\",\n",
        "    \"Stacking Classifier\",\n",
        "]\n",
        "print(\"Training performance comparison:\")\n",
        "models_train_comp_df"
      ]
    },
    {
      "cell_type": "code",
      "execution_count": null,
      "id": "collective-fireplace",
      "metadata": {
        "id": "collective-fireplace"
      },
      "outputs": [],
      "source": [
        "# testing performance comparison\n",
        "\n",
        "'_______' ## Complete the code to check performance for test data"
      ]
    },
    {
      "cell_type": "markdown",
      "id": "stone-venezuela",
      "metadata": {
        "id": "stone-venezuela"
      },
      "source": [
        "### Important features of the final model"
      ]
    },
    {
      "cell_type": "code",
      "execution_count": null,
      "id": "forty-mayor",
      "metadata": {
        "id": "forty-mayor"
      },
      "outputs": [],
      "source": [
        "feature_names = X_train.columns\n",
        "importances = gb_classifier.feature_importances_\n",
        "indices = np.argsort(importances)\n",
        "\n",
        "plt.figure(figsize=(12, 12))\n",
        "plt.title(\"Feature Importances\")\n",
        "plt.barh(range(len(indices)), importances[indices], color=\"violet\", align=\"center\")\n",
        "plt.yticks(range(len(indices)), [feature_names[i] for i in indices])\n",
        "plt.xlabel(\"Relative Importance\")\n",
        "plt.show()"
      ]
    },
    {
      "cell_type": "markdown",
      "id": "congressional-knock",
      "metadata": {
        "id": "congressional-knock"
      },
      "source": [
        "## Business Insights and Recommendations"
      ]
    },
    {
      "cell_type": "markdown",
      "id": "Am_0CWgMeXxY",
      "metadata": {
        "id": "Am_0CWgMeXxY"
      },
      "source": [
        "-\n"
      ]
    },
    {
      "cell_type": "markdown",
      "id": "4kJHJ56seYnH",
      "metadata": {
        "id": "4kJHJ56seYnH"
      },
      "source": [
        "___"
      ]
    }
  ],
  "metadata": {
    "colab": {
      "collapsed_sections": [
        "2xUfZBo9JM9e",
        "equivalent-aging",
        "dressed-excuse",
        "wound-communication",
        "theoretical-flexibility",
        "attended-current",
        "macro-decrease",
        "binding-charger",
        "lesser-bacteria",
        "changing-kansas",
        "suspected-asthma",
        "icaAgO2siAcs",
        "allied-association",
        "flexible-independence",
        "teKIRZIDdzpK",
        "71450807",
        "ICezcLI4iL0a",
        "blank-ballet",
        "increasing-diversity",
        "material-reduction",
        "protected-romantic",
        "FnQnoNOCiSwl",
        "aging-corruption",
        "suffering-growing",
        "verified-obligation",
        "increased-civilian",
        "protecting-douglas",
        "elegant-bookmark",
        "colonial-society",
        "possible-vinyl",
        "theoretical-poverty",
        "beneficial-bosnia",
        "joint-appendix",
        "joined-newman",
        "p33jg7JVid1H",
        "divine-legend",
        "grand-popularity",
        "french-breed",
        "increased-sharing",
        "adolescent-carroll",
        "fitting-cameroon",
        "married-terminal",
        "fiscal-language",
        "tribal-rainbow",
        "fuzzy-enemy",
        "standard-islam",
        "subsequent-royalty",
        "1415e2a1",
        "superior-letter",
        "muslim-machine",
        "advised-rabbit",
        "mobile-chosen",
        "psychological-plenty",
        "awful-judgment",
        "disciplinary-manhattan",
        "greek-jefferson",
        "corrected-agency",
        "mechanical-clarity",
        "stone-venezuela",
        "congressional-knock"
      ],
      "provenance": [],
      "include_colab_link": true
    },
    "kernelspec": {
      "display_name": "Python 3",
      "language": "python",
      "name": "python3"
    },
    "language_info": {
      "codemirror_mode": {
        "name": "ipython",
        "version": 3
      },
      "file_extension": ".py",
      "mimetype": "text/x-python",
      "name": "python",
      "nbconvert_exporter": "python",
      "pygments_lexer": "ipython3",
      "version": "3.8.8"
    }
  },
  "nbformat": 4,
  "nbformat_minor": 5
}